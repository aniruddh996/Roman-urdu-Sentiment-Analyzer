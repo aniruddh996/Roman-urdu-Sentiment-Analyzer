{
  "nbformat": 4,
  "nbformat_minor": 0,
  "metadata": {
    "kernelspec": {
      "display_name": "Python 3",
      "language": "python",
      "name": "python3"
    },
    "language_info": {
      "codemirror_mode": {
        "name": "ipython",
        "version": 3
      },
      "file_extension": ".py",
      "mimetype": "text/x-python",
      "name": "python",
      "nbconvert_exporter": "python",
      "pygments_lexer": "ipython3",
      "version": "3.7.6"
    },
    "colab": {
      "name": "roman urdu dataset-checkpoint.ipynb",
      "provenance": [],
      "collapsed_sections": [],
      "toc_visible": true,
      "include_colab_link": true
    }
  },
  "cells": [
    {
      "cell_type": "markdown",
      "metadata": {
        "id": "view-in-github",
        "colab_type": "text"
      },
      "source": [
        "<a href=\"https://colab.research.google.com/github/aniruddh996/Roman-urdu-Sentiment-Analyzer/blob/master/roman_urdu_dataset_checkpoint.ipynb\" target=\"_parent\"><img src=\"https://colab.research.google.com/assets/colab-badge.svg\" alt=\"Open In Colab\"/></a>"
      ]
    },
    {
      "cell_type": "code",
      "metadata": {
        "id": "fCUGvcu0gjX2",
        "colab_type": "code",
        "colab": {}
      },
      "source": [
        ""
      ],
      "execution_count": null,
      "outputs": []
    },
    {
      "cell_type": "code",
      "metadata": {
        "id": "QTvafQJPVxM6",
        "colab_type": "code",
        "colab": {}
      },
      "source": [
        "import pandas as pd\n",
        "import numpy as np\n",
        "\n",
        "import plotly.express as px\n",
        "import plotly.figure_factory as ff\n",
        "\n",
        "import re\n",
        "\n",
        "from nltk.tokenize import word_tokenize\n",
        "\n",
        "from sklearn.feature_extraction.text import CountVectorizer, TfidfTransformer, HashingVectorizer\n",
        "from sklearn.preprocessing import LabelEncoder\n",
        "from sklearn.metrics import confusion_matrix, f1_score\n",
        "from sklearn.metrics import accuracy_score\n",
        "from sklearn.model_selection import train_test_split\n",
        "from sklearn.ensemble import RandomForestClassifier, BaggingClassifier\n",
        "from sklearn.linear_model import LogisticRegression\n",
        "from sklearn import svm\n",
        "from sklearn.linear_model import PassiveAggressiveClassifier, SGDClassifier\n",
        "from sklearn.tree import DecisionTreeClassifier\n",
        "from sklearn.model_selection import cross_val_score, StratifiedKFold, LeaveOneOut, GridSearchCV, RepeatedStratifiedKFold\n",
        "\n"
      ],
      "execution_count": null,
      "outputs": []
    },
    {
      "cell_type": "code",
      "metadata": {
        "id": "7B0MCYzpLo7I",
        "colab_type": "code",
        "colab": {}
      },
      "source": [
        "!pip install --quiet optuna\n",
        "import optuna"
      ],
      "execution_count": null,
      "outputs": []
    },
    {
      "cell_type": "markdown",
      "metadata": {
        "id": "Gxeb1BO8VxM-",
        "colab_type": "text"
      },
      "source": [
        "### data information"
      ]
    },
    {
      "cell_type": "code",
      "metadata": {
        "id": "unDke0CvTkgL",
        "colab_type": "code",
        "colab": {
          "base_uri": "https://localhost:8080/",
          "height": 67
        },
        "outputId": "459f36be-e2a8-422a-c09c-034d3e2d5c46"
      },
      "source": [
        "import nltk\n",
        "nltk.download('punkt')"
      ],
      "execution_count": null,
      "outputs": [
        {
          "output_type": "stream",
          "text": [
            "[nltk_data] Downloading package punkt to /root/nltk_data...\n",
            "[nltk_data]   Unzipping tokenizers/punkt.zip.\n"
          ],
          "name": "stdout"
        },
        {
          "output_type": "execute_result",
          "data": {
            "text/plain": [
              "True"
            ]
          },
          "metadata": {
            "tags": []
          },
          "execution_count": 2
        }
      ]
    },
    {
      "cell_type": "code",
      "metadata": {
        "id": "dKR0tDhyVxM_",
        "colab_type": "code",
        "colab": {
          "base_uri": "https://localhost:8080/",
          "height": 202
        },
        "outputId": "e887fa1f-935a-45d6-afa7-c373d24a400b"
      },
      "source": [
        "#df = pd.read_csv('roman_urdu.csv', header = None)\n",
        "df = pd.read_csv('roman_urdu.csv', header = None)\n",
        "df.columns = ['comment','sentiment','nan']\n",
        "df.info()\n",
        "df.shape"
      ],
      "execution_count": null,
      "outputs": [
        {
          "output_type": "stream",
          "text": [
            "<class 'pandas.core.frame.DataFrame'>\n",
            "RangeIndex: 20229 entries, 0 to 20228\n",
            "Data columns (total 3 columns):\n",
            " #   Column     Non-Null Count  Dtype \n",
            "---  ------     --------------  ----- \n",
            " 0   comment    20228 non-null  object\n",
            " 1   sentiment  20229 non-null  object\n",
            " 2   nan        7 non-null      object\n",
            "dtypes: object(3)\n",
            "memory usage: 474.2+ KB\n"
          ],
          "name": "stdout"
        },
        {
          "output_type": "execute_result",
          "data": {
            "text/plain": [
              "(20229, 3)"
            ]
          },
          "metadata": {
            "tags": []
          },
          "execution_count": 3
        }
      ]
    },
    {
      "cell_type": "markdown",
      "metadata": {
        "id": "CyWKVYYxMVAL",
        "colab_type": "text"
      },
      "source": [
        "### missing values"
      ]
    },
    {
      "cell_type": "code",
      "metadata": {
        "id": "7gCfZMZ5MC-K",
        "colab_type": "code",
        "colab": {
          "base_uri": "https://localhost:8080/",
          "height": 84
        },
        "outputId": "c56091ea-3b91-421f-b198-b896320e0b9c"
      },
      "source": [
        "df.isnull().sum()\n"
      ],
      "execution_count": null,
      "outputs": [
        {
          "output_type": "execute_result",
          "data": {
            "text/plain": [
              "comment          1\n",
              "sentiment        0\n",
              "nan          20222\n",
              "dtype: int64"
            ]
          },
          "metadata": {
            "tags": []
          },
          "execution_count": 4
        }
      ]
    },
    {
      "cell_type": "code",
      "metadata": {
        "id": "b8kBzFt-VxNE",
        "colab_type": "code",
        "colab": {
          "base_uri": "https://localhost:8080/",
          "height": 195
        },
        "outputId": "7a555a7a-5e6c-4d84-8345-7c019c019f24"
      },
      "source": [
        "df.drop(columns = ['nan'], inplace = True)\n",
        "df.head()"
      ],
      "execution_count": null,
      "outputs": [
        {
          "output_type": "execute_result",
          "data": {
            "text/html": [
              "<div>\n",
              "<style scoped>\n",
              "    .dataframe tbody tr th:only-of-type {\n",
              "        vertical-align: middle;\n",
              "    }\n",
              "\n",
              "    .dataframe tbody tr th {\n",
              "        vertical-align: top;\n",
              "    }\n",
              "\n",
              "    .dataframe thead th {\n",
              "        text-align: right;\n",
              "    }\n",
              "</style>\n",
              "<table border=\"1\" class=\"dataframe\">\n",
              "  <thead>\n",
              "    <tr style=\"text-align: right;\">\n",
              "      <th></th>\n",
              "      <th>comment</th>\n",
              "      <th>sentiment</th>\n",
              "    </tr>\n",
              "  </thead>\n",
              "  <tbody>\n",
              "    <tr>\n",
              "      <th>0</th>\n",
              "      <td>Sai kha ya her kisi kay bus ki bat nhi hai lak...</td>\n",
              "      <td>Positive</td>\n",
              "    </tr>\n",
              "    <tr>\n",
              "      <th>1</th>\n",
              "      <td>sahi bt h</td>\n",
              "      <td>Positive</td>\n",
              "    </tr>\n",
              "    <tr>\n",
              "      <th>2</th>\n",
              "      <td>Kya bt hai,</td>\n",
              "      <td>Positive</td>\n",
              "    </tr>\n",
              "    <tr>\n",
              "      <th>3</th>\n",
              "      <td>Wah je wah</td>\n",
              "      <td>Positive</td>\n",
              "    </tr>\n",
              "    <tr>\n",
              "      <th>4</th>\n",
              "      <td>Are wha kaya bat hai</td>\n",
              "      <td>Positive</td>\n",
              "    </tr>\n",
              "  </tbody>\n",
              "</table>\n",
              "</div>"
            ],
            "text/plain": [
              "                                             comment sentiment\n",
              "0  Sai kha ya her kisi kay bus ki bat nhi hai lak...  Positive\n",
              "1                                          sahi bt h  Positive\n",
              "2                                        Kya bt hai,  Positive\n",
              "3                                         Wah je wah  Positive\n",
              "4                               Are wha kaya bat hai  Positive"
            ]
          },
          "metadata": {
            "tags": []
          },
          "execution_count": 5
        }
      ]
    },
    {
      "cell_type": "code",
      "metadata": {
        "id": "EFH2M6dvPoyt",
        "colab_type": "code",
        "colab": {}
      },
      "source": [
        "df = df.dropna()"
      ],
      "execution_count": null,
      "outputs": []
    },
    {
      "cell_type": "code",
      "metadata": {
        "id": "YF4AjENpPopM",
        "colab_type": "code",
        "colab": {
          "base_uri": "https://localhost:8080/",
          "height": 168
        },
        "outputId": "6d4434db-3505-47d6-c2f4-3e68f9980d87"
      },
      "source": [
        "df.info()"
      ],
      "execution_count": null,
      "outputs": [
        {
          "output_type": "stream",
          "text": [
            "<class 'pandas.core.frame.DataFrame'>\n",
            "Int64Index: 20228 entries, 0 to 20228\n",
            "Data columns (total 2 columns):\n",
            " #   Column     Non-Null Count  Dtype \n",
            "---  ------     --------------  ----- \n",
            " 0   comment    20228 non-null  object\n",
            " 1   sentiment  20228 non-null  object\n",
            "dtypes: object(2)\n",
            "memory usage: 474.1+ KB\n"
          ],
          "name": "stdout"
        }
      ]
    },
    {
      "cell_type": "code",
      "metadata": {
        "id": "crBWr3FdYAPj",
        "colab_type": "code",
        "colab": {
          "base_uri": "https://localhost:8080/",
          "height": 34
        },
        "outputId": "1d3fc194-0d33-4a5e-c232-580c38aecd76"
      },
      "source": [
        "df[df['sentiment'] == 'Neative'].index"
      ],
      "execution_count": null,
      "outputs": [
        {
          "output_type": "execute_result",
          "data": {
            "text/plain": [
              "Int64Index([13277], dtype='int64')"
            ]
          },
          "metadata": {
            "tags": []
          },
          "execution_count": 8
        }
      ]
    },
    {
      "cell_type": "code",
      "metadata": {
        "id": "2mQifCOeVxNM",
        "colab_type": "code",
        "colab": {
          "base_uri": "https://localhost:8080/",
          "height": 136
        },
        "outputId": "506f4729-8e52-4b25-b749-38db173b33cf"
      },
      "source": [
        "i = df[df['sentiment'] == 'Neative'].index\n",
        "df.drop(i, inplace = True)\n",
        "sentiment_size = df['sentiment'].value_counts().reset_index()\n",
        "sentiment_size.columns = ['sentiment', 'size']\n",
        "sentiment_size"
      ],
      "execution_count": null,
      "outputs": [
        {
          "output_type": "execute_result",
          "data": {
            "text/html": [
              "<div>\n",
              "<style scoped>\n",
              "    .dataframe tbody tr th:only-of-type {\n",
              "        vertical-align: middle;\n",
              "    }\n",
              "\n",
              "    .dataframe tbody tr th {\n",
              "        vertical-align: top;\n",
              "    }\n",
              "\n",
              "    .dataframe thead th {\n",
              "        text-align: right;\n",
              "    }\n",
              "</style>\n",
              "<table border=\"1\" class=\"dataframe\">\n",
              "  <thead>\n",
              "    <tr style=\"text-align: right;\">\n",
              "      <th></th>\n",
              "      <th>sentiment</th>\n",
              "      <th>size</th>\n",
              "    </tr>\n",
              "  </thead>\n",
              "  <tbody>\n",
              "    <tr>\n",
              "      <th>0</th>\n",
              "      <td>Neutral</td>\n",
              "      <td>8928</td>\n",
              "    </tr>\n",
              "    <tr>\n",
              "      <th>1</th>\n",
              "      <td>Positive</td>\n",
              "      <td>6013</td>\n",
              "    </tr>\n",
              "    <tr>\n",
              "      <th>2</th>\n",
              "      <td>Negative</td>\n",
              "      <td>5286</td>\n",
              "    </tr>\n",
              "  </tbody>\n",
              "</table>\n",
              "</div>"
            ],
            "text/plain": [
              "  sentiment  size\n",
              "0   Neutral  8928\n",
              "1  Positive  6013\n",
              "2  Negative  5286"
            ]
          },
          "metadata": {
            "tags": []
          },
          "execution_count": 9
        }
      ]
    },
    {
      "cell_type": "markdown",
      "metadata": {
        "id": "xMhtoUADVxNS",
        "colab_type": "text"
      },
      "source": [
        "### Sentiment visualization"
      ]
    },
    {
      "cell_type": "code",
      "metadata": {
        "id": "SirxTYvBVxNT",
        "colab_type": "code",
        "colab": {
          "base_uri": "https://localhost:8080/",
          "height": 542
        },
        "outputId": "7fcf2311-f7f4-407a-fae6-9a196c60e425"
      },
      "source": [
        "px.bar(sentiment_size, x = 'sentiment', y = 'size', color = 'size', title = 'sentiment size in the data')"
      ],
      "execution_count": null,
      "outputs": [
        {
          "output_type": "display_data",
          "data": {
            "text/html": [
              "<html>\n",
              "<head><meta charset=\"utf-8\" /></head>\n",
              "<body>\n",
              "    <div>\n",
              "            <script src=\"https://cdnjs.cloudflare.com/ajax/libs/mathjax/2.7.5/MathJax.js?config=TeX-AMS-MML_SVG\"></script><script type=\"text/javascript\">if (window.MathJax) {MathJax.Hub.Config({SVG: {font: \"STIX-Web\"}});}</script>\n",
              "                <script type=\"text/javascript\">window.PlotlyConfig = {MathJaxConfig: 'local'};</script>\n",
              "        <script src=\"https://cdn.plot.ly/plotly-latest.min.js\"></script>    \n",
              "            <div id=\"af703488-2978-4cfa-ac3a-79db40116f18\" class=\"plotly-graph-div\" style=\"height:525px; width:100%;\"></div>\n",
              "            <script type=\"text/javascript\">\n",
              "                \n",
              "                    window.PLOTLYENV=window.PLOTLYENV || {};\n",
              "                    \n",
              "                if (document.getElementById(\"af703488-2978-4cfa-ac3a-79db40116f18\")) {\n",
              "                    Plotly.newPlot(\n",
              "                        'af703488-2978-4cfa-ac3a-79db40116f18',\n",
              "                        [{\"alignmentgroup\": \"True\", \"hoverlabel\": {\"namelength\": 0}, \"hovertemplate\": \"sentiment=%{x}<br>size=%{marker.color}\", \"legendgroup\": \"\", \"marker\": {\"color\": [8928, 6013, 5286], \"coloraxis\": \"coloraxis\"}, \"name\": \"\", \"offsetgroup\": \"\", \"orientation\": \"v\", \"showlegend\": false, \"textposition\": \"auto\", \"type\": \"bar\", \"x\": [\"Neutral\", \"Positive\", \"Negative\"], \"xaxis\": \"x\", \"y\": [8928, 6013, 5286], \"yaxis\": \"y\"}],\n",
              "                        {\"barmode\": \"relative\", \"coloraxis\": {\"colorbar\": {\"title\": {\"text\": \"size\"}}, \"colorscale\": [[0.0, \"#0d0887\"], [0.1111111111111111, \"#46039f\"], [0.2222222222222222, \"#7201a8\"], [0.3333333333333333, \"#9c179e\"], [0.4444444444444444, \"#bd3786\"], [0.5555555555555556, \"#d8576b\"], [0.6666666666666666, \"#ed7953\"], [0.7777777777777778, \"#fb9f3a\"], [0.8888888888888888, \"#fdca26\"], [1.0, \"#f0f921\"]]}, \"legend\": {\"tracegroupgap\": 0}, \"template\": {\"data\": {\"bar\": [{\"error_x\": {\"color\": \"#2a3f5f\"}, \"error_y\": {\"color\": \"#2a3f5f\"}, \"marker\": {\"line\": {\"color\": \"#E5ECF6\", \"width\": 0.5}}, \"type\": \"bar\"}], \"barpolar\": [{\"marker\": {\"line\": {\"color\": \"#E5ECF6\", \"width\": 0.5}}, \"type\": \"barpolar\"}], \"carpet\": [{\"aaxis\": {\"endlinecolor\": \"#2a3f5f\", \"gridcolor\": \"white\", \"linecolor\": \"white\", \"minorgridcolor\": \"white\", \"startlinecolor\": \"#2a3f5f\"}, \"baxis\": {\"endlinecolor\": \"#2a3f5f\", \"gridcolor\": \"white\", \"linecolor\": \"white\", \"minorgridcolor\": \"white\", \"startlinecolor\": \"#2a3f5f\"}, \"type\": \"carpet\"}], \"choropleth\": [{\"colorbar\": {\"outlinewidth\": 0, \"ticks\": \"\"}, \"type\": \"choropleth\"}], \"contour\": [{\"colorbar\": {\"outlinewidth\": 0, \"ticks\": \"\"}, \"colorscale\": [[0.0, \"#0d0887\"], [0.1111111111111111, \"#46039f\"], [0.2222222222222222, \"#7201a8\"], [0.3333333333333333, \"#9c179e\"], [0.4444444444444444, \"#bd3786\"], [0.5555555555555556, \"#d8576b\"], [0.6666666666666666, \"#ed7953\"], [0.7777777777777778, \"#fb9f3a\"], [0.8888888888888888, \"#fdca26\"], [1.0, \"#f0f921\"]], \"type\": \"contour\"}], \"contourcarpet\": [{\"colorbar\": {\"outlinewidth\": 0, \"ticks\": \"\"}, \"type\": \"contourcarpet\"}], \"heatmap\": [{\"colorbar\": {\"outlinewidth\": 0, \"ticks\": \"\"}, \"colorscale\": [[0.0, \"#0d0887\"], [0.1111111111111111, \"#46039f\"], [0.2222222222222222, \"#7201a8\"], [0.3333333333333333, \"#9c179e\"], [0.4444444444444444, \"#bd3786\"], [0.5555555555555556, \"#d8576b\"], [0.6666666666666666, \"#ed7953\"], [0.7777777777777778, \"#fb9f3a\"], [0.8888888888888888, \"#fdca26\"], [1.0, \"#f0f921\"]], \"type\": \"heatmap\"}], \"heatmapgl\": [{\"colorbar\": {\"outlinewidth\": 0, \"ticks\": \"\"}, \"colorscale\": [[0.0, \"#0d0887\"], [0.1111111111111111, \"#46039f\"], [0.2222222222222222, \"#7201a8\"], [0.3333333333333333, \"#9c179e\"], [0.4444444444444444, \"#bd3786\"], [0.5555555555555556, \"#d8576b\"], [0.6666666666666666, \"#ed7953\"], [0.7777777777777778, \"#fb9f3a\"], [0.8888888888888888, \"#fdca26\"], [1.0, \"#f0f921\"]], \"type\": \"heatmapgl\"}], \"histogram\": [{\"marker\": {\"colorbar\": {\"outlinewidth\": 0, \"ticks\": \"\"}}, \"type\": \"histogram\"}], \"histogram2d\": [{\"colorbar\": {\"outlinewidth\": 0, \"ticks\": \"\"}, \"colorscale\": [[0.0, \"#0d0887\"], [0.1111111111111111, \"#46039f\"], [0.2222222222222222, \"#7201a8\"], [0.3333333333333333, \"#9c179e\"], [0.4444444444444444, \"#bd3786\"], [0.5555555555555556, \"#d8576b\"], [0.6666666666666666, \"#ed7953\"], [0.7777777777777778, \"#fb9f3a\"], [0.8888888888888888, \"#fdca26\"], [1.0, \"#f0f921\"]], \"type\": \"histogram2d\"}], \"histogram2dcontour\": [{\"colorbar\": {\"outlinewidth\": 0, \"ticks\": \"\"}, \"colorscale\": [[0.0, \"#0d0887\"], [0.1111111111111111, \"#46039f\"], [0.2222222222222222, \"#7201a8\"], [0.3333333333333333, \"#9c179e\"], [0.4444444444444444, \"#bd3786\"], [0.5555555555555556, \"#d8576b\"], [0.6666666666666666, \"#ed7953\"], [0.7777777777777778, \"#fb9f3a\"], [0.8888888888888888, \"#fdca26\"], [1.0, \"#f0f921\"]], \"type\": \"histogram2dcontour\"}], \"mesh3d\": [{\"colorbar\": {\"outlinewidth\": 0, \"ticks\": \"\"}, \"type\": \"mesh3d\"}], \"parcoords\": [{\"line\": {\"colorbar\": {\"outlinewidth\": 0, \"ticks\": \"\"}}, \"type\": \"parcoords\"}], \"pie\": [{\"automargin\": true, \"type\": \"pie\"}], \"scatter\": [{\"marker\": {\"colorbar\": {\"outlinewidth\": 0, \"ticks\": \"\"}}, \"type\": \"scatter\"}], \"scatter3d\": [{\"line\": {\"colorbar\": {\"outlinewidth\": 0, \"ticks\": \"\"}}, \"marker\": {\"colorbar\": {\"outlinewidth\": 0, \"ticks\": \"\"}}, \"type\": \"scatter3d\"}], \"scattercarpet\": [{\"marker\": {\"colorbar\": {\"outlinewidth\": 0, \"ticks\": \"\"}}, \"type\": \"scattercarpet\"}], \"scattergeo\": [{\"marker\": {\"colorbar\": {\"outlinewidth\": 0, \"ticks\": \"\"}}, \"type\": \"scattergeo\"}], \"scattergl\": [{\"marker\": {\"colorbar\": {\"outlinewidth\": 0, \"ticks\": \"\"}}, \"type\": \"scattergl\"}], \"scattermapbox\": [{\"marker\": {\"colorbar\": {\"outlinewidth\": 0, \"ticks\": \"\"}}, \"type\": \"scattermapbox\"}], \"scatterpolar\": [{\"marker\": {\"colorbar\": {\"outlinewidth\": 0, \"ticks\": \"\"}}, \"type\": \"scatterpolar\"}], \"scatterpolargl\": [{\"marker\": {\"colorbar\": {\"outlinewidth\": 0, \"ticks\": \"\"}}, \"type\": \"scatterpolargl\"}], \"scatterternary\": [{\"marker\": {\"colorbar\": {\"outlinewidth\": 0, \"ticks\": \"\"}}, \"type\": \"scatterternary\"}], \"surface\": [{\"colorbar\": {\"outlinewidth\": 0, \"ticks\": \"\"}, \"colorscale\": [[0.0, \"#0d0887\"], [0.1111111111111111, \"#46039f\"], [0.2222222222222222, \"#7201a8\"], [0.3333333333333333, \"#9c179e\"], [0.4444444444444444, \"#bd3786\"], [0.5555555555555556, \"#d8576b\"], [0.6666666666666666, \"#ed7953\"], [0.7777777777777778, \"#fb9f3a\"], [0.8888888888888888, \"#fdca26\"], [1.0, \"#f0f921\"]], \"type\": \"surface\"}], \"table\": [{\"cells\": {\"fill\": {\"color\": \"#EBF0F8\"}, \"line\": {\"color\": \"white\"}}, \"header\": {\"fill\": {\"color\": \"#C8D4E3\"}, \"line\": {\"color\": \"white\"}}, \"type\": \"table\"}]}, \"layout\": {\"annotationdefaults\": {\"arrowcolor\": \"#2a3f5f\", \"arrowhead\": 0, \"arrowwidth\": 1}, \"coloraxis\": {\"colorbar\": {\"outlinewidth\": 0, \"ticks\": \"\"}}, \"colorscale\": {\"diverging\": [[0, \"#8e0152\"], [0.1, \"#c51b7d\"], [0.2, \"#de77ae\"], [0.3, \"#f1b6da\"], [0.4, \"#fde0ef\"], [0.5, \"#f7f7f7\"], [0.6, \"#e6f5d0\"], [0.7, \"#b8e186\"], [0.8, \"#7fbc41\"], [0.9, \"#4d9221\"], [1, \"#276419\"]], \"sequential\": [[0.0, \"#0d0887\"], [0.1111111111111111, \"#46039f\"], [0.2222222222222222, \"#7201a8\"], [0.3333333333333333, \"#9c179e\"], [0.4444444444444444, \"#bd3786\"], [0.5555555555555556, \"#d8576b\"], [0.6666666666666666, \"#ed7953\"], [0.7777777777777778, \"#fb9f3a\"], [0.8888888888888888, \"#fdca26\"], [1.0, \"#f0f921\"]], \"sequentialminus\": [[0.0, \"#0d0887\"], [0.1111111111111111, \"#46039f\"], [0.2222222222222222, \"#7201a8\"], [0.3333333333333333, \"#9c179e\"], [0.4444444444444444, \"#bd3786\"], [0.5555555555555556, \"#d8576b\"], [0.6666666666666666, \"#ed7953\"], [0.7777777777777778, \"#fb9f3a\"], [0.8888888888888888, \"#fdca26\"], [1.0, \"#f0f921\"]]}, \"colorway\": [\"#636efa\", \"#EF553B\", \"#00cc96\", \"#ab63fa\", \"#FFA15A\", \"#19d3f3\", \"#FF6692\", \"#B6E880\", \"#FF97FF\", \"#FECB52\"], \"font\": {\"color\": \"#2a3f5f\"}, \"geo\": {\"bgcolor\": \"white\", \"lakecolor\": \"white\", \"landcolor\": \"#E5ECF6\", \"showlakes\": true, \"showland\": true, \"subunitcolor\": \"white\"}, \"hoverlabel\": {\"align\": \"left\"}, \"hovermode\": \"closest\", \"mapbox\": {\"style\": \"light\"}, \"paper_bgcolor\": \"white\", \"plot_bgcolor\": \"#E5ECF6\", \"polar\": {\"angularaxis\": {\"gridcolor\": \"white\", \"linecolor\": \"white\", \"ticks\": \"\"}, \"bgcolor\": \"#E5ECF6\", \"radialaxis\": {\"gridcolor\": \"white\", \"linecolor\": \"white\", \"ticks\": \"\"}}, \"scene\": {\"xaxis\": {\"backgroundcolor\": \"#E5ECF6\", \"gridcolor\": \"white\", \"gridwidth\": 2, \"linecolor\": \"white\", \"showbackground\": true, \"ticks\": \"\", \"zerolinecolor\": \"white\"}, \"yaxis\": {\"backgroundcolor\": \"#E5ECF6\", \"gridcolor\": \"white\", \"gridwidth\": 2, \"linecolor\": \"white\", \"showbackground\": true, \"ticks\": \"\", \"zerolinecolor\": \"white\"}, \"zaxis\": {\"backgroundcolor\": \"#E5ECF6\", \"gridcolor\": \"white\", \"gridwidth\": 2, \"linecolor\": \"white\", \"showbackground\": true, \"ticks\": \"\", \"zerolinecolor\": \"white\"}}, \"shapedefaults\": {\"line\": {\"color\": \"#2a3f5f\"}}, \"ternary\": {\"aaxis\": {\"gridcolor\": \"white\", \"linecolor\": \"white\", \"ticks\": \"\"}, \"baxis\": {\"gridcolor\": \"white\", \"linecolor\": \"white\", \"ticks\": \"\"}, \"bgcolor\": \"#E5ECF6\", \"caxis\": {\"gridcolor\": \"white\", \"linecolor\": \"white\", \"ticks\": \"\"}}, \"title\": {\"x\": 0.05}, \"xaxis\": {\"automargin\": true, \"gridcolor\": \"white\", \"linecolor\": \"white\", \"ticks\": \"\", \"title\": {\"standoff\": 15}, \"zerolinecolor\": \"white\", \"zerolinewidth\": 2}, \"yaxis\": {\"automargin\": true, \"gridcolor\": \"white\", \"linecolor\": \"white\", \"ticks\": \"\", \"title\": {\"standoff\": 15}, \"zerolinecolor\": \"white\", \"zerolinewidth\": 2}}}, \"title\": {\"text\": \"sentiment size in the data\"}, \"xaxis\": {\"anchor\": \"y\", \"domain\": [0.0, 1.0], \"title\": {\"text\": \"sentiment\"}}, \"yaxis\": {\"anchor\": \"x\", \"domain\": [0.0, 1.0], \"title\": {\"text\": \"size\"}}},\n",
              "                        {\"responsive\": true}\n",
              "                    ).then(function(){\n",
              "                            \n",
              "var gd = document.getElementById('af703488-2978-4cfa-ac3a-79db40116f18');\n",
              "var x = new MutationObserver(function (mutations, observer) {{\n",
              "        var display = window.getComputedStyle(gd).display;\n",
              "        if (!display || display === 'none') {{\n",
              "            console.log([gd, 'removed!']);\n",
              "            Plotly.purge(gd);\n",
              "            observer.disconnect();\n",
              "        }}\n",
              "}});\n",
              "\n",
              "// Listen for the removal of the full notebook cells\n",
              "var notebookContainer = gd.closest('#notebook-container');\n",
              "if (notebookContainer) {{\n",
              "    x.observe(notebookContainer, {childList: true});\n",
              "}}\n",
              "\n",
              "// Listen for the clearing of the current output cell\n",
              "var outputEl = gd.closest('.output');\n",
              "if (outputEl) {{\n",
              "    x.observe(outputEl, {childList: true});\n",
              "}}\n",
              "\n",
              "                        })\n",
              "                };\n",
              "                \n",
              "            </script>\n",
              "        </div>\n",
              "</body>\n",
              "</html>"
            ]
          },
          "metadata": {
            "tags": []
          }
        }
      ]
    },
    {
      "cell_type": "markdown",
      "metadata": {
        "id": "tzOHvuE-Jq-V",
        "colab_type": "text"
      },
      "source": [
        "### dropping features from dataset"
      ]
    },
    {
      "cell_type": "code",
      "metadata": {
        "id": "yu30XnxvJqd4",
        "colab_type": "code",
        "colab": {}
      },
      "source": [
        "def drop_features(features, data):\n",
        "  data.drop(features, inplace = True, axis = 1)"
      ],
      "execution_count": null,
      "outputs": []
    },
    {
      "cell_type": "markdown",
      "metadata": {
        "id": "KAORsfQmVxNW",
        "colab_type": "text"
      },
      "source": [
        "### Preprocessing data"
      ]
    },
    {
      "cell_type": "markdown",
      "metadata": {
        "id": "1EWVw5-E1pLv",
        "colab_type": "text"
      },
      "source": [
        "This is a format regular expression that removes signs and unnessacery symbols. This process is to clean the data. Now let's use it in a sample sentence"
      ]
    },
    {
      "cell_type": "code",
      "metadata": {
        "id": "KkTUmOK_VxNX",
        "colab_type": "code",
        "colab": {
          "base_uri": "https://localhost:8080/",
          "height": 34
        },
        "outputId": "7cb04fe7-747c-42b3-9875-99a971c06581"
      },
      "source": [
        "a = re.sub(\"(@[A-Za-z0-9]+)|([^0-9A-Za-z \\t])\", \" \",\"jao bhai! aaj exam hai....\")\n",
        "print(a)"
      ],
      "execution_count": null,
      "outputs": [
        {
          "output_type": "stream",
          "text": [
            "jao bhai  aaj exam hai    \n"
          ],
          "name": "stdout"
        }
      ]
    },
    {
      "cell_type": "code",
      "metadata": {
        "id": "nmjnvSlttWCk",
        "colab_type": "code",
        "colab": {}
      },
      "source": [
        "def text_process(text):\n",
        "  return \" \".join(re.sub(\"(@[A-Za-z0-9]+)|([^0-9A-Za-z \\t])\", \" \",str(text).lower()).split())\n",
        "\n",
        "df['processed_text'] = df[\"comment\"].apply(text_process)"
      ],
      "execution_count": null,
      "outputs": []
    },
    {
      "cell_type": "code",
      "metadata": {
        "id": "TxdJwvuRtWAF",
        "colab_type": "code",
        "colab": {
          "base_uri": "https://localhost:8080/",
          "height": 195
        },
        "outputId": "0b36d676-03ff-496b-9020-de23e31e90e4"
      },
      "source": [
        "df.head()"
      ],
      "execution_count": null,
      "outputs": [
        {
          "output_type": "execute_result",
          "data": {
            "text/html": [
              "<div>\n",
              "<style scoped>\n",
              "    .dataframe tbody tr th:only-of-type {\n",
              "        vertical-align: middle;\n",
              "    }\n",
              "\n",
              "    .dataframe tbody tr th {\n",
              "        vertical-align: top;\n",
              "    }\n",
              "\n",
              "    .dataframe thead th {\n",
              "        text-align: right;\n",
              "    }\n",
              "</style>\n",
              "<table border=\"1\" class=\"dataframe\">\n",
              "  <thead>\n",
              "    <tr style=\"text-align: right;\">\n",
              "      <th></th>\n",
              "      <th>comment</th>\n",
              "      <th>sentiment</th>\n",
              "      <th>processed_text</th>\n",
              "    </tr>\n",
              "  </thead>\n",
              "  <tbody>\n",
              "    <tr>\n",
              "      <th>0</th>\n",
              "      <td>Sai kha ya her kisi kay bus ki bat nhi hai lak...</td>\n",
              "      <td>Positive</td>\n",
              "      <td>sai kha ya her kisi kay bus ki bat nhi hai lak...</td>\n",
              "    </tr>\n",
              "    <tr>\n",
              "      <th>1</th>\n",
              "      <td>sahi bt h</td>\n",
              "      <td>Positive</td>\n",
              "      <td>sahi bt h</td>\n",
              "    </tr>\n",
              "    <tr>\n",
              "      <th>2</th>\n",
              "      <td>Kya bt hai,</td>\n",
              "      <td>Positive</td>\n",
              "      <td>kya bt hai</td>\n",
              "    </tr>\n",
              "    <tr>\n",
              "      <th>3</th>\n",
              "      <td>Wah je wah</td>\n",
              "      <td>Positive</td>\n",
              "      <td>wah je wah</td>\n",
              "    </tr>\n",
              "    <tr>\n",
              "      <th>4</th>\n",
              "      <td>Are wha kaya bat hai</td>\n",
              "      <td>Positive</td>\n",
              "      <td>are wha kaya bat hai</td>\n",
              "    </tr>\n",
              "  </tbody>\n",
              "</table>\n",
              "</div>"
            ],
            "text/plain": [
              "                                             comment  ...                                     processed_text\n",
              "0  Sai kha ya her kisi kay bus ki bat nhi hai lak...  ...  sai kha ya her kisi kay bus ki bat nhi hai lak...\n",
              "1                                          sahi bt h  ...                                          sahi bt h\n",
              "2                                        Kya bt hai,  ...                                         kya bt hai\n",
              "3                                         Wah je wah  ...                                         wah je wah\n",
              "4                               Are wha kaya bat hai  ...                               are wha kaya bat hai\n",
              "\n",
              "[5 rows x 3 columns]"
            ]
          },
          "metadata": {
            "tags": []
          },
          "execution_count": 14
        }
      ]
    },
    {
      "cell_type": "markdown",
      "metadata": {
        "id": "muw6MdXp6sXY",
        "colab_type": "text"
      },
      "source": [
        "### Word tokenization and Removing Stopwords"
      ]
    },
    {
      "cell_type": "code",
      "metadata": {
        "id": "dfEw1dsWtV9E",
        "colab_type": "code",
        "colab": {}
      },
      "source": [
        "stopwords=['ai', 'ayi', 'hy', 'hai', 'main', 'ki', 'tha', 'koi', 'ko', 'sy', 'woh', 'bhi', 'aur', 'wo', 'yeh', 'rha', 'hota', 'ho', 'ga', 'ka', 'le', 'lye', 'kr', 'kar', 'lye', 'liye', 'hotay', 'waisay', 'gya', 'gaya', 'kch', 'ab', 'thy', 'thay', 'houn', 'hain', 'han', 'to', 'is', 'hi', 'jo', 'kya', 'thi', 'se', 'pe', 'phr', 'wala', 'waisay', 'us', 'na', 'ny', 'hun', 'rha', 'raha', 'ja', 'rahay', 'abi', 'uski', 'ne', 'haan', 'acha', 'nai', 'sent', 'photo', 'you', 'kafi', 'gai', 'rhy', 'kuch', 'jata', 'aye', 'ya', 'dono', 'hoa', 'aese', 'de', 'wohi', 'jati', 'jb', 'krta', 'lg', 'rahi', 'hui', 'karna', 'krna', 'gi', 'hova', 'yehi', 'jana', 'jye', 'chal', 'mil', 'tu', 'hum', 'par', 'hay', 'kis', 'sb', 'gy', 'dain', 'krny', 'tou']"
      ],
      "execution_count": null,
      "outputs": []
    },
    {
      "cell_type": "code",
      "metadata": {
        "id": "8TBKFZ8ftV3Y",
        "colab_type": "code",
        "colab": {}
      },
      "source": [
        "def remove_stopwords(text):\n",
        "  word_tokens = word_tokenize(text)\n",
        "  filtered_sentence = [w for w in word_tokens if not w in stopwords]\n",
        "  return \" \".join(filtered_sentence)\n"
      ],
      "execution_count": null,
      "outputs": []
    },
    {
      "cell_type": "code",
      "metadata": {
        "id": "AGZWLmANtVwm",
        "colab_type": "code",
        "colab": {
          "base_uri": "https://localhost:8080/",
          "height": 195
        },
        "outputId": "8101a97f-0f55-4544-8b6f-616f115505f2"
      },
      "source": [
        "df['removed_stopwords'] = df['processed_text'].apply(remove_stopwords)\n",
        "#dropping the processed text\n",
        "drop_features(['processed_text'],df)\n",
        "df.head()"
      ],
      "execution_count": null,
      "outputs": [
        {
          "output_type": "execute_result",
          "data": {
            "text/html": [
              "<div>\n",
              "<style scoped>\n",
              "    .dataframe tbody tr th:only-of-type {\n",
              "        vertical-align: middle;\n",
              "    }\n",
              "\n",
              "    .dataframe tbody tr th {\n",
              "        vertical-align: top;\n",
              "    }\n",
              "\n",
              "    .dataframe thead th {\n",
              "        text-align: right;\n",
              "    }\n",
              "</style>\n",
              "<table border=\"1\" class=\"dataframe\">\n",
              "  <thead>\n",
              "    <tr style=\"text-align: right;\">\n",
              "      <th></th>\n",
              "      <th>comment</th>\n",
              "      <th>sentiment</th>\n",
              "      <th>removed_stopwords</th>\n",
              "    </tr>\n",
              "  </thead>\n",
              "  <tbody>\n",
              "    <tr>\n",
              "      <th>0</th>\n",
              "      <td>Sai kha ya her kisi kay bus ki bat nhi hai lak...</td>\n",
              "      <td>Positive</td>\n",
              "      <td>sai kha her kisi kay bus bat nhi lakin hal kal...</td>\n",
              "    </tr>\n",
              "    <tr>\n",
              "      <th>1</th>\n",
              "      <td>sahi bt h</td>\n",
              "      <td>Positive</td>\n",
              "      <td>sahi bt h</td>\n",
              "    </tr>\n",
              "    <tr>\n",
              "      <th>2</th>\n",
              "      <td>Kya bt hai,</td>\n",
              "      <td>Positive</td>\n",
              "      <td>bt</td>\n",
              "    </tr>\n",
              "    <tr>\n",
              "      <th>3</th>\n",
              "      <td>Wah je wah</td>\n",
              "      <td>Positive</td>\n",
              "      <td>wah je wah</td>\n",
              "    </tr>\n",
              "    <tr>\n",
              "      <th>4</th>\n",
              "      <td>Are wha kaya bat hai</td>\n",
              "      <td>Positive</td>\n",
              "      <td>are wha kaya bat</td>\n",
              "    </tr>\n",
              "  </tbody>\n",
              "</table>\n",
              "</div>"
            ],
            "text/plain": [
              "                                             comment  ...                                  removed_stopwords\n",
              "0  Sai kha ya her kisi kay bus ki bat nhi hai lak...  ...  sai kha her kisi kay bus bat nhi lakin hal kal...\n",
              "1                                          sahi bt h  ...                                          sahi bt h\n",
              "2                                        Kya bt hai,  ...                                                 bt\n",
              "3                                         Wah je wah  ...                                         wah je wah\n",
              "4                               Are wha kaya bat hai  ...                                   are wha kaya bat\n",
              "\n",
              "[5 rows x 3 columns]"
            ]
          },
          "metadata": {
            "tags": []
          },
          "execution_count": 17
        }
      ]
    },
    {
      "cell_type": "markdown",
      "metadata": {
        "id": "U2bhjz9YVM6U",
        "colab_type": "text"
      },
      "source": [
        "### deleting the comment column "
      ]
    },
    {
      "cell_type": "code",
      "metadata": {
        "id": "39KTguJWVM3p",
        "colab_type": "code",
        "colab": {}
      },
      "source": [
        "drop_features(['comment'], df)"
      ],
      "execution_count": null,
      "outputs": []
    },
    {
      "cell_type": "code",
      "metadata": {
        "id": "FBsPxJU1VM1M",
        "colab_type": "code",
        "colab": {}
      },
      "source": [
        "column_names = ['removed_stopwords', 'sentiment']\n",
        "df = df.reindex(columns = column_names)"
      ],
      "execution_count": null,
      "outputs": []
    },
    {
      "cell_type": "code",
      "metadata": {
        "id": "ykqZmENvXFUS",
        "colab_type": "code",
        "colab": {
          "base_uri": "https://localhost:8080/",
          "height": 195
        },
        "outputId": "f6594994-d8ff-499c-f9db-5ad8751c1f62"
      },
      "source": [
        "df.head()"
      ],
      "execution_count": null,
      "outputs": [
        {
          "output_type": "execute_result",
          "data": {
            "text/html": [
              "<div>\n",
              "<style scoped>\n",
              "    .dataframe tbody tr th:only-of-type {\n",
              "        vertical-align: middle;\n",
              "    }\n",
              "\n",
              "    .dataframe tbody tr th {\n",
              "        vertical-align: top;\n",
              "    }\n",
              "\n",
              "    .dataframe thead th {\n",
              "        text-align: right;\n",
              "    }\n",
              "</style>\n",
              "<table border=\"1\" class=\"dataframe\">\n",
              "  <thead>\n",
              "    <tr style=\"text-align: right;\">\n",
              "      <th></th>\n",
              "      <th>removed_stopwords</th>\n",
              "      <th>sentiment</th>\n",
              "    </tr>\n",
              "  </thead>\n",
              "  <tbody>\n",
              "    <tr>\n",
              "      <th>0</th>\n",
              "      <td>sai kha her kisi kay bus bat nhi lakin hal kal...</td>\n",
              "      <td>Positive</td>\n",
              "    </tr>\n",
              "    <tr>\n",
              "      <th>1</th>\n",
              "      <td>sahi bt h</td>\n",
              "      <td>Positive</td>\n",
              "    </tr>\n",
              "    <tr>\n",
              "      <th>2</th>\n",
              "      <td>bt</td>\n",
              "      <td>Positive</td>\n",
              "    </tr>\n",
              "    <tr>\n",
              "      <th>3</th>\n",
              "      <td>wah je wah</td>\n",
              "      <td>Positive</td>\n",
              "    </tr>\n",
              "    <tr>\n",
              "      <th>4</th>\n",
              "      <td>are wha kaya bat</td>\n",
              "      <td>Positive</td>\n",
              "    </tr>\n",
              "  </tbody>\n",
              "</table>\n",
              "</div>"
            ],
            "text/plain": [
              "                                   removed_stopwords sentiment\n",
              "0  sai kha her kisi kay bus bat nhi lakin hal kal...  Positive\n",
              "1                                          sahi bt h  Positive\n",
              "2                                                 bt  Positive\n",
              "3                                         wah je wah  Positive\n",
              "4                                   are wha kaya bat  Positive"
            ]
          },
          "metadata": {
            "tags": []
          },
          "execution_count": 20
        }
      ]
    },
    {
      "cell_type": "markdown",
      "metadata": {
        "id": "Xfeixw4Qg6gf",
        "colab_type": "text"
      },
      "source": [
        "### label encoding target data"
      ]
    },
    {
      "cell_type": "code",
      "metadata": {
        "id": "-p5cCCOug6d6",
        "colab_type": "code",
        "colab": {}
      },
      "source": [
        "y = df.iloc[:,1].values\n",
        "LE_y = LabelEncoder()\n",
        "y = LE_y.fit_transform(y)"
      ],
      "execution_count": null,
      "outputs": []
    },
    {
      "cell_type": "markdown",
      "metadata": {
        "id": "ZhJwf5BthiS2",
        "colab_type": "text"
      },
      "source": [
        "Now we have both the features and the target values ready for training the model. The label encoder converts the categorical data into numeric data. So according to the above dataframe we have converted positive, negative and neutral to 0,1,2 respectively. "
      ]
    },
    {
      "cell_type": "markdown",
      "metadata": {
        "id": "-capPcvmdKex",
        "colab_type": "text"
      },
      "source": [
        "### splitting the model into training and testing set"
      ]
    },
    {
      "cell_type": "code",
      "metadata": {
        "id": "-OAD5JOrVxNe",
        "colab_type": "code",
        "colab": {}
      },
      "source": [
        "x_train, x_test, y_train, y_test = train_test_split(df['removed_stopwords'], y, test_size = 0.20, random_state = 0)"
      ],
      "execution_count": null,
      "outputs": []
    },
    {
      "cell_type": "markdown",
      "metadata": {
        "id": "7wc_uB0grJXR",
        "colab_type": "text"
      },
      "source": [
        "### vectorizing both training and testing feature sets\n",
        "\n",
        "\n",
        "The count vectorizer converts the string data into a sparse matrix that provides the number of occurences of the words. The Tfidf transformer is used to find the term frequency and inverse document frequency in the word counts and provides weightage to certain words based on its uniqueness. This is less biased and can be successfully trained"
      ]
    },
    {
      "cell_type": "code",
      "metadata": {
        "id": "1DsoAdn8ipNB",
        "colab_type": "code",
        "colab": {
          "base_uri": "https://localhost:8080/",
          "height": 50
        },
        "outputId": "abe73c59-2248-4048-ee82-30b23cd2af97"
      },
      "source": [
        "%%time \n",
        "count_vec = CountVectorizer()\n",
        "tfidf_transform = TfidfTransformer(norm = 'l2', sublinear_tf = True)\n",
        "\n",
        "# vectorizing and transforming training set \n",
        "x_train_count = count_vec.fit_transform(x_train)\n",
        "\n",
        "# tfidf transformer on count vectorizer\n",
        "x_train_tfidf = tfidf_transform.fit_transform(x_train_count) \n",
        "\n",
        "# vectorizing and transforming test set\n",
        "x_test_count = count_vec.transform(x_test)\n",
        "x_test_tfidf = tfidf_transform.transform(x_test_count)"
      ],
      "execution_count": null,
      "outputs": [
        {
          "output_type": "stream",
          "text": [
            "CPU times: user 298 ms, sys: 7.62 ms, total: 306 ms\n",
            "Wall time: 309 ms\n"
          ],
          "name": "stdout"
        }
      ]
    },
    {
      "cell_type": "markdown",
      "metadata": {
        "id": "8jU6qBvQxXHW",
        "colab_type": "text"
      },
      "source": [
        "### Training and Prediction\n",
        "\n",
        "\n",
        "\n",
        "classification models: \n",
        "\n",
        "1) Random Forest\n",
        "\n",
        "2) Logistic Regression\n",
        "\n",
        "3) SVC\n",
        "\n",
        "4) passive aggressive classifier \n",
        "\n",
        "\n"
      ]
    },
    {
      "cell_type": "markdown",
      "metadata": {
        "id": "bd8BM6c04id3",
        "colab_type": "text"
      },
      "source": [
        "###Random Forest Score "
      ]
    },
    {
      "cell_type": "code",
      "metadata": {
        "id": "lL54PrWV4iZ_",
        "colab_type": "code",
        "colab": {
          "base_uri": "https://localhost:8080/",
          "height": 50
        },
        "outputId": "693a050a-1d5b-4381-ecf6-f1599813c5c0"
      },
      "source": [
        "%%time\n",
        "rlf_clf = RandomForestClassifier(n_estimators=150, max_depth = 300,random_state = 0)\n",
        "rlf_clf.fit(x_train_tfidf, y_train)\n",
        "rf_prediction = rlf_clf.predict(x_test_tfidf)"
      ],
      "execution_count": null,
      "outputs": [
        {
          "output_type": "stream",
          "text": [
            "CPU times: user 41.8 s, sys: 198 ms, total: 42 s\n",
            "Wall time: 42 s\n"
          ],
          "name": "stdout"
        }
      ]
    },
    {
      "cell_type": "code",
      "metadata": {
        "id": "WQQtsVv44iWc",
        "colab_type": "code",
        "colab": {
          "base_uri": "https://localhost:8080/",
          "height": 34
        },
        "outputId": "637046be-8f3e-40e8-b68f-30d097bbbcb8"
      },
      "source": [
        "accuracy_score(y_test, rf_prediction)"
      ],
      "execution_count": null,
      "outputs": [
        {
          "output_type": "execute_result",
          "data": {
            "text/plain": [
              "0.6322293623331685"
            ]
          },
          "metadata": {
            "tags": []
          },
          "execution_count": 30
        }
      ]
    },
    {
      "cell_type": "markdown",
      "metadata": {
        "id": "ZslfJMTr4iSr",
        "colab_type": "text"
      },
      "source": [
        "### Logistic Regression Score"
      ]
    },
    {
      "cell_type": "code",
      "metadata": {
        "id": "Knf-bPsa4iPf",
        "colab_type": "code",
        "colab": {
          "base_uri": "https://localhost:8080/",
          "height": 50
        },
        "outputId": "fce8600c-fcc8-40f7-b149-b40393e2b192"
      },
      "source": [
        "%%time\n",
        "logistic_regression_clf = LogisticRegression(random_state = 0, solver = 'liblinear')\n",
        "logistic_regression_clf.fit(x_train_tfidf, y_train)\n",
        "log_predict = logistic_regression_clf.predict(x_test_tfidf)\n"
      ],
      "execution_count": null,
      "outputs": [
        {
          "output_type": "stream",
          "text": [
            "CPU times: user 272 ms, sys: 179 ms, total: 451 ms\n",
            "Wall time: 236 ms\n"
          ],
          "name": "stdout"
        }
      ]
    },
    {
      "cell_type": "code",
      "metadata": {
        "id": "z-AVqiqD4iLA",
        "colab_type": "code",
        "colab": {
          "base_uri": "https://localhost:8080/",
          "height": 34
        },
        "outputId": "eb7ee31a-e191-4438-b534-105bf093949e"
      },
      "source": [
        "accuracy_score(y_test, log_predict)"
      ],
      "execution_count": null,
      "outputs": [
        {
          "output_type": "execute_result",
          "data": {
            "text/plain": [
              "0.6537320810677212"
            ]
          },
          "metadata": {
            "tags": []
          },
          "execution_count": 32
        }
      ]
    },
    {
      "cell_type": "markdown",
      "metadata": {
        "id": "Es4z1dy54iHK",
        "colab_type": "text"
      },
      "source": [
        "### SVC Score"
      ]
    },
    {
      "cell_type": "code",
      "metadata": {
        "id": "mACWOep34iDk",
        "colab_type": "code",
        "colab": {
          "base_uri": "https://localhost:8080/",
          "height": 50
        },
        "outputId": "8aae78b2-cbe2-419f-ca51-fbc1ba726e5c"
      },
      "source": [
        "%%time\n",
        "svc_clf = svm.SVC(gamma = 'scale', random_state = 0)\n",
        "svc_clf.fit(x_train_tfidf, y_train)\n",
        "svc_predict = svc_clf.predict(x_test_tfidf)"
      ],
      "execution_count": null,
      "outputs": [
        {
          "output_type": "stream",
          "text": [
            "CPU times: user 1min 26s, sys: 671 ms, total: 1min 26s\n",
            "Wall time: 1min 26s\n"
          ],
          "name": "stdout"
        }
      ]
    },
    {
      "cell_type": "code",
      "metadata": {
        "id": "fg8MK7Mg4h_Z",
        "colab_type": "code",
        "colab": {
          "base_uri": "https://localhost:8080/",
          "height": 34
        },
        "outputId": "f5babb56-46cf-4c10-8bfc-3baa0a2816b4"
      },
      "source": [
        "accuracy_score(y_test, svc_predict)"
      ],
      "execution_count": null,
      "outputs": [
        {
          "output_type": "execute_result",
          "data": {
            "text/plain": [
              "0.6611468116658428"
            ]
          },
          "metadata": {
            "tags": []
          },
          "execution_count": 32
        }
      ]
    },
    {
      "cell_type": "code",
      "metadata": {
        "id": "rHFvasTHratu",
        "colab_type": "code",
        "colab": {
          "base_uri": "https://localhost:8080/",
          "height": 34
        },
        "outputId": "9bca1ee8-d5d1-48c2-974b-424ef03e17e6"
      },
      "source": [
        "svc_predict"
      ],
      "execution_count": null,
      "outputs": [
        {
          "output_type": "execute_result",
          "data": {
            "text/plain": [
              "array([1, 0, 1, ..., 1, 1, 1])"
            ]
          },
          "metadata": {
            "tags": []
          },
          "execution_count": 33
        }
      ]
    },
    {
      "cell_type": "code",
      "metadata": {
        "id": "xREQt03nsROG",
        "colab_type": "code",
        "colab": {}
      },
      "source": [
        ""
      ],
      "execution_count": null,
      "outputs": []
    },
    {
      "cell_type": "markdown",
      "metadata": {
        "id": "Jf0CgvhBl4ed",
        "colab_type": "text"
      },
      "source": [
        "### Passive Aggressive Classifier"
      ]
    },
    {
      "cell_type": "code",
      "metadata": {
        "id": "Q-iJLPual4bL",
        "colab_type": "code",
        "colab": {
          "base_uri": "https://localhost:8080/",
          "height": 50
        },
        "outputId": "6000baba-cc33-49c7-f2a0-ab3f223fc205"
      },
      "source": [
        "%%time\n",
        "pac_clf = PassiveAggressiveClassifier(random_state = 0)\n",
        "pac_clf.fit(x_train_tfidf, y_train)\n",
        "pac_predict = pac_clf.predict(x_test_tfidf)"
      ],
      "execution_count": null,
      "outputs": [
        {
          "output_type": "stream",
          "text": [
            "CPU times: user 308 ms, sys: 213 ms, total: 521 ms\n",
            "Wall time: 275 ms\n"
          ],
          "name": "stdout"
        }
      ]
    },
    {
      "cell_type": "code",
      "metadata": {
        "id": "60ld98LPmLRn",
        "colab_type": "code",
        "colab": {
          "base_uri": "https://localhost:8080/",
          "height": 34
        },
        "outputId": "10841ace-918a-4b42-a9ec-24f01119f523"
      },
      "source": [
        "accuracy_score(y_test, pac_predict)"
      ],
      "execution_count": null,
      "outputs": [
        {
          "output_type": "execute_result",
          "data": {
            "text/plain": [
              "0.5996045477014336"
            ]
          },
          "metadata": {
            "tags": []
          },
          "execution_count": 37
        }
      ]
    },
    {
      "cell_type": "markdown",
      "metadata": {
        "id": "XlkMH1tk4h32",
        "colab_type": "text"
      },
      "source": [
        "### Performace Evaluation -1\n",
        "\n",
        "\n",
        "The performance scores for all the four models shows that the support vector classification model is higher than the rest of the other algorithms. However the time that svc takes for the cell to run is longer even though the score is higher than the rest. We can also see that the difference between the algorithms is by 1% so there isn't much difference in performance.  \n",
        "\n",
        "However it is important to tune the parameters of the models for a better evaluation as these results are low and cannot be used for further use. Here, we will be using Optuna, a hyperparameter optimization framework.\n"
      ]
    },
    {
      "cell_type": "markdown",
      "metadata": {
        "id": "8eP_vb1-obnw",
        "colab_type": "text"
      },
      "source": [
        "#### parameter tuning and cross valiation for logistic Regression and Random Forest classifier"
      ]
    },
    {
      "cell_type": "code",
      "metadata": {
        "id": "IGxZce65qXRY",
        "colab_type": "code",
        "colab": {
          "base_uri": "https://localhost:8080/",
          "height": 1000
        },
        "outputId": "0201ea9d-00d5-4538-c753-c190b0d4f933"
      },
      "source": [
        "import sklearn.svm\n",
        "\n",
        "def objective(trial):\n",
        "\n",
        "    classifier = trial.suggest_categorical('classifier', ['RandomForest', 'LogisticRegression'])\n",
        "    \n",
        "    if classifier == 'RandomForest':\n",
        "      n_estimators = trial.suggest_int('n_estimators', 2, 200)\n",
        "      max_depth = int(trial.suggest_loguniform('max_depth', 1, 300))\n",
        "\n",
        "      clf = sklearn.ensemble.RandomForestClassifier(\n",
        "      n_estimators=n_estimators, max_depth=max_depth)\n",
        "    else:\n",
        "      #multi_class = trial.suggest_categorical('multi_class', ['auto', 'ovr', 'multinomial'])\n",
        "      solver = trial.suggest_categorical('solver', ['liblinear', 'saga'])\n",
        "      clf = LogisticRegression(solver = solver)\n",
        "\n",
        "\n",
        "    return sklearn.model_selection.cross_val_score(\n",
        "        clf,x_train_tfidf, y_train, n_jobs=-1, cv=3).mean()\n",
        "\n",
        "study = optuna.create_study(direction='maximize')\n",
        "study.optimize(objective, n_trials=200)\n",
        "\n",
        "trial = study.best_trial\n",
        "\n",
        "print('Accuracy: {}'.format(trial.value))\n",
        "print(\"Best hyperparameters: {}\".format(trial.params))"
      ],
      "execution_count": null,
      "outputs": [
        {
          "output_type": "stream",
          "text": [
            "[I 2020-06-28 05:24:39,960] Finished trial#0 with value: 0.5979852463046493 with parameters: {'classifier': 'RandomForest', 'n_estimators': 116, 'max_depth': 134.93531515423533}. Best is trial#0 with value: 0.5979852463046493.\n",
            "[I 2020-06-28 05:24:40,488] Finished trial#1 with value: 0.6200485035291702 with parameters: {'classifier': 'LogisticRegression', 'solver': 'liblinear'}. Best is trial#1 with value: 0.6200485035291702.\n",
            "[I 2020-06-28 05:24:41,275] Finished trial#2 with value: 0.6265991979834976 with parameters: {'classifier': 'LogisticRegression', 'solver': 'saga'}. Best is trial#2 with value: 0.6265991979834976.\n",
            "[I 2020-06-28 05:25:14,832] Finished trial#3 with value: 0.5608427849144042 with parameters: {'classifier': 'RandomForest', 'n_estimators': 121, 'max_depth': 58.4954666593498}. Best is trial#2 with value: 0.6265991979834976.\n",
            "[I 2020-06-28 05:25:15,581] Finished trial#4 with value: 0.5071991224061421 with parameters: {'classifier': 'RandomForest', 'n_estimators': 2, 'max_depth': 51.80241648494184}. Best is trial#2 with value: 0.6265991979834976.\n",
            "[I 2020-06-28 05:25:16,352] Finished trial#5 with value: 0.6266610065007113 with parameters: {'classifier': 'LogisticRegression', 'solver': 'saga'}. Best is trial#5 with value: 0.6266610065007113.\n",
            "[I 2020-06-28 05:25:16,885] Finished trial#6 with value: 0.6200485035291702 with parameters: {'classifier': 'LogisticRegression', 'solver': 'liblinear'}. Best is trial#5 with value: 0.6266610065007113.\n",
            "[I 2020-06-28 05:25:18,558] Finished trial#7 with value: 0.498979609445799 with parameters: {'classifier': 'RandomForest', 'n_estimators': 14, 'max_depth': 23.154023821705934}. Best is trial#5 with value: 0.6266610065007113.\n",
            "[I 2020-06-28 05:25:19,079] Finished trial#8 with value: 0.6200485035291702 with parameters: {'classifier': 'LogisticRegression', 'solver': 'liblinear'}. Best is trial#5 with value: 0.6266610065007113.\n",
            "[I 2020-06-28 05:25:20,689] Finished trial#9 with value: 0.43983677647109026 with parameters: {'classifier': 'RandomForest', 'n_estimators': 58, 'max_depth': 5.552582765464898}. Best is trial#5 with value: 0.6266610065007113.\n",
            "[I 2020-06-28 05:25:21,477] Finished trial#10 with value: 0.6266610065007113 with parameters: {'classifier': 'LogisticRegression', 'solver': 'saga'}. Best is trial#5 with value: 0.6266610065007113.\n",
            "[I 2020-06-28 05:25:22,273] Finished trial#11 with value: 0.6266609950419577 with parameters: {'classifier': 'LogisticRegression', 'solver': 'saga'}. Best is trial#5 with value: 0.6266610065007113.\n",
            "[I 2020-06-28 05:25:23,059] Finished trial#12 with value: 0.6265991979834976 with parameters: {'classifier': 'LogisticRegression', 'solver': 'saga'}. Best is trial#5 with value: 0.6266610065007113.\n",
            "[I 2020-06-28 05:25:23,827] Finished trial#13 with value: 0.6265992094422513 with parameters: {'classifier': 'LogisticRegression', 'solver': 'saga'}. Best is trial#5 with value: 0.6266610065007113.\n",
            "[I 2020-06-28 05:25:24,611] Finished trial#14 with value: 0.6265374009250377 with parameters: {'classifier': 'LogisticRegression', 'solver': 'saga'}. Best is trial#5 with value: 0.6266610065007113.\n",
            "[I 2020-06-28 05:25:25,440] Finished trial#15 with value: 0.6265991979834976 with parameters: {'classifier': 'LogisticRegression', 'solver': 'saga'}. Best is trial#5 with value: 0.6266610065007113.\n",
            "[I 2020-06-28 05:25:26,248] Finished trial#16 with value: 0.6265374009250377 with parameters: {'classifier': 'LogisticRegression', 'solver': 'saga'}. Best is trial#5 with value: 0.6266610065007113.\n",
            "[I 2020-06-28 05:25:27,038] Finished trial#17 with value: 0.6265991979834976 with parameters: {'classifier': 'LogisticRegression', 'solver': 'saga'}. Best is trial#5 with value: 0.6266610065007113.\n",
            "[I 2020-06-28 05:25:27,845] Finished trial#18 with value: 0.6265992094422513 with parameters: {'classifier': 'LogisticRegression', 'solver': 'saga'}. Best is trial#5 with value: 0.6266610065007113.\n",
            "[I 2020-06-28 05:25:28,635] Finished trial#19 with value: 0.6266610065007113 with parameters: {'classifier': 'LogisticRegression', 'solver': 'saga'}. Best is trial#5 with value: 0.6266610065007113.\n",
            "[I 2020-06-28 05:25:29,424] Finished trial#20 with value: 0.6265991865247441 with parameters: {'classifier': 'LogisticRegression', 'solver': 'saga'}. Best is trial#5 with value: 0.6266610065007113.\n",
            "[I 2020-06-28 05:25:30,222] Finished trial#21 with value: 0.6265991979834976 with parameters: {'classifier': 'LogisticRegression', 'solver': 'saga'}. Best is trial#5 with value: 0.6266610065007113.\n",
            "[I 2020-06-28 05:25:31,017] Finished trial#22 with value: 0.6265992094422513 with parameters: {'classifier': 'LogisticRegression', 'solver': 'saga'}. Best is trial#5 with value: 0.6266610065007113.\n",
            "[I 2020-06-28 05:25:31,803] Finished trial#23 with value: 0.6266609950419577 with parameters: {'classifier': 'LogisticRegression', 'solver': 'saga'}. Best is trial#5 with value: 0.6266610065007113.\n",
            "[I 2020-06-28 05:25:32,603] Finished trial#24 with value: 0.6265374123837913 with parameters: {'classifier': 'LogisticRegression', 'solver': 'saga'}. Best is trial#5 with value: 0.6266610065007113.\n",
            "[I 2020-06-28 05:25:33,406] Finished trial#25 with value: 0.6267228035591713 with parameters: {'classifier': 'LogisticRegression', 'solver': 'saga'}. Best is trial#25 with value: 0.6267228035591713.\n",
            "[I 2020-06-28 05:25:34,236] Finished trial#26 with value: 0.6265991979834976 with parameters: {'classifier': 'LogisticRegression', 'solver': 'saga'}. Best is trial#25 with value: 0.6267228035591713.\n",
            "[I 2020-06-28 05:25:34,768] Finished trial#27 with value: 0.6200485035291702 with parameters: {'classifier': 'LogisticRegression', 'solver': 'liblinear'}. Best is trial#25 with value: 0.6267228035591713.\n",
            "[I 2020-06-28 05:25:35,550] Finished trial#28 with value: 0.6266609950419577 with parameters: {'classifier': 'LogisticRegression', 'solver': 'saga'}. Best is trial#25 with value: 0.6267228035591713.\n",
            "[I 2020-06-28 05:25:37,809] Finished trial#29 with value: 0.43841543266775623 with parameters: {'classifier': 'RandomForest', 'n_estimators': 199, 'max_depth': 1.2105149245781195}. Best is trial#25 with value: 0.6267228035591713.\n",
            "[I 2020-06-28 05:25:38,618] Finished trial#30 with value: 0.6265374009250377 with parameters: {'classifier': 'LogisticRegression', 'solver': 'saga'}. Best is trial#25 with value: 0.6267228035591713.\n",
            "[I 2020-06-28 05:25:39,415] Finished trial#31 with value: 0.6265992094422513 with parameters: {'classifier': 'LogisticRegression', 'solver': 'saga'}. Best is trial#25 with value: 0.6267228035591713.\n",
            "[I 2020-06-28 05:25:40,207] Finished trial#32 with value: 0.6265991979834976 with parameters: {'classifier': 'LogisticRegression', 'solver': 'saga'}. Best is trial#25 with value: 0.6267228035591713.\n",
            "[I 2020-06-28 05:25:41,004] Finished trial#33 with value: 0.6266610065007113 with parameters: {'classifier': 'LogisticRegression', 'solver': 'saga'}. Best is trial#25 with value: 0.6267228035591713.\n",
            "[I 2020-06-28 05:25:41,798] Finished trial#34 with value: 0.6266610065007113 with parameters: {'classifier': 'LogisticRegression', 'solver': 'saga'}. Best is trial#25 with value: 0.6267228035591713.\n",
            "[I 2020-06-28 05:25:42,603] Finished trial#35 with value: 0.6267228035591713 with parameters: {'classifier': 'LogisticRegression', 'solver': 'saga'}. Best is trial#25 with value: 0.6267228035591713.\n",
            "[I 2020-06-28 05:25:43,130] Finished trial#36 with value: 0.6200485035291702 with parameters: {'classifier': 'LogisticRegression', 'solver': 'liblinear'}. Best is trial#25 with value: 0.6267228035591713.\n",
            "[I 2020-06-28 05:25:45,259] Finished trial#37 with value: 0.43841543266775623 with parameters: {'classifier': 'RandomForest', 'n_estimators': 186, 'max_depth': 1.0522613318042426}. Best is trial#25 with value: 0.6267228035591713.\n",
            "[I 2020-06-28 05:25:46,077] Finished trial#38 with value: 0.6266610065007113 with parameters: {'classifier': 'LogisticRegression', 'solver': 'saga'}. Best is trial#25 with value: 0.6267228035591713.\n",
            "[I 2020-06-28 05:25:46,869] Finished trial#39 with value: 0.6266610065007113 with parameters: {'classifier': 'LogisticRegression', 'solver': 'saga'}. Best is trial#25 with value: 0.6267228035591713.\n",
            "[I 2020-06-28 05:25:50,313] Finished trial#40 with value: 0.43853903824342994 with parameters: {'classifier': 'RandomForest', 'n_estimators': 160, 'max_depth': 4.9762184387741994}. Best is trial#25 with value: 0.6267228035591713.\n",
            "[I 2020-06-28 05:25:51,095] Finished trial#41 with value: 0.6266610065007113 with parameters: {'classifier': 'LogisticRegression', 'solver': 'saga'}. Best is trial#25 with value: 0.6267228035591713.\n",
            "[I 2020-06-28 05:25:51,876] Finished trial#42 with value: 0.6266610065007113 with parameters: {'classifier': 'LogisticRegression', 'solver': 'saga'}. Best is trial#25 with value: 0.6267228035591713.\n",
            "[I 2020-06-28 05:25:52,666] Finished trial#43 with value: 0.6265991865247441 with parameters: {'classifier': 'LogisticRegression', 'solver': 'saga'}. Best is trial#25 with value: 0.6267228035591713.\n",
            "[I 2020-06-28 05:25:53,446] Finished trial#44 with value: 0.6265991979834976 with parameters: {'classifier': 'LogisticRegression', 'solver': 'saga'}. Best is trial#25 with value: 0.6267228035591713.\n",
            "[I 2020-06-28 05:25:53,973] Finished trial#45 with value: 0.6200485035291702 with parameters: {'classifier': 'LogisticRegression', 'solver': 'liblinear'}. Best is trial#25 with value: 0.6267228035591713.\n",
            "[I 2020-06-28 05:25:54,760] Finished trial#46 with value: 0.6266610065007113 with parameters: {'classifier': 'LogisticRegression', 'solver': 'saga'}. Best is trial#25 with value: 0.6267228035591713.\n",
            "[I 2020-06-28 05:25:55,540] Finished trial#47 with value: 0.6266610065007113 with parameters: {'classifier': 'LogisticRegression', 'solver': 'saga'}. Best is trial#25 with value: 0.6267228035591713.\n",
            "[I 2020-06-28 05:25:56,349] Finished trial#48 with value: 0.6266610065007113 with parameters: {'classifier': 'LogisticRegression', 'solver': 'saga'}. Best is trial#25 with value: 0.6267228035591713.\n",
            "[I 2020-06-28 05:25:57,156] Finished trial#49 with value: 0.6265992094422513 with parameters: {'classifier': 'LogisticRegression', 'solver': 'saga'}. Best is trial#25 with value: 0.6267228035591713.\n",
            "[I 2020-06-28 05:26:51,725] Finished trial#50 with value: 0.6057100848697173 with parameters: {'classifier': 'RandomForest', 'n_estimators': 60, 'max_depth': 216.33343738497206}. Best is trial#25 with value: 0.6267228035591713.\n",
            "[I 2020-06-28 05:26:52,512] Finished trial#51 with value: 0.6266610065007113 with parameters: {'classifier': 'LogisticRegression', 'solver': 'saga'}. Best is trial#25 with value: 0.6267228035591713.\n",
            "[I 2020-06-28 05:26:53,288] Finished trial#52 with value: 0.6265991979834976 with parameters: {'classifier': 'LogisticRegression', 'solver': 'saga'}. Best is trial#25 with value: 0.6267228035591713.\n",
            "[I 2020-06-28 05:26:54,090] Finished trial#53 with value: 0.6267228035591713 with parameters: {'classifier': 'LogisticRegression', 'solver': 'saga'}. Best is trial#25 with value: 0.6267228035591713.\n",
            "[I 2020-06-28 05:26:54,886] Finished trial#54 with value: 0.6266610065007113 with parameters: {'classifier': 'LogisticRegression', 'solver': 'saga'}. Best is trial#25 with value: 0.6267228035591713.\n",
            "[I 2020-06-28 05:26:55,659] Finished trial#55 with value: 0.6266609950419577 with parameters: {'classifier': 'LogisticRegression', 'solver': 'saga'}. Best is trial#25 with value: 0.6267228035591713.\n",
            "[I 2020-06-28 05:26:56,439] Finished trial#56 with value: 0.6266610065007113 with parameters: {'classifier': 'LogisticRegression', 'solver': 'saga'}. Best is trial#25 with value: 0.6267228035591713.\n",
            "[I 2020-06-28 05:26:57,243] Finished trial#57 with value: 0.6266609950419577 with parameters: {'classifier': 'LogisticRegression', 'solver': 'saga'}. Best is trial#25 with value: 0.6267228035591713.\n",
            "[I 2020-06-28 05:26:57,773] Finished trial#58 with value: 0.6200485035291702 with parameters: {'classifier': 'LogisticRegression', 'solver': 'liblinear'}. Best is trial#25 with value: 0.6267228035591713.\n",
            "[I 2020-06-28 05:26:58,556] Finished trial#59 with value: 0.6265991979834976 with parameters: {'classifier': 'LogisticRegression', 'solver': 'saga'}. Best is trial#25 with value: 0.6267228035591713.\n",
            "[I 2020-06-28 05:26:59,330] Finished trial#60 with value: 0.6265374009250377 with parameters: {'classifier': 'LogisticRegression', 'solver': 'saga'}. Best is trial#25 with value: 0.6267228035591713.\n",
            "[I 2020-06-28 05:27:00,137] Finished trial#61 with value: 0.6266610065007113 with parameters: {'classifier': 'LogisticRegression', 'solver': 'saga'}. Best is trial#25 with value: 0.6267228035591713.\n",
            "[I 2020-06-28 05:27:00,962] Finished trial#62 with value: 0.6266610065007113 with parameters: {'classifier': 'LogisticRegression', 'solver': 'saga'}. Best is trial#25 with value: 0.6267228035591713.\n",
            "[I 2020-06-28 05:27:01,784] Finished trial#63 with value: 0.6265992094422513 with parameters: {'classifier': 'LogisticRegression', 'solver': 'saga'}. Best is trial#25 with value: 0.6267228035591713.\n",
            "[I 2020-06-28 05:27:02,567] Finished trial#64 with value: 0.6265991979834976 with parameters: {'classifier': 'LogisticRegression', 'solver': 'saga'}. Best is trial#25 with value: 0.6267228035591713.\n",
            "[I 2020-06-28 05:27:03,365] Finished trial#65 with value: 0.6265991979834976 with parameters: {'classifier': 'LogisticRegression', 'solver': 'saga'}. Best is trial#25 with value: 0.6267228035591713.\n",
            "[I 2020-06-28 05:27:04,141] Finished trial#66 with value: 0.6266610065007113 with parameters: {'classifier': 'LogisticRegression', 'solver': 'saga'}. Best is trial#25 with value: 0.6267228035591713.\n",
            "[I 2020-06-28 05:27:04,947] Finished trial#67 with value: 0.6264755924078241 with parameters: {'classifier': 'LogisticRegression', 'solver': 'saga'}. Best is trial#25 with value: 0.6267228035591713.\n",
            "[I 2020-06-28 05:27:05,757] Finished trial#68 with value: 0.6266610065007113 with parameters: {'classifier': 'LogisticRegression', 'solver': 'saga'}. Best is trial#25 with value: 0.6267228035591713.\n",
            "[I 2020-06-28 05:27:06,542] Finished trial#69 with value: 0.6265992094422513 with parameters: {'classifier': 'LogisticRegression', 'solver': 'saga'}. Best is trial#25 with value: 0.6267228035591713.\n",
            "[I 2020-06-28 05:27:07,318] Finished trial#70 with value: 0.6265991979834976 with parameters: {'classifier': 'LogisticRegression', 'solver': 'saga'}. Best is trial#25 with value: 0.6267228035591713.\n",
            "[I 2020-06-28 05:27:08,112] Finished trial#71 with value: 0.6265991979834976 with parameters: {'classifier': 'LogisticRegression', 'solver': 'saga'}. Best is trial#25 with value: 0.6267228035591713.\n",
            "[I 2020-06-28 05:27:08,911] Finished trial#72 with value: 0.6265991979834976 with parameters: {'classifier': 'LogisticRegression', 'solver': 'saga'}. Best is trial#25 with value: 0.6267228035591713.\n",
            "[I 2020-06-28 05:27:09,690] Finished trial#73 with value: 0.6266610065007113 with parameters: {'classifier': 'LogisticRegression', 'solver': 'saga'}. Best is trial#25 with value: 0.6267228035591713.\n",
            "[I 2020-06-28 05:27:10,463] Finished trial#74 with value: 0.6265992094422513 with parameters: {'classifier': 'LogisticRegression', 'solver': 'saga'}. Best is trial#25 with value: 0.6267228035591713.\n",
            "[I 2020-06-28 05:27:11,250] Finished trial#75 with value: 0.6265991979834976 with parameters: {'classifier': 'LogisticRegression', 'solver': 'saga'}. Best is trial#25 with value: 0.6267228035591713.\n",
            "[I 2020-06-28 05:27:12,051] Finished trial#76 with value: 0.6266610065007113 with parameters: {'classifier': 'LogisticRegression', 'solver': 'saga'}. Best is trial#25 with value: 0.6267228035591713.\n",
            "[I 2020-06-28 05:27:12,851] Finished trial#77 with value: 0.6266610065007113 with parameters: {'classifier': 'LogisticRegression', 'solver': 'saga'}. Best is trial#25 with value: 0.6267228035591713.\n",
            "[I 2020-06-28 05:27:14,266] Finished trial#78 with value: 0.43841543266775623 with parameters: {'classifier': 'RandomForest', 'n_estimators': 58, 'max_depth': 4.413301397690946}. Best is trial#25 with value: 0.6267228035591713.\n",
            "[I 2020-06-28 05:27:15,074] Finished trial#79 with value: 0.6267228035591713 with parameters: {'classifier': 'LogisticRegression', 'solver': 'saga'}. Best is trial#25 with value: 0.6267228035591713.\n",
            "[I 2020-06-28 05:27:15,610] Finished trial#80 with value: 0.6200485035291702 with parameters: {'classifier': 'LogisticRegression', 'solver': 'liblinear'}. Best is trial#25 with value: 0.6267228035591713.\n",
            "[I 2020-06-28 05:27:16,397] Finished trial#81 with value: 0.6266610065007113 with parameters: {'classifier': 'LogisticRegression', 'solver': 'saga'}. Best is trial#25 with value: 0.6267228035591713.\n",
            "[I 2020-06-28 05:27:17,194] Finished trial#82 with value: 0.6265374009250376 with parameters: {'classifier': 'LogisticRegression', 'solver': 'saga'}. Best is trial#25 with value: 0.6267228035591713.\n",
            "[I 2020-06-28 05:27:18,003] Finished trial#83 with value: 0.6264755924078241 with parameters: {'classifier': 'LogisticRegression', 'solver': 'saga'}. Best is trial#25 with value: 0.6267228035591713.\n",
            "[I 2020-06-28 05:27:18,807] Finished trial#84 with value: 0.6266610065007113 with parameters: {'classifier': 'LogisticRegression', 'solver': 'saga'}. Best is trial#25 with value: 0.6267228035591713.\n",
            "[I 2020-06-28 05:27:19,604] Finished trial#85 with value: 0.6265991979834976 with parameters: {'classifier': 'LogisticRegression', 'solver': 'saga'}. Best is trial#25 with value: 0.6267228035591713.\n",
            "[I 2020-06-28 05:27:20,399] Finished trial#86 with value: 0.6267228035591713 with parameters: {'classifier': 'LogisticRegression', 'solver': 'saga'}. Best is trial#25 with value: 0.6267228035591713.\n",
            "[I 2020-06-28 05:27:21,216] Finished trial#87 with value: 0.6266610065007113 with parameters: {'classifier': 'LogisticRegression', 'solver': 'saga'}. Best is trial#25 with value: 0.6267228035591713.\n",
            "[I 2020-06-28 05:27:22,013] Finished trial#88 with value: 0.6265992094422513 with parameters: {'classifier': 'LogisticRegression', 'solver': 'saga'}. Best is trial#25 with value: 0.6267228035591713.\n",
            "[I 2020-06-28 05:27:22,802] Finished trial#89 with value: 0.6265992094422513 with parameters: {'classifier': 'LogisticRegression', 'solver': 'saga'}. Best is trial#25 with value: 0.6267228035591713.\n",
            "[I 2020-06-28 05:27:23,603] Finished trial#90 with value: 0.6265992094422513 with parameters: {'classifier': 'LogisticRegression', 'solver': 'saga'}. Best is trial#25 with value: 0.6267228035591713.\n",
            "[I 2020-06-28 05:27:24,391] Finished trial#91 with value: 0.6265991979834976 with parameters: {'classifier': 'LogisticRegression', 'solver': 'saga'}. Best is trial#25 with value: 0.6267228035591713.\n",
            "[I 2020-06-28 05:27:25,203] Finished trial#92 with value: 0.6266610065007113 with parameters: {'classifier': 'LogisticRegression', 'solver': 'saga'}. Best is trial#25 with value: 0.6267228035591713.\n",
            "[I 2020-06-28 05:27:25,996] Finished trial#93 with value: 0.6266609950419577 with parameters: {'classifier': 'LogisticRegression', 'solver': 'saga'}. Best is trial#25 with value: 0.6267228035591713.\n",
            "[I 2020-06-28 05:27:26,777] Finished trial#94 with value: 0.6267228035591713 with parameters: {'classifier': 'LogisticRegression', 'solver': 'saga'}. Best is trial#25 with value: 0.6267228035591713.\n",
            "[I 2020-06-28 05:27:27,575] Finished trial#95 with value: 0.6265991979834976 with parameters: {'classifier': 'LogisticRegression', 'solver': 'saga'}. Best is trial#25 with value: 0.6267228035591713.\n",
            "[I 2020-06-28 05:27:28,379] Finished trial#96 with value: 0.6265991979834976 with parameters: {'classifier': 'LogisticRegression', 'solver': 'saga'}. Best is trial#25 with value: 0.6267228035591713.\n",
            "[I 2020-06-28 05:27:35,069] Finished trial#97 with value: 0.44712916167322825 with parameters: {'classifier': 'RandomForest', 'n_estimators': 150, 'max_depth': 10.71788179080653}. Best is trial#25 with value: 0.6267228035591713.\n",
            "[I 2020-06-28 05:27:35,838] Finished trial#98 with value: 0.6266609950419577 with parameters: {'classifier': 'LogisticRegression', 'solver': 'saga'}. Best is trial#25 with value: 0.6267228035591713.\n",
            "[I 2020-06-28 05:27:36,640] Finished trial#99 with value: 0.6266610065007113 with parameters: {'classifier': 'LogisticRegression', 'solver': 'saga'}. Best is trial#25 with value: 0.6267228035591713.\n",
            "[I 2020-06-28 05:27:37,431] Finished trial#100 with value: 0.6266610065007113 with parameters: {'classifier': 'LogisticRegression', 'solver': 'saga'}. Best is trial#25 with value: 0.6267228035591713.\n",
            "[I 2020-06-28 05:27:38,237] Finished trial#101 with value: 0.6265991979834976 with parameters: {'classifier': 'LogisticRegression', 'solver': 'saga'}. Best is trial#25 with value: 0.6267228035591713.\n",
            "[I 2020-06-28 05:27:39,049] Finished trial#102 with value: 0.6265991979834976 with parameters: {'classifier': 'LogisticRegression', 'solver': 'saga'}. Best is trial#25 with value: 0.6267228035591713.\n",
            "[I 2020-06-28 05:27:39,844] Finished trial#103 with value: 0.6266610065007113 with parameters: {'classifier': 'LogisticRegression', 'solver': 'saga'}. Best is trial#25 with value: 0.6267228035591713.\n",
            "[I 2020-06-28 05:27:40,640] Finished trial#104 with value: 0.6264755924078241 with parameters: {'classifier': 'LogisticRegression', 'solver': 'saga'}. Best is trial#25 with value: 0.6267228035591713.\n",
            "[I 2020-06-28 05:27:41,433] Finished trial#105 with value: 0.6265992094422513 with parameters: {'classifier': 'LogisticRegression', 'solver': 'saga'}. Best is trial#25 with value: 0.6267228035591713.\n",
            "[I 2020-06-28 05:27:42,241] Finished trial#106 with value: 0.6266610065007113 with parameters: {'classifier': 'LogisticRegression', 'solver': 'saga'}. Best is trial#25 with value: 0.6267228035591713.\n",
            "[I 2020-06-28 05:27:42,783] Finished trial#107 with value: 0.6200485035291702 with parameters: {'classifier': 'LogisticRegression', 'solver': 'liblinear'}. Best is trial#25 with value: 0.6267228035591713.\n",
            "[I 2020-06-28 05:27:43,581] Finished trial#108 with value: 0.6266610065007113 with parameters: {'classifier': 'LogisticRegression', 'solver': 'saga'}. Best is trial#25 with value: 0.6267228035591713.\n",
            "[I 2020-06-28 05:27:44,383] Finished trial#109 with value: 0.6265991979834976 with parameters: {'classifier': 'LogisticRegression', 'solver': 'saga'}. Best is trial#25 with value: 0.6267228035591713.\n",
            "[I 2020-06-28 05:27:45,173] Finished trial#110 with value: 0.6265991979834976 with parameters: {'classifier': 'LogisticRegression', 'solver': 'saga'}. Best is trial#25 with value: 0.6267228035591713.\n",
            "[I 2020-06-28 05:27:45,960] Finished trial#111 with value: 0.6266610065007113 with parameters: {'classifier': 'LogisticRegression', 'solver': 'saga'}. Best is trial#25 with value: 0.6267228035591713.\n",
            "[I 2020-06-28 05:27:46,761] Finished trial#112 with value: 0.6266610065007113 with parameters: {'classifier': 'LogisticRegression', 'solver': 'saga'}. Best is trial#25 with value: 0.6267228035591713.\n",
            "[I 2020-06-28 05:27:47,555] Finished trial#113 with value: 0.6267228035591713 with parameters: {'classifier': 'LogisticRegression', 'solver': 'saga'}. Best is trial#25 with value: 0.6267228035591713.\n",
            "[I 2020-06-28 05:27:48,361] Finished trial#114 with value: 0.6265374009250376 with parameters: {'classifier': 'LogisticRegression', 'solver': 'saga'}. Best is trial#25 with value: 0.6267228035591713.\n",
            "[I 2020-06-28 05:27:49,160] Finished trial#115 with value: 0.6267228035591713 with parameters: {'classifier': 'LogisticRegression', 'solver': 'saga'}. Best is trial#25 with value: 0.6267228035591713.\n",
            "[I 2020-06-28 05:27:49,957] Finished trial#116 with value: 0.6265992094422513 with parameters: {'classifier': 'LogisticRegression', 'solver': 'saga'}. Best is trial#25 with value: 0.6267228035591713.\n",
            "[I 2020-06-28 05:27:50,767] Finished trial#117 with value: 0.6265992094422513 with parameters: {'classifier': 'LogisticRegression', 'solver': 'saga'}. Best is trial#25 with value: 0.6267228035591713.\n",
            "[I 2020-06-28 05:27:51,547] Finished trial#118 with value: 0.6266609950419577 with parameters: {'classifier': 'LogisticRegression', 'solver': 'saga'}. Best is trial#25 with value: 0.6267228035591713.\n",
            "[I 2020-06-28 05:27:52,349] Finished trial#119 with value: 0.6265991979834976 with parameters: {'classifier': 'LogisticRegression', 'solver': 'saga'}. Best is trial#25 with value: 0.6267228035591713.\n",
            "[I 2020-06-28 05:27:53,139] Finished trial#120 with value: 0.6266609950419577 with parameters: {'classifier': 'LogisticRegression', 'solver': 'saga'}. Best is trial#25 with value: 0.6267228035591713.\n",
            "[I 2020-06-28 05:27:53,921] Finished trial#121 with value: 0.6266610065007113 with parameters: {'classifier': 'LogisticRegression', 'solver': 'saga'}. Best is trial#25 with value: 0.6267228035591713.\n",
            "[I 2020-06-28 05:27:54,718] Finished trial#122 with value: 0.6266609950419577 with parameters: {'classifier': 'LogisticRegression', 'solver': 'saga'}. Best is trial#25 with value: 0.6267228035591713.\n",
            "[I 2020-06-28 05:27:55,508] Finished trial#123 with value: 0.6266610065007113 with parameters: {'classifier': 'LogisticRegression', 'solver': 'saga'}. Best is trial#25 with value: 0.6267228035591713.\n",
            "[I 2020-06-28 05:27:56,283] Finished trial#124 with value: 0.6266609950419577 with parameters: {'classifier': 'LogisticRegression', 'solver': 'saga'}. Best is trial#25 with value: 0.6267228035591713.\n",
            "[I 2020-06-28 05:27:57,077] Finished trial#125 with value: 0.626537389466284 with parameters: {'classifier': 'LogisticRegression', 'solver': 'saga'}. Best is trial#25 with value: 0.6267228035591713.\n",
            "[I 2020-06-28 05:27:57,866] Finished trial#126 with value: 0.6267228035591713 with parameters: {'classifier': 'LogisticRegression', 'solver': 'saga'}. Best is trial#25 with value: 0.6267228035591713.\n",
            "[I 2020-06-28 05:27:59,328] Finished trial#127 with value: 0.43841543266775623 with parameters: {'classifier': 'RandomForest', 'n_estimators': 89, 'max_depth': 2.0294485183586564}. Best is trial#25 with value: 0.6267228035591713.\n",
            "[I 2020-06-28 05:28:00,112] Finished trial#128 with value: 0.6266609950419577 with parameters: {'classifier': 'LogisticRegression', 'solver': 'saga'}. Best is trial#25 with value: 0.6267228035591713.\n",
            "[I 2020-06-28 05:28:00,897] Finished trial#129 with value: 0.6266610065007113 with parameters: {'classifier': 'LogisticRegression', 'solver': 'saga'}. Best is trial#25 with value: 0.6267228035591713.\n",
            "[I 2020-06-28 05:28:01,703] Finished trial#130 with value: 0.6265991979834976 with parameters: {'classifier': 'LogisticRegression', 'solver': 'saga'}. Best is trial#25 with value: 0.6267228035591713.\n",
            "[I 2020-06-28 05:28:02,514] Finished trial#131 with value: 0.6267228035591713 with parameters: {'classifier': 'LogisticRegression', 'solver': 'saga'}. Best is trial#25 with value: 0.6267228035591713.\n",
            "[I 2020-06-28 05:28:03,325] Finished trial#132 with value: 0.6266610065007113 with parameters: {'classifier': 'LogisticRegression', 'solver': 'saga'}. Best is trial#25 with value: 0.6267228035591713.\n",
            "[I 2020-06-28 05:28:04,158] Finished trial#133 with value: 0.6267228035591713 with parameters: {'classifier': 'LogisticRegression', 'solver': 'saga'}. Best is trial#25 with value: 0.6267228035591713.\n",
            "[I 2020-06-28 05:28:04,953] Finished trial#134 with value: 0.6265991979834976 with parameters: {'classifier': 'LogisticRegression', 'solver': 'saga'}. Best is trial#25 with value: 0.6267228035591713.\n",
            "[I 2020-06-28 05:28:05,769] Finished trial#135 with value: 0.6266610065007113 with parameters: {'classifier': 'LogisticRegression', 'solver': 'saga'}. Best is trial#25 with value: 0.6267228035591713.\n",
            "[I 2020-06-28 05:28:06,574] Finished trial#136 with value: 0.6266610065007113 with parameters: {'classifier': 'LogisticRegression', 'solver': 'saga'}. Best is trial#25 with value: 0.6267228035591713.\n",
            "[I 2020-06-28 05:28:07,377] Finished trial#137 with value: 0.6265991979834976 with parameters: {'classifier': 'LogisticRegression', 'solver': 'saga'}. Best is trial#25 with value: 0.6267228035591713.\n",
            "[I 2020-06-28 05:28:07,909] Finished trial#138 with value: 0.6200485035291702 with parameters: {'classifier': 'LogisticRegression', 'solver': 'liblinear'}. Best is trial#25 with value: 0.6267228035591713.\n",
            "[I 2020-06-28 05:28:08,700] Finished trial#139 with value: 0.6266610065007113 with parameters: {'classifier': 'LogisticRegression', 'solver': 'saga'}. Best is trial#25 with value: 0.6267228035591713.\n",
            "[I 2020-06-28 05:28:09,529] Finished trial#140 with value: 0.6266610065007113 with parameters: {'classifier': 'LogisticRegression', 'solver': 'saga'}. Best is trial#25 with value: 0.6267228035591713.\n",
            "[I 2020-06-28 05:28:10,343] Finished trial#141 with value: 0.6265991979834976 with parameters: {'classifier': 'LogisticRegression', 'solver': 'saga'}. Best is trial#25 with value: 0.6267228035591713.\n",
            "[I 2020-06-28 05:28:11,126] Finished trial#142 with value: 0.6265992094422513 with parameters: {'classifier': 'LogisticRegression', 'solver': 'saga'}. Best is trial#25 with value: 0.6267228035591713.\n",
            "[I 2020-06-28 05:28:11,930] Finished trial#143 with value: 0.6266610065007113 with parameters: {'classifier': 'LogisticRegression', 'solver': 'saga'}. Best is trial#25 with value: 0.6267228035591713.\n",
            "[I 2020-06-28 05:28:12,751] Finished trial#144 with value: 0.6265991979834976 with parameters: {'classifier': 'LogisticRegression', 'solver': 'saga'}. Best is trial#25 with value: 0.6267228035591713.\n",
            "[I 2020-06-28 05:28:13,550] Finished trial#145 with value: 0.6266609950419577 with parameters: {'classifier': 'LogisticRegression', 'solver': 'saga'}. Best is trial#25 with value: 0.6267228035591713.\n",
            "[I 2020-06-28 05:28:14,355] Finished trial#146 with value: 0.6266609950419577 with parameters: {'classifier': 'LogisticRegression', 'solver': 'saga'}. Best is trial#25 with value: 0.6267228035591713.\n",
            "[I 2020-06-28 05:28:15,176] Finished trial#147 with value: 0.6265991979834976 with parameters: {'classifier': 'LogisticRegression', 'solver': 'saga'}. Best is trial#25 with value: 0.6267228035591713.\n",
            "[I 2020-06-28 05:28:15,993] Finished trial#148 with value: 0.6265991979834976 with parameters: {'classifier': 'LogisticRegression', 'solver': 'saga'}. Best is trial#25 with value: 0.6267228035591713.\n",
            "[I 2020-06-28 05:28:16,783] Finished trial#149 with value: 0.6265374009250377 with parameters: {'classifier': 'LogisticRegression', 'solver': 'saga'}. Best is trial#25 with value: 0.6267228035591713.\n",
            "[I 2020-06-28 05:28:17,579] Finished trial#150 with value: 0.6265991979834976 with parameters: {'classifier': 'LogisticRegression', 'solver': 'saga'}. Best is trial#25 with value: 0.6267228035591713.\n",
            "[I 2020-06-28 05:28:18,275] Finished trial#151 with value: 0.6265991979834976 with parameters: {'classifier': 'LogisticRegression', 'solver': 'saga'}. Best is trial#25 with value: 0.6267228035591713.\n",
            "[I 2020-06-28 05:28:19,070] Finished trial#152 with value: 0.6266610065007113 with parameters: {'classifier': 'LogisticRegression', 'solver': 'saga'}. Best is trial#25 with value: 0.6267228035591713.\n",
            "[I 2020-06-28 05:28:19,873] Finished trial#153 with value: 0.6266610065007113 with parameters: {'classifier': 'LogisticRegression', 'solver': 'saga'}. Best is trial#25 with value: 0.6267228035591713.\n",
            "[I 2020-06-28 05:28:20,680] Finished trial#154 with value: 0.6265991979834976 with parameters: {'classifier': 'LogisticRegression', 'solver': 'saga'}. Best is trial#25 with value: 0.6267228035591713.\n",
            "[I 2020-06-28 05:28:21,484] Finished trial#155 with value: 0.626537389466284 with parameters: {'classifier': 'LogisticRegression', 'solver': 'saga'}. Best is trial#25 with value: 0.6267228035591713.\n",
            "[I 2020-06-28 05:28:22,317] Finished trial#156 with value: 0.6265991979834976 with parameters: {'classifier': 'LogisticRegression', 'solver': 'saga'}. Best is trial#25 with value: 0.6267228035591713.\n",
            "[I 2020-06-28 05:28:23,127] Finished trial#157 with value: 0.6266610065007113 with parameters: {'classifier': 'LogisticRegression', 'solver': 'saga'}. Best is trial#25 with value: 0.6267228035591713.\n",
            "[I 2020-06-28 05:28:23,948] Finished trial#158 with value: 0.6265374009250376 with parameters: {'classifier': 'LogisticRegression', 'solver': 'saga'}. Best is trial#25 with value: 0.6267228035591713.\n",
            "[I 2020-06-28 05:28:24,765] Finished trial#159 with value: 0.6265374009250376 with parameters: {'classifier': 'LogisticRegression', 'solver': 'saga'}. Best is trial#25 with value: 0.6267228035591713.\n",
            "[I 2020-06-28 05:28:25,563] Finished trial#160 with value: 0.6265991979834976 with parameters: {'classifier': 'LogisticRegression', 'solver': 'saga'}. Best is trial#25 with value: 0.6267228035591713.\n",
            "[I 2020-06-28 05:28:26,368] Finished trial#161 with value: 0.6266610065007113 with parameters: {'classifier': 'LogisticRegression', 'solver': 'saga'}. Best is trial#25 with value: 0.6267228035591713.\n",
            "[I 2020-06-28 05:28:27,208] Finished trial#162 with value: 0.6266610065007113 with parameters: {'classifier': 'LogisticRegression', 'solver': 'saga'}. Best is trial#25 with value: 0.6267228035591713.\n",
            "[I 2020-06-28 05:28:28,029] Finished trial#163 with value: 0.6266610065007113 with parameters: {'classifier': 'LogisticRegression', 'solver': 'saga'}. Best is trial#25 with value: 0.6267228035591713.\n",
            "[I 2020-06-28 05:28:28,848] Finished trial#164 with value: 0.6265991979834976 with parameters: {'classifier': 'LogisticRegression', 'solver': 'saga'}. Best is trial#25 with value: 0.6267228035591713.\n",
            "[I 2020-06-28 05:31:02,039] Finished trial#165 with value: 0.607131806811922 with parameters: {'classifier': 'RandomForest', 'n_estimators': 163, 'max_depth': 280.32175937853424}. Best is trial#25 with value: 0.6267228035591713.\n",
            "[I 2020-06-28 05:31:02,848] Finished trial#166 with value: 0.6266609950419577 with parameters: {'classifier': 'LogisticRegression', 'solver': 'saga'}. Best is trial#25 with value: 0.6267228035591713.\n",
            "[I 2020-06-28 05:31:03,656] Finished trial#167 with value: 0.6266610065007113 with parameters: {'classifier': 'LogisticRegression', 'solver': 'saga'}. Best is trial#25 with value: 0.6267228035591713.\n",
            "[I 2020-06-28 05:31:04,493] Finished trial#168 with value: 0.6266610065007113 with parameters: {'classifier': 'LogisticRegression', 'solver': 'saga'}. Best is trial#25 with value: 0.6267228035591713.\n",
            "[I 2020-06-28 05:31:05,309] Finished trial#169 with value: 0.6265991979834976 with parameters: {'classifier': 'LogisticRegression', 'solver': 'saga'}. Best is trial#25 with value: 0.6267228035591713.\n",
            "[I 2020-06-28 05:31:05,847] Finished trial#170 with value: 0.6200485035291702 with parameters: {'classifier': 'LogisticRegression', 'solver': 'liblinear'}. Best is trial#25 with value: 0.6267228035591713.\n",
            "[I 2020-06-28 05:31:06,657] Finished trial#171 with value: 0.6265991979834976 with parameters: {'classifier': 'LogisticRegression', 'solver': 'saga'}. Best is trial#25 with value: 0.6267228035591713.\n",
            "[I 2020-06-28 05:31:07,472] Finished trial#172 with value: 0.6265992094422513 with parameters: {'classifier': 'LogisticRegression', 'solver': 'saga'}. Best is trial#25 with value: 0.6267228035591713.\n",
            "[I 2020-06-28 05:31:08,264] Finished trial#173 with value: 0.6265992094422513 with parameters: {'classifier': 'LogisticRegression', 'solver': 'saga'}. Best is trial#25 with value: 0.6267228035591713.\n",
            "[I 2020-06-28 05:31:09,090] Finished trial#174 with value: 0.6266610065007113 with parameters: {'classifier': 'LogisticRegression', 'solver': 'saga'}. Best is trial#25 with value: 0.6267228035591713.\n",
            "[I 2020-06-28 05:31:09,925] Finished trial#175 with value: 0.6266609950419577 with parameters: {'classifier': 'LogisticRegression', 'solver': 'saga'}. Best is trial#25 with value: 0.6267228035591713.\n",
            "[I 2020-06-28 05:31:10,727] Finished trial#176 with value: 0.6265991979834976 with parameters: {'classifier': 'LogisticRegression', 'solver': 'saga'}. Best is trial#25 with value: 0.6267228035591713.\n",
            "[I 2020-06-28 05:31:11,524] Finished trial#177 with value: 0.6267228035591713 with parameters: {'classifier': 'LogisticRegression', 'solver': 'saga'}. Best is trial#25 with value: 0.6267228035591713.\n",
            "[I 2020-06-28 05:31:12,337] Finished trial#178 with value: 0.6266610065007113 with parameters: {'classifier': 'LogisticRegression', 'solver': 'saga'}. Best is trial#25 with value: 0.6267228035591713.\n",
            "[I 2020-06-28 05:31:13,146] Finished trial#179 with value: 0.6265374009250377 with parameters: {'classifier': 'LogisticRegression', 'solver': 'saga'}. Best is trial#25 with value: 0.6267228035591713.\n",
            "[I 2020-06-28 05:31:13,948] Finished trial#180 with value: 0.6266609950419577 with parameters: {'classifier': 'LogisticRegression', 'solver': 'saga'}. Best is trial#25 with value: 0.6267228035591713.\n",
            "[I 2020-06-28 05:31:14,771] Finished trial#181 with value: 0.6266610065007113 with parameters: {'classifier': 'LogisticRegression', 'solver': 'saga'}. Best is trial#25 with value: 0.6267228035591713.\n",
            "[I 2020-06-28 05:31:15,595] Finished trial#182 with value: 0.6265374009250377 with parameters: {'classifier': 'LogisticRegression', 'solver': 'saga'}. Best is trial#25 with value: 0.6267228035591713.\n",
            "[I 2020-06-28 05:31:16,409] Finished trial#183 with value: 0.6265991979834976 with parameters: {'classifier': 'LogisticRegression', 'solver': 'saga'}. Best is trial#25 with value: 0.6267228035591713.\n",
            "[I 2020-06-28 05:31:17,222] Finished trial#184 with value: 0.6265991979834976 with parameters: {'classifier': 'LogisticRegression', 'solver': 'saga'}. Best is trial#25 with value: 0.6267228035591713.\n",
            "[I 2020-06-28 05:31:18,039] Finished trial#185 with value: 0.6265991979834976 with parameters: {'classifier': 'LogisticRegression', 'solver': 'saga'}. Best is trial#25 with value: 0.6267228035591713.\n",
            "[I 2020-06-28 05:31:18,838] Finished trial#186 with value: 0.6265991979834976 with parameters: {'classifier': 'LogisticRegression', 'solver': 'saga'}. Best is trial#25 with value: 0.6267228035591713.\n",
            "[I 2020-06-28 05:31:19,657] Finished trial#187 with value: 0.6267228035591713 with parameters: {'classifier': 'LogisticRegression', 'solver': 'saga'}. Best is trial#25 with value: 0.6267228035591713.\n",
            "[I 2020-06-28 05:31:20,485] Finished trial#188 with value: 0.6267228035591713 with parameters: {'classifier': 'LogisticRegression', 'solver': 'saga'}. Best is trial#25 with value: 0.6267228035591713.\n",
            "[I 2020-06-28 05:31:21,300] Finished trial#189 with value: 0.6266610065007113 with parameters: {'classifier': 'LogisticRegression', 'solver': 'saga'}. Best is trial#25 with value: 0.6267228035591713.\n",
            "[I 2020-06-28 05:31:22,119] Finished trial#190 with value: 0.6266610065007113 with parameters: {'classifier': 'LogisticRegression', 'solver': 'saga'}. Best is trial#25 with value: 0.6267228035591713.\n",
            "[I 2020-06-28 05:31:22,920] Finished trial#191 with value: 0.6267228035591713 with parameters: {'classifier': 'LogisticRegression', 'solver': 'saga'}. Best is trial#25 with value: 0.6267228035591713.\n",
            "[I 2020-06-28 05:31:23,743] Finished trial#192 with value: 0.6264755924078239 with parameters: {'classifier': 'LogisticRegression', 'solver': 'saga'}. Best is trial#25 with value: 0.6267228035591713.\n",
            "[I 2020-06-28 05:31:24,546] Finished trial#193 with value: 0.6265374009250377 with parameters: {'classifier': 'LogisticRegression', 'solver': 'saga'}. Best is trial#25 with value: 0.6267228035591713.\n",
            "[I 2020-06-28 05:31:25,377] Finished trial#194 with value: 0.6265374009250377 with parameters: {'classifier': 'LogisticRegression', 'solver': 'saga'}. Best is trial#25 with value: 0.6267228035591713.\n",
            "[I 2020-06-28 05:31:26,192] Finished trial#195 with value: 0.6265991979834976 with parameters: {'classifier': 'LogisticRegression', 'solver': 'saga'}. Best is trial#25 with value: 0.6267228035591713.\n",
            "[I 2020-06-28 05:31:26,996] Finished trial#196 with value: 0.6265991979834976 with parameters: {'classifier': 'LogisticRegression', 'solver': 'saga'}. Best is trial#25 with value: 0.6267228035591713.\n",
            "[I 2020-06-28 05:31:27,816] Finished trial#197 with value: 0.6265991979834976 with parameters: {'classifier': 'LogisticRegression', 'solver': 'saga'}. Best is trial#25 with value: 0.6267228035591713.\n",
            "[I 2020-06-28 05:31:28,651] Finished trial#198 with value: 0.6265991979834976 with parameters: {'classifier': 'LogisticRegression', 'solver': 'saga'}. Best is trial#25 with value: 0.6267228035591713.\n",
            "[I 2020-06-28 05:31:29,470] Finished trial#199 with value: 0.6265991979834976 with parameters: {'classifier': 'LogisticRegression', 'solver': 'saga'}. Best is trial#25 with value: 0.6267228035591713.\n"
          ],
          "name": "stderr"
        },
        {
          "output_type": "stream",
          "text": [
            "Accuracy: 0.6267228035591713\n",
            "Best hyperparameters: {'classifier': 'LogisticRegression', 'solver': 'saga'}\n"
          ],
          "name": "stdout"
        }
      ]
    },
    {
      "cell_type": "code",
      "metadata": {
        "id": "ncVFibBY4h0d",
        "colab_type": "code",
        "colab": {
          "base_uri": "https://localhost:8080/",
          "height": 1000
        },
        "outputId": "eaa70536-305d-45fc-8227-3d0c5f6c413f"
      },
      "source": [
        "def objective(trial):\n",
        "    n_iter_no_change = trial.suggest_int('n_iter_no_change', 1, 50)\n",
        "    clf = PassiveAggressiveClassifier(max_iter = 100, fit_intercept=True, n_iter_no_change=n_iter_no_change)\n",
        "    clf.fit(x_train_tfidf, y_train)\n",
        "    return clf.score(x_test_tfidf, y_test)\n",
        "\n",
        "study = optuna.create_study(direction='maximize')\n",
        "study.optimize(objective, n_trials=100)\n",
        "\n",
        "trial = study.best_trial \n",
        "\n",
        "\n",
        "print('Accuracy: {}'.format(trial.value))\n",
        "print(\"Best hyperparameters: {}\".format(trial.params))"
      ],
      "execution_count": null,
      "outputs": [
        {
          "output_type": "stream",
          "text": [
            "[I 2020-06-28 06:18:19,846] Finished trial#0 with value: 0.5934256055363322 with parameters: {'n_iter_no_change': 18}. Best is trial#0 with value: 0.5934256055363322.\n",
            "[I 2020-06-28 06:18:20,436] Finished trial#1 with value: 0.5954028670291646 with parameters: {'n_iter_no_change': 33}. Best is trial#1 with value: 0.5954028670291646.\n",
            "/usr/local/lib/python3.6/dist-packages/sklearn/linear_model/_stochastic_gradient.py:557: ConvergenceWarning:\n",
            "\n",
            "Maximum number of iteration reached before convergence. Consider increasing max_iter to improve the fit.\n",
            "\n",
            "[I 2020-06-28 06:18:21,078] Finished trial#2 with value: 0.5941670785961444 with parameters: {'n_iter_no_change': 48}. Best is trial#1 with value: 0.5954028670291646.\n",
            "[I 2020-06-28 06:18:21,588] Finished trial#3 with value: 0.5946613939693525 with parameters: {'n_iter_no_change': 16}. Best is trial#1 with value: 0.5954028670291646.\n",
            "[I 2020-06-28 06:18:22,247] Finished trial#4 with value: 0.5909540286702917 with parameters: {'n_iter_no_change': 46}. Best is trial#1 with value: 0.5954028670291646.\n",
            "[I 2020-06-28 06:18:22,779] Finished trial#5 with value: 0.5936727632229363 with parameters: {'n_iter_no_change': 17}. Best is trial#1 with value: 0.5954028670291646.\n",
            "[I 2020-06-28 06:18:23,396] Finished trial#6 with value: 0.5916955017301038 with parameters: {'n_iter_no_change': 42}. Best is trial#1 with value: 0.5954028670291646.\n",
            "[I 2020-06-28 06:18:23,962] Finished trial#7 with value: 0.5931784478497282 with parameters: {'n_iter_no_change': 30}. Best is trial#1 with value: 0.5954028670291646.\n",
            "[I 2020-06-28 06:18:24,470] Finished trial#8 with value: 0.5949085516559565 with parameters: {'n_iter_no_change': 13}. Best is trial#1 with value: 0.5954028670291646.\n",
            "[I 2020-06-28 06:18:24,916] Finished trial#9 with value: 0.5949085516559565 with parameters: {'n_iter_no_change': 7}. Best is trial#1 with value: 0.5954028670291646.\n",
            "[I 2020-06-28 06:18:25,507] Finished trial#10 with value: 0.5954028670291646 with parameters: {'n_iter_no_change': 33}. Best is trial#1 with value: 0.5954028670291646.\n",
            "[I 2020-06-28 06:18:26,142] Finished trial#11 with value: 0.5931784478497282 with parameters: {'n_iter_no_change': 33}. Best is trial#1 with value: 0.5954028670291646.\n",
            "[I 2020-06-28 06:18:26,707] Finished trial#12 with value: 0.5921898171033119 with parameters: {'n_iter_no_change': 37}. Best is trial#1 with value: 0.5954028670291646.\n",
            "[I 2020-06-28 06:18:27,256] Finished trial#13 with value: 0.5951557093425606 with parameters: {'n_iter_no_change': 25}. Best is trial#1 with value: 0.5954028670291646.\n",
            "[I 2020-06-28 06:18:27,797] Finished trial#14 with value: 0.5949085516559565 with parameters: {'n_iter_no_change': 28}. Best is trial#1 with value: 0.5954028670291646.\n",
            "[I 2020-06-28 06:18:28,421] Finished trial#15 with value: 0.5897182402372714 with parameters: {'n_iter_no_change': 38}. Best is trial#1 with value: 0.5954028670291646.\n",
            "[I 2020-06-28 06:18:28,968] Finished trial#16 with value: 0.5946613939693525 with parameters: {'n_iter_no_change': 22}. Best is trial#1 with value: 0.5954028670291646.\n",
            "[I 2020-06-28 06:18:29,544] Finished trial#17 with value: 0.5941670785961444 with parameters: {'n_iter_no_change': 34}. Best is trial#1 with value: 0.5954028670291646.\n",
            "[I 2020-06-28 06:18:30,140] Finished trial#18 with value: 0.5916955017301038 with parameters: {'n_iter_no_change': 40}. Best is trial#1 with value: 0.5954028670291646.\n",
            "[I 2020-06-28 06:18:30,767] Finished trial#19 with value: 0.5956500247157687 with parameters: {'n_iter_no_change': 44}. Best is trial#19 with value: 0.5956500247157687.\n",
            "[I 2020-06-28 06:18:31,390] Finished trial#20 with value: 0.5929312901631241 with parameters: {'n_iter_no_change': 50}. Best is trial#19 with value: 0.5956500247157687.\n",
            "[I 2020-06-28 06:18:32,024] Finished trial#21 with value: 0.5921898171033119 with parameters: {'n_iter_no_change': 44}. Best is trial#19 with value: 0.5956500247157687.\n",
            "[I 2020-06-28 06:18:32,610] Finished trial#22 with value: 0.5909540286702917 with parameters: {'n_iter_no_change': 34}. Best is trial#19 with value: 0.5956500247157687.\n",
            "[I 2020-06-28 06:18:33,165] Finished trial#23 with value: 0.5936727632229363 with parameters: {'n_iter_no_change': 26}. Best is trial#19 with value: 0.5956500247157687.\n",
            "[I 2020-06-28 06:18:33,745] Finished trial#24 with value: 0.5907068709836876 with parameters: {'n_iter_no_change': 32}. Best is trial#19 with value: 0.5956500247157687.\n",
            "[I 2020-06-28 06:18:34,317] Finished trial#25 with value: 0.5919426594167079 with parameters: {'n_iter_no_change': 37}. Best is trial#19 with value: 0.5956500247157687.\n",
            "[I 2020-06-28 06:18:34,969] Finished trial#26 with value: 0.5914483440434998 with parameters: {'n_iter_no_change': 42}. Best is trial#19 with value: 0.5956500247157687.\n",
            "[I 2020-06-28 06:18:35,499] Finished trial#27 with value: 0.5931784478497282 with parameters: {'n_iter_no_change': 22}. Best is trial#19 with value: 0.5956500247157687.\n",
            "[I 2020-06-28 06:18:36,134] Finished trial#28 with value: 0.5897182402372714 with parameters: {'n_iter_no_change': 49}. Best is trial#19 with value: 0.5956500247157687.\n",
            "[I 2020-06-28 06:18:36,706] Finished trial#29 with value: 0.5939199209095403 with parameters: {'n_iter_no_change': 29}. Best is trial#19 with value: 0.5956500247157687.\n",
            "[I 2020-06-28 06:18:37,342] Finished trial#30 with value: 0.5931784478497282 with parameters: {'n_iter_no_change': 45}. Best is trial#19 with value: 0.5956500247157687.\n",
            "[I 2020-06-28 06:18:37,851] Finished trial#31 with value: 0.5951557093425606 with parameters: {'n_iter_no_change': 25}. Best is trial#19 with value: 0.5956500247157687.\n",
            "[I 2020-06-28 06:18:38,355] Finished trial#32 with value: 0.5929312901631241 with parameters: {'n_iter_no_change': 22}. Best is trial#19 with value: 0.5956500247157687.\n",
            "[I 2020-06-28 06:18:38,923] Finished trial#33 with value: 0.5909540286702917 with parameters: {'n_iter_no_change': 26}. Best is trial#19 with value: 0.5956500247157687.\n",
            "[I 2020-06-28 06:18:39,393] Finished trial#34 with value: 0.5954028670291646 with parameters: {'n_iter_no_change': 12}. Best is trial#19 with value: 0.5956500247157687.\n",
            "[I 2020-06-28 06:18:39,730] Finished trial#35 with value: 0.6045477014335146 with parameters: {'n_iter_no_change': 2}. Best is trial#35 with value: 0.6045477014335146.\n",
            "[I 2020-06-28 06:18:40,039] Finished trial#36 with value: 0.6033119130004944 with parameters: {'n_iter_no_change': 1}. Best is trial#35 with value: 0.6045477014335146.\n",
            "[I 2020-06-28 06:18:40,406] Finished trial#37 with value: 0.5946613939693525 with parameters: {'n_iter_no_change': 3}. Best is trial#35 with value: 0.6045477014335146.\n",
            "[I 2020-06-28 06:18:40,740] Finished trial#38 with value: 0.60182896688087 with parameters: {'n_iter_no_change': 2}. Best is trial#35 with value: 0.6045477014335146.\n",
            "[I 2020-06-28 06:18:41,032] Finished trial#39 with value: 0.6057834898665349 with parameters: {'n_iter_no_change': 1}. Best is trial#39 with value: 0.6057834898665349.\n",
            "[I 2020-06-28 06:18:41,337] Finished trial#40 with value: 0.6050420168067226 with parameters: {'n_iter_no_change': 1}. Best is trial#39 with value: 0.6057834898665349.\n",
            "[I 2020-06-28 06:18:41,673] Finished trial#41 with value: 0.6013346515076619 with parameters: {'n_iter_no_change': 2}. Best is trial#39 with value: 0.6057834898665349.\n",
            "[I 2020-06-28 06:18:42,082] Finished trial#42 with value: 0.5978744438952052 with parameters: {'n_iter_no_change': 6}. Best is trial#39 with value: 0.6057834898665349.\n",
            "[I 2020-06-28 06:18:42,498] Finished trial#43 with value: 0.5993573900148295 with parameters: {'n_iter_no_change': 5}. Best is trial#39 with value: 0.6057834898665349.\n",
            "[I 2020-06-28 06:18:42,939] Finished trial#44 with value: 0.5958971824023727 with parameters: {'n_iter_no_change': 9}. Best is trial#39 with value: 0.6057834898665349.\n",
            "[I 2020-06-28 06:18:43,277] Finished trial#45 with value: 0.6005931784478498 with parameters: {'n_iter_no_change': 2}. Best is trial#39 with value: 0.6057834898665349.\n",
            "[I 2020-06-28 06:18:43,700] Finished trial#46 with value: 0.5961443400889768 with parameters: {'n_iter_no_change': 9}. Best is trial#39 with value: 0.6057834898665349.\n",
            "[I 2020-06-28 06:18:44,007] Finished trial#47 with value: 0.6055363321799307 with parameters: {'n_iter_no_change': 1}. Best is trial#39 with value: 0.6057834898665349.\n",
            "[I 2020-06-28 06:18:44,393] Finished trial#48 with value: 0.6013346515076619 with parameters: {'n_iter_no_change': 4}. Best is trial#39 with value: 0.6057834898665349.\n",
            "[I 2020-06-28 06:18:44,819] Finished trial#49 with value: 0.6005931784478498 with parameters: {'n_iter_no_change': 8}. Best is trial#39 with value: 0.6057834898665349.\n",
            "[I 2020-06-28 06:18:45,286] Finished trial#50 with value: 0.5931784478497282 with parameters: {'n_iter_no_change': 11}. Best is trial#39 with value: 0.6057834898665349.\n",
            "[I 2020-06-28 06:18:45,581] Finished trial#51 with value: 0.6050420168067226 with parameters: {'n_iter_no_change': 1}. Best is trial#39 with value: 0.6057834898665349.\n",
            "[I 2020-06-28 06:18:45,878] Finished trial#52 with value: 0.6070192782995552 with parameters: {'n_iter_no_change': 1}. Best is trial#52 with value: 0.6070192782995552.\n",
            "[I 2020-06-28 06:18:46,160] Finished trial#53 with value: 0.606030647553139 with parameters: {'n_iter_no_change': 1}. Best is trial#52 with value: 0.6070192782995552.\n",
            "[I 2020-06-28 06:18:46,698] Finished trial#54 with value: 0.5949085516559565 with parameters: {'n_iter_no_change': 15}. Best is trial#52 with value: 0.6070192782995552.\n",
            "[I 2020-06-28 06:18:47,074] Finished trial#55 with value: 0.5998517053880376 with parameters: {'n_iter_no_change': 5}. Best is trial#52 with value: 0.6070192782995552.\n",
            "[I 2020-06-28 06:18:47,386] Finished trial#56 with value: 0.6045477014335146 with parameters: {'n_iter_no_change': 1}. Best is trial#52 with value: 0.6070192782995552.\n",
            "[I 2020-06-28 06:18:47,802] Finished trial#57 with value: 0.5976272862086011 with parameters: {'n_iter_no_change': 6}. Best is trial#52 with value: 0.6070192782995552.\n",
            "[I 2020-06-28 06:18:48,201] Finished trial#58 with value: 0.5983687592684133 with parameters: {'n_iter_no_change': 4}. Best is trial#52 with value: 0.6070192782995552.\n",
            "[I 2020-06-28 06:18:48,627] Finished trial#59 with value: 0.5988630746416214 with parameters: {'n_iter_no_change': 7}. Best is trial#52 with value: 0.6070192782995552.\n",
            "[I 2020-06-28 06:18:48,941] Finished trial#60 with value: 0.6047948591201187 with parameters: {'n_iter_no_change': 1}. Best is trial#52 with value: 0.6070192782995552.\n",
            "[I 2020-06-28 06:18:49,243] Finished trial#61 with value: 0.6047948591201187 with parameters: {'n_iter_no_change': 1}. Best is trial#52 with value: 0.6070192782995552.\n",
            "[I 2020-06-28 06:18:49,626] Finished trial#62 with value: 0.5986159169550173 with parameters: {'n_iter_no_change': 4}. Best is trial#52 with value: 0.6070192782995552.\n",
            "[I 2020-06-28 06:18:49,939] Finished trial#63 with value: 0.6035590706870984 with parameters: {'n_iter_no_change': 1}. Best is trial#52 with value: 0.6070192782995552.\n",
            "[I 2020-06-28 06:18:50,386] Finished trial#64 with value: 0.5963914977755809 with parameters: {'n_iter_no_change': 10}. Best is trial#52 with value: 0.6070192782995552.\n",
            "[I 2020-06-28 06:18:50,724] Finished trial#65 with value: 0.6013346515076619 with parameters: {'n_iter_no_change': 3}. Best is trial#52 with value: 0.6070192782995552.\n",
            "[I 2020-06-28 06:18:51,131] Finished trial#66 with value: 0.6028175976272863 with parameters: {'n_iter_no_change': 6}. Best is trial#52 with value: 0.6070192782995552.\n",
            "[I 2020-06-28 06:18:51,585] Finished trial#67 with value: 0.597132970835393 with parameters: {'n_iter_no_change': 14}. Best is trial#52 with value: 0.6070192782995552.\n",
            "[I 2020-06-28 06:18:51,886] Finished trial#68 with value: 0.6035590706870984 with parameters: {'n_iter_no_change': 1}. Best is trial#52 with value: 0.6070192782995552.\n",
            "[I 2020-06-28 06:18:52,260] Finished trial#69 with value: 0.5991102323282254 with parameters: {'n_iter_no_change': 3}. Best is trial#52 with value: 0.6070192782995552.\n",
            "[I 2020-06-28 06:18:52,774] Finished trial#70 with value: 0.5949085516559565 with parameters: {'n_iter_no_change': 18}. Best is trial#52 with value: 0.6070192782995552.\n",
            "[I 2020-06-28 06:18:53,095] Finished trial#71 with value: 0.6028175976272863 with parameters: {'n_iter_no_change': 1}. Best is trial#52 with value: 0.6070192782995552.\n",
            "[I 2020-06-28 06:18:53,490] Finished trial#72 with value: 0.5966386554621849 with parameters: {'n_iter_no_change': 4}. Best is trial#52 with value: 0.6070192782995552.\n",
            "[I 2020-06-28 06:18:53,765] Finished trial#73 with value: 0.6080079090459714 with parameters: {'n_iter_no_change': 1}. Best is trial#73 with value: 0.6080079090459714.\n",
            "[I 2020-06-28 06:18:54,189] Finished trial#74 with value: 0.5988630746416214 with parameters: {'n_iter_no_change': 7}. Best is trial#73 with value: 0.6080079090459714.\n",
            "[I 2020-06-28 06:18:54,564] Finished trial#75 with value: 0.5973801285219971 with parameters: {'n_iter_no_change': 5}. Best is trial#73 with value: 0.6080079090459714.\n",
            "[I 2020-06-28 06:18:54,941] Finished trial#76 with value: 0.5998517053880376 with parameters: {'n_iter_no_change': 3}. Best is trial#73 with value: 0.6080079090459714.\n",
            "[I 2020-06-28 06:18:55,258] Finished trial#77 with value: 0.6025704399406822 with parameters: {'n_iter_no_change': 1}. Best is trial#73 with value: 0.6080079090459714.\n",
            "[I 2020-06-28 06:18:55,642] Finished trial#78 with value: 0.5988630746416214 with parameters: {'n_iter_no_change': 7}. Best is trial#73 with value: 0.6080079090459714.\n",
            "[I 2020-06-28 06:18:56,049] Finished trial#79 with value: 0.5963914977755809 with parameters: {'n_iter_no_change': 3}. Best is trial#73 with value: 0.6080079090459714.\n",
            "[I 2020-06-28 06:18:56,429] Finished trial#80 with value: 0.5993573900148295 with parameters: {'n_iter_no_change': 5}. Best is trial#73 with value: 0.6080079090459714.\n",
            "[I 2020-06-28 06:18:56,738] Finished trial#81 with value: 0.6035590706870984 with parameters: {'n_iter_no_change': 1}. Best is trial#73 with value: 0.6080079090459714.\n",
            "[I 2020-06-28 06:18:57,097] Finished trial#82 with value: 0.6025704399406822 with parameters: {'n_iter_no_change': 2}. Best is trial#73 with value: 0.6080079090459714.\n",
            "[I 2020-06-28 06:18:57,418] Finished trial#83 with value: 0.6030647553138903 with parameters: {'n_iter_no_change': 1}. Best is trial#73 with value: 0.6080079090459714.\n",
            "[I 2020-06-28 06:18:57,769] Finished trial#84 with value: 0.602323282254078 with parameters: {'n_iter_no_change': 3}. Best is trial#73 with value: 0.6080079090459714.\n",
            "[I 2020-06-28 06:18:58,111] Finished trial#85 with value: 0.6035590706870984 with parameters: {'n_iter_no_change': 2}. Best is trial#73 with value: 0.6080079090459714.\n",
            "[I 2020-06-28 06:18:58,544] Finished trial#86 with value: 0.5944142362827484 with parameters: {'n_iter_no_change': 8}. Best is trial#73 with value: 0.6080079090459714.\n",
            "[I 2020-06-28 06:18:58,935] Finished trial#87 with value: 0.5976272862086011 with parameters: {'n_iter_no_change': 5}. Best is trial#73 with value: 0.6080079090459714.\n",
            "[I 2020-06-28 06:18:59,343] Finished trial#88 with value: 0.5993573900148295 with parameters: {'n_iter_no_change': 4}. Best is trial#73 with value: 0.6080079090459714.\n",
            "[I 2020-06-28 06:18:59,654] Finished trial#89 with value: 0.6050420168067226 with parameters: {'n_iter_no_change': 1}. Best is trial#73 with value: 0.6080079090459714.\n",
            "[I 2020-06-28 06:18:59,981] Finished trial#90 with value: 0.6033119130004944 with parameters: {'n_iter_no_change': 2}. Best is trial#73 with value: 0.6080079090459714.\n",
            "[I 2020-06-28 06:19:00,284] Finished trial#91 with value: 0.6035590706870984 with parameters: {'n_iter_no_change': 1}. Best is trial#73 with value: 0.6080079090459714.\n",
            "[I 2020-06-28 06:19:00,650] Finished trial#92 with value: 0.5983687592684133 with parameters: {'n_iter_no_change': 3}. Best is trial#73 with value: 0.6080079090459714.\n",
            "[I 2020-06-28 06:19:01,065] Finished trial#93 with value: 0.5983687592684133 with parameters: {'n_iter_no_change': 6}. Best is trial#73 with value: 0.6080079090459714.\n",
            "[I 2020-06-28 06:19:01,364] Finished trial#94 with value: 0.6050420168067226 with parameters: {'n_iter_no_change': 1}. Best is trial#73 with value: 0.6080079090459714.\n",
            "[I 2020-06-28 06:19:01,754] Finished trial#95 with value: 0.5973801285219971 with parameters: {'n_iter_no_change': 4}. Best is trial#73 with value: 0.6080079090459714.\n",
            "[I 2020-06-28 06:19:02,079] Finished trial#96 with value: 0.606030647553139 with parameters: {'n_iter_no_change': 2}. Best is trial#73 with value: 0.6080079090459714.\n",
            "[I 2020-06-28 06:19:02,416] Finished trial#97 with value: 0.60182896688087 with parameters: {'n_iter_no_change': 2}. Best is trial#73 with value: 0.6080079090459714.\n",
            "[I 2020-06-28 06:19:02,798] Finished trial#98 with value: 0.5993573900148295 with parameters: {'n_iter_no_change': 3}. Best is trial#73 with value: 0.6080079090459714.\n",
            "[I 2020-06-28 06:19:03,192] Finished trial#99 with value: 0.6020761245674741 with parameters: {'n_iter_no_change': 5}. Best is trial#73 with value: 0.6080079090459714.\n"
          ],
          "name": "stderr"
        },
        {
          "output_type": "stream",
          "text": [
            "Accuracy: 0.6080079090459714\n",
            "Best hyperparameters: {'n_iter_no_change': 1}\n"
          ],
          "name": "stdout"
        }
      ]
    },
    {
      "cell_type": "markdown",
      "metadata": {
        "id": "tsJLhG8iV73p",
        "colab_type": "text"
      },
      "source": [
        "Unfortunately the SVC would not be further fine tuned due to its long time execution. The code below, is my attempt on tuning the SVC parameters(took me around 2-3 hrs for that one cell to execute).  "
      ]
    },
    {
      "cell_type": "code",
      "metadata": {
        "id": "PAN_OiRTT-jd",
        "colab_type": "code",
        "colab": {
          "base_uri": "https://localhost:8080/",
          "height": 70
        },
        "outputId": "93eb37c5-8773-40d9-8fa2-e63cc37e61a6"
      },
      "source": [
        "def objective(trial):\n",
        "   c = trial.suggest_loguniform('svc_c', 1e-10, 1e10)\n",
        "   gamma = trial.suggest_categorical('gamma',['auto','scale'] )\n",
        "        \n",
        "   clf = sklearn.svm.SVC(C=c, gamma=gamma)\n",
        "    \n",
        "   clf = svm.SVC()\n",
        "   clf.fit(x_train_tfidf, y_train)\n",
        "   return clf.score(x_test_tfidf, y_test)\n",
        "\n",
        "study = optuna.create_study(direction='maximize')\n",
        "study.optimize(objective, n_trials=100)\n",
        "\n",
        "trial = study.best_trial \n",
        "\n",
        "\n",
        "print('Accuracy: {}'.format(trial.value))\n",
        "print(\"Best hyperparameters: {}\".format(trial.params))"
      ],
      "execution_count": null,
      "outputs": [
        {
          "output_type": "stream",
          "text": [
            "[I 2020-06-28 06:58:07,340] Finished trial#0 with value: 0.6611468116658428 with parameters: {'svc_c': 10429215.975263635, 'gamma': 'scale'}. Best is trial#0 with value: 0.6611468116658428.\n",
            "[I 2020-06-28 06:59:35,272] Finished trial#1 with value: 0.6611468116658428 with parameters: {'svc_c': 1.5098581009325772e-07, 'gamma': 'auto'}. Best is trial#0 with value: 0.6611468116658428.\n"
          ],
          "name": "stderr"
        }
      ]
    },
    {
      "cell_type": "markdown",
      "metadata": {
        "id": "7R1JiOKUoOoX",
        "colab_type": "text"
      },
      "source": [
        "### Performance scores after hyperparameter tuning"
      ]
    },
    {
      "cell_type": "markdown",
      "metadata": {
        "id": "EfcKl9D_SyhI",
        "colab_type": "text"
      },
      "source": [
        "### Random forest "
      ]
    },
    {
      "cell_type": "code",
      "metadata": {
        "id": "h7tyqkxlz2HA",
        "colab_type": "code",
        "colab": {
          "base_uri": "https://localhost:8080/",
          "height": 50
        },
        "outputId": "bf51c7fe-c253-4581-9055-437705bd8698"
      },
      "source": [
        "%%time\n",
        "rlf_clf = RandomForestClassifier(random_state = 0)\n",
        "rlf_clf.fit(x_train_tfidf, y_train)\n",
        "rf_prediction = rlf_clf.predict(x_test_tfidf)\n"
      ],
      "execution_count": null,
      "outputs": [
        {
          "output_type": "stream",
          "text": [
            "CPU times: user 41.7 s, sys: 17.6 ms, total: 41.7 s\n",
            "Wall time: 41.7 s\n"
          ],
          "name": "stdout"
        }
      ]
    },
    {
      "cell_type": "code",
      "metadata": {
        "id": "c-97vPpSCr5_",
        "colab_type": "code",
        "colab": {
          "base_uri": "https://localhost:8080/",
          "height": 34
        },
        "outputId": "54f75ad1-72c4-4880-9466-6b64b0c3f220"
      },
      "source": [
        "accuracy_score(y_test, rf_prediction)"
      ],
      "execution_count": null,
      "outputs": [
        {
          "output_type": "execute_result",
          "data": {
            "text/plain": [
              "0.6408798813643104"
            ]
          },
          "metadata": {
            "tags": []
          },
          "execution_count": 54
        }
      ]
    },
    {
      "cell_type": "markdown",
      "metadata": {
        "id": "ofA4wJC4IRAj",
        "colab_type": "text"
      },
      "source": [
        "### Logistic Regression"
      ]
    },
    {
      "cell_type": "code",
      "metadata": {
        "id": "SfMFeZRVz2Cn",
        "colab_type": "code",
        "colab": {
          "base_uri": "https://localhost:8080/",
          "height": 50
        },
        "outputId": "638c55a5-a692-4172-e323-8c61671202ca"
      },
      "source": [
        "%%time\n",
        "logistic_regression_clf = LogisticRegression(random_state = 0, max_iter = 1000, solver = 'liblinear')\n",
        "logistic_regression_clf.fit(x_train_tfidf, y_train)\n",
        "log_predict = logistic_regression_clf.predict(x_test_tfidf)\n"
      ],
      "execution_count": null,
      "outputs": [
        {
          "output_type": "stream",
          "text": [
            "CPU times: user 278 ms, sys: 186 ms, total: 463 ms\n",
            "Wall time: 252 ms\n"
          ],
          "name": "stdout"
        }
      ]
    },
    {
      "cell_type": "code",
      "metadata": {
        "id": "_Oa1TvLHCEK4",
        "colab_type": "code",
        "colab": {
          "base_uri": "https://localhost:8080/",
          "height": 34
        },
        "outputId": "6d259ff0-1c1b-4595-965d-02e23e913e4f"
      },
      "source": [
        "accuracy_score(y_test, log_predict)"
      ],
      "execution_count": null,
      "outputs": [
        {
          "output_type": "execute_result",
          "data": {
            "text/plain": [
              "0.6537320810677212"
            ]
          },
          "metadata": {
            "tags": []
          },
          "execution_count": 56
        }
      ]
    },
    {
      "cell_type": "markdown",
      "metadata": {
        "id": "LFELVjnUz1-q",
        "colab_type": "text"
      },
      "source": [
        "### SVC score"
      ]
    },
    {
      "cell_type": "code",
      "metadata": {
        "id": "MAOLAtX2z167",
        "colab_type": "code",
        "colab": {
          "base_uri": "https://localhost:8080/",
          "height": 50
        },
        "outputId": "0393eb5c-dd1c-49d5-e172-15eafcb30542"
      },
      "source": [
        "%%time\n",
        "svc_clf = svm.SVC(gamma = 'scale', random_state = 0, C = 10429215.975263635)\n",
        "svc_clf.fit(x_train_tfidf, y_train)\n",
        "svc_predict = svc_clf.predict(x_test_tfidf)\n",
        "\n"
      ],
      "execution_count": null,
      "outputs": [
        {
          "output_type": "stream",
          "text": [
            "CPU times: user 2min 19s, sys: 80 ms, total: 2min 19s\n",
            "Wall time: 2min 19s\n"
          ],
          "name": "stdout"
        }
      ]
    },
    {
      "cell_type": "code",
      "metadata": {
        "id": "nu-jlAPXCknj",
        "colab_type": "code",
        "colab": {
          "base_uri": "https://localhost:8080/",
          "height": 34
        },
        "outputId": "1b05b530-dd90-4106-ab5e-ba4006e077f5"
      },
      "source": [
        "accuracy_score(y_test, svc_predict)"
      ],
      "execution_count": null,
      "outputs": [
        {
          "output_type": "execute_result",
          "data": {
            "text/plain": [
              "0.6727632229362334"
            ]
          },
          "metadata": {
            "tags": []
          },
          "execution_count": 39
        }
      ]
    },
    {
      "cell_type": "markdown",
      "metadata": {
        "id": "PUhk48DEz13C",
        "colab_type": "text"
      },
      "source": [
        "### Passive Aggressive Classifier score"
      ]
    },
    {
      "cell_type": "code",
      "metadata": {
        "id": "-xEPUVcizz98",
        "colab_type": "code",
        "colab": {
          "base_uri": "https://localhost:8080/",
          "height": 50
        },
        "outputId": "3a30aafc-df40-4aac-809b-9a790fd38319"
      },
      "source": [
        "%%time\n",
        "pac_clf = PassiveAggressiveClassifier(random_state = 0, fit_intercept=True, n_iter_no_change= 1)\n",
        "pac_clf.fit(x_train_tfidf, y_train)\n",
        "pac_predict = pac_clf.predict(x_test_tfidf)\n"
      ],
      "execution_count": null,
      "outputs": [
        {
          "output_type": "stream",
          "text": [
            "CPU times: user 195 ms, sys: 123 ms, total: 318 ms\n",
            "Wall time: 198 ms\n"
          ],
          "name": "stdout"
        }
      ]
    },
    {
      "cell_type": "code",
      "metadata": {
        "id": "aum3h07HDB9d",
        "colab_type": "code",
        "colab": {
          "base_uri": "https://localhost:8080/",
          "height": 34
        },
        "outputId": "0797cbf2-c18c-4638-ca7a-b0d4527179b1"
      },
      "source": [
        "accuracy_score(y_test, pac_predict)"
      ],
      "execution_count": null,
      "outputs": [
        {
          "output_type": "execute_result",
          "data": {
            "text/plain": [
              "0.606030647553139"
            ]
          },
          "metadata": {
            "tags": []
          },
          "execution_count": 60
        }
      ]
    },
    {
      "cell_type": "markdown",
      "metadata": {
        "id": "K6ckRvsoZidd",
        "colab_type": "text"
      },
      "source": [
        "### Performance Evaluation -2\n",
        "\n",
        "From the above Parameter tuned classifiers, we can conclude that there isn't much of a difference in accuracy. All of the classifiers maintained their score around 60-70% before and after tuning. Some classifiers were better without any parameter improvizations. But its essential to compare between both Logistic Regression and support vector classifier in terms of their relationship between Actual values and predicted values as both of them are close in accuracy score but their speed has a huge difference."
      ]
    },
    {
      "cell_type": "markdown",
      "metadata": {
        "id": "R7kayT1jZiaI",
        "colab_type": "text"
      },
      "source": [
        "### Relationship between the actual and predicted target values"
      ]
    },
    {
      "cell_type": "code",
      "metadata": {
        "id": "QeznBi1-4SH6",
        "colab_type": "code",
        "colab": {}
      },
      "source": [
        "df1 = pd.DataFrame({'Actual': y_test.flatten(), 'Predicted': svc_predict.flatten()})\n",
        "df2 = pd.DataFrame({'Actual': y_test.flatten(), 'Predicted': log_predict.flatten()})\n",
        "df1 = df1.head(200)\n",
        "df2 = df2.head(200)"
      ],
      "execution_count": null,
      "outputs": []
    },
    {
      "cell_type": "code",
      "metadata": {
        "id": "evOc8Q-0-Ggu",
        "colab_type": "code",
        "colab": {
          "base_uri": "https://localhost:8080/",
          "height": 542
        },
        "outputId": "f0cf7ca1-f1d6-4bd7-bda5-77d2603610fb"
      },
      "source": [
        "px.bar(df1, x = 'Actual', y= 'Predicted', color = 'Predicted', title = 'SVC actual and predicted value relationship')"
      ],
      "execution_count": null,
      "outputs": [
        {
          "output_type": "display_data",
          "data": {
            "text/html": [
              "<html>\n",
              "<head><meta charset=\"utf-8\" /></head>\n",
              "<body>\n",
              "    <div>\n",
              "            <script src=\"https://cdnjs.cloudflare.com/ajax/libs/mathjax/2.7.5/MathJax.js?config=TeX-AMS-MML_SVG\"></script><script type=\"text/javascript\">if (window.MathJax) {MathJax.Hub.Config({SVG: {font: \"STIX-Web\"}});}</script>\n",
              "                <script type=\"text/javascript\">window.PlotlyConfig = {MathJaxConfig: 'local'};</script>\n",
              "        <script src=\"https://cdn.plot.ly/plotly-latest.min.js\"></script>    \n",
              "            <div id=\"58de79e3-4825-4ab1-b503-4ffcd14ca056\" class=\"plotly-graph-div\" style=\"height:525px; width:100%;\"></div>\n",
              "            <script type=\"text/javascript\">\n",
              "                \n",
              "                    window.PLOTLYENV=window.PLOTLYENV || {};\n",
              "                    \n",
              "                if (document.getElementById(\"58de79e3-4825-4ab1-b503-4ffcd14ca056\")) {\n",
              "                    Plotly.newPlot(\n",
              "                        '58de79e3-4825-4ab1-b503-4ffcd14ca056',\n",
              "                        [{\"alignmentgroup\": \"True\", \"hoverlabel\": {\"namelength\": 0}, \"hovertemplate\": \"Actual=%{x}<br>Predicted=%{marker.color}\", \"legendgroup\": \"\", \"marker\": {\"color\": [1, 0, 1, 2, 2, 1, 1, 1, 1, 2, 1, 2, 1, 1, 0, 2, 0, 1, 1, 1, 1, 1, 0, 0, 1, 1, 1, 1, 2, 1, 0, 1, 1, 2, 0, 1, 1, 1, 1, 1, 0, 1, 2, 2, 1, 2, 0, 0, 0, 1, 2, 1, 1, 0, 0, 1, 2, 0, 0, 1, 0, 1, 0, 1, 0, 1, 0, 0, 1, 2, 1, 1, 1, 1, 2, 2, 1, 0, 2, 1, 2, 2, 2, 0, 0, 2, 0, 1, 1, 0, 2, 1, 2, 0, 1, 1, 2, 1, 0, 2, 2, 2, 0, 2, 0, 0, 1, 1, 1, 1, 0, 2, 1, 1, 1, 2, 1, 1, 2, 0, 0, 1, 2, 0, 1, 2, 1, 2, 0, 2, 0, 1, 1, 2, 1, 1, 2, 1, 2, 0, 1, 0, 1, 2, 0, 0, 1, 1, 0, 0, 0, 0, 1, 1, 2, 1, 1, 1, 1, 2, 2, 2, 2, 2, 1, 1, 1, 0, 1, 1, 1, 1, 1, 2, 1, 0, 1, 2, 2, 0, 0, 1, 2, 1, 2, 0, 1, 1, 1, 0, 2, 2, 1, 0, 0, 0, 0, 1, 0, 2], \"coloraxis\": \"coloraxis\"}, \"name\": \"\", \"offsetgroup\": \"\", \"orientation\": \"v\", \"showlegend\": false, \"textposition\": \"auto\", \"type\": \"bar\", \"x\": [1, 0, 1, 0, 1, 1, 1, 1, 1, 2, 1, 2, 1, 1, 1, 1, 0, 1, 1, 0, 1, 1, 0, 2, 0, 1, 1, 1, 2, 1, 0, 1, 1, 2, 0, 1, 1, 1, 1, 2, 2, 0, 2, 2, 1, 2, 0, 0, 0, 1, 2, 1, 1, 0, 0, 0, 2, 0, 2, 0, 0, 1, 0, 0, 1, 1, 0, 0, 1, 2, 0, 1, 1, 1, 0, 2, 2, 0, 2, 1, 1, 2, 1, 1, 0, 2, 0, 1, 0, 1, 2, 2, 2, 0, 1, 2, 1, 1, 0, 2, 2, 2, 0, 2, 0, 0, 1, 1, 1, 0, 2, 0, 1, 1, 1, 2, 0, 1, 2, 0, 0, 1, 2, 2, 0, 2, 1, 2, 1, 2, 0, 1, 2, 2, 0, 1, 2, 0, 2, 0, 1, 0, 1, 2, 1, 2, 1, 1, 0, 1, 1, 2, 1, 1, 2, 1, 1, 0, 1, 2, 1, 2, 1, 2, 1, 1, 1, 0, 1, 1, 0, 1, 1, 1, 1, 2, 1, 2, 2, 0, 0, 1, 2, 2, 2, 0, 1, 0, 1, 2, 1, 0, 0, 0, 0, 1, 1, 0, 0, 2], \"xaxis\": \"x\", \"y\": [1, 0, 1, 2, 2, 1, 1, 1, 1, 2, 1, 2, 1, 1, 0, 2, 0, 1, 1, 1, 1, 1, 0, 0, 1, 1, 1, 1, 2, 1, 0, 1, 1, 2, 0, 1, 1, 1, 1, 1, 0, 1, 2, 2, 1, 2, 0, 0, 0, 1, 2, 1, 1, 0, 0, 1, 2, 0, 0, 1, 0, 1, 0, 1, 0, 1, 0, 0, 1, 2, 1, 1, 1, 1, 2, 2, 1, 0, 2, 1, 2, 2, 2, 0, 0, 2, 0, 1, 1, 0, 2, 1, 2, 0, 1, 1, 2, 1, 0, 2, 2, 2, 0, 2, 0, 0, 1, 1, 1, 1, 0, 2, 1, 1, 1, 2, 1, 1, 2, 0, 0, 1, 2, 0, 1, 2, 1, 2, 0, 2, 0, 1, 1, 2, 1, 1, 2, 1, 2, 0, 1, 0, 1, 2, 0, 0, 1, 1, 0, 0, 0, 0, 1, 1, 2, 1, 1, 1, 1, 2, 2, 2, 2, 2, 1, 1, 1, 0, 1, 1, 1, 1, 1, 2, 1, 0, 1, 2, 2, 0, 0, 1, 2, 1, 2, 0, 1, 1, 1, 0, 2, 2, 1, 0, 0, 0, 0, 1, 0, 2], \"yaxis\": \"y\"}],\n",
              "                        {\"barmode\": \"relative\", \"coloraxis\": {\"colorbar\": {\"title\": {\"text\": \"Predicted\"}}, \"colorscale\": [[0.0, \"#0d0887\"], [0.1111111111111111, \"#46039f\"], [0.2222222222222222, \"#7201a8\"], [0.3333333333333333, \"#9c179e\"], [0.4444444444444444, \"#bd3786\"], [0.5555555555555556, \"#d8576b\"], [0.6666666666666666, \"#ed7953\"], [0.7777777777777778, \"#fb9f3a\"], [0.8888888888888888, \"#fdca26\"], [1.0, \"#f0f921\"]]}, \"legend\": {\"tracegroupgap\": 0}, \"template\": {\"data\": {\"bar\": [{\"error_x\": {\"color\": \"#2a3f5f\"}, \"error_y\": {\"color\": \"#2a3f5f\"}, \"marker\": {\"line\": {\"color\": \"#E5ECF6\", \"width\": 0.5}}, \"type\": \"bar\"}], \"barpolar\": [{\"marker\": {\"line\": {\"color\": \"#E5ECF6\", \"width\": 0.5}}, \"type\": \"barpolar\"}], \"carpet\": [{\"aaxis\": {\"endlinecolor\": \"#2a3f5f\", \"gridcolor\": \"white\", \"linecolor\": \"white\", \"minorgridcolor\": \"white\", \"startlinecolor\": \"#2a3f5f\"}, \"baxis\": {\"endlinecolor\": \"#2a3f5f\", \"gridcolor\": \"white\", \"linecolor\": \"white\", \"minorgridcolor\": \"white\", \"startlinecolor\": \"#2a3f5f\"}, \"type\": \"carpet\"}], \"choropleth\": [{\"colorbar\": {\"outlinewidth\": 0, \"ticks\": \"\"}, \"type\": \"choropleth\"}], \"contour\": [{\"colorbar\": {\"outlinewidth\": 0, \"ticks\": \"\"}, \"colorscale\": [[0.0, \"#0d0887\"], [0.1111111111111111, \"#46039f\"], [0.2222222222222222, \"#7201a8\"], [0.3333333333333333, \"#9c179e\"], [0.4444444444444444, \"#bd3786\"], [0.5555555555555556, \"#d8576b\"], [0.6666666666666666, \"#ed7953\"], [0.7777777777777778, \"#fb9f3a\"], [0.8888888888888888, \"#fdca26\"], [1.0, \"#f0f921\"]], \"type\": \"contour\"}], \"contourcarpet\": [{\"colorbar\": {\"outlinewidth\": 0, \"ticks\": \"\"}, \"type\": \"contourcarpet\"}], \"heatmap\": [{\"colorbar\": {\"outlinewidth\": 0, \"ticks\": \"\"}, \"colorscale\": [[0.0, \"#0d0887\"], [0.1111111111111111, \"#46039f\"], [0.2222222222222222, \"#7201a8\"], [0.3333333333333333, \"#9c179e\"], [0.4444444444444444, \"#bd3786\"], [0.5555555555555556, \"#d8576b\"], [0.6666666666666666, \"#ed7953\"], [0.7777777777777778, \"#fb9f3a\"], [0.8888888888888888, \"#fdca26\"], [1.0, \"#f0f921\"]], \"type\": \"heatmap\"}], \"heatmapgl\": [{\"colorbar\": {\"outlinewidth\": 0, \"ticks\": \"\"}, \"colorscale\": [[0.0, \"#0d0887\"], [0.1111111111111111, \"#46039f\"], [0.2222222222222222, \"#7201a8\"], [0.3333333333333333, \"#9c179e\"], [0.4444444444444444, \"#bd3786\"], [0.5555555555555556, \"#d8576b\"], [0.6666666666666666, \"#ed7953\"], [0.7777777777777778, \"#fb9f3a\"], [0.8888888888888888, \"#fdca26\"], [1.0, \"#f0f921\"]], \"type\": \"heatmapgl\"}], \"histogram\": [{\"marker\": {\"colorbar\": {\"outlinewidth\": 0, \"ticks\": \"\"}}, \"type\": \"histogram\"}], \"histogram2d\": [{\"colorbar\": {\"outlinewidth\": 0, \"ticks\": \"\"}, \"colorscale\": [[0.0, \"#0d0887\"], [0.1111111111111111, \"#46039f\"], [0.2222222222222222, \"#7201a8\"], [0.3333333333333333, \"#9c179e\"], [0.4444444444444444, \"#bd3786\"], [0.5555555555555556, \"#d8576b\"], [0.6666666666666666, \"#ed7953\"], [0.7777777777777778, \"#fb9f3a\"], [0.8888888888888888, \"#fdca26\"], [1.0, \"#f0f921\"]], \"type\": \"histogram2d\"}], \"histogram2dcontour\": [{\"colorbar\": {\"outlinewidth\": 0, \"ticks\": \"\"}, \"colorscale\": [[0.0, \"#0d0887\"], [0.1111111111111111, \"#46039f\"], [0.2222222222222222, \"#7201a8\"], [0.3333333333333333, \"#9c179e\"], [0.4444444444444444, \"#bd3786\"], [0.5555555555555556, \"#d8576b\"], [0.6666666666666666, \"#ed7953\"], [0.7777777777777778, \"#fb9f3a\"], [0.8888888888888888, \"#fdca26\"], [1.0, \"#f0f921\"]], \"type\": \"histogram2dcontour\"}], \"mesh3d\": [{\"colorbar\": {\"outlinewidth\": 0, \"ticks\": \"\"}, \"type\": \"mesh3d\"}], \"parcoords\": [{\"line\": {\"colorbar\": {\"outlinewidth\": 0, \"ticks\": \"\"}}, \"type\": \"parcoords\"}], \"pie\": [{\"automargin\": true, \"type\": \"pie\"}], \"scatter\": [{\"marker\": {\"colorbar\": {\"outlinewidth\": 0, \"ticks\": \"\"}}, \"type\": \"scatter\"}], \"scatter3d\": [{\"line\": {\"colorbar\": {\"outlinewidth\": 0, \"ticks\": \"\"}}, \"marker\": {\"colorbar\": {\"outlinewidth\": 0, \"ticks\": \"\"}}, \"type\": \"scatter3d\"}], \"scattercarpet\": [{\"marker\": {\"colorbar\": {\"outlinewidth\": 0, \"ticks\": \"\"}}, \"type\": \"scattercarpet\"}], \"scattergeo\": [{\"marker\": {\"colorbar\": {\"outlinewidth\": 0, \"ticks\": \"\"}}, \"type\": \"scattergeo\"}], \"scattergl\": [{\"marker\": {\"colorbar\": {\"outlinewidth\": 0, \"ticks\": \"\"}}, \"type\": \"scattergl\"}], \"scattermapbox\": [{\"marker\": {\"colorbar\": {\"outlinewidth\": 0, \"ticks\": \"\"}}, \"type\": \"scattermapbox\"}], \"scatterpolar\": [{\"marker\": {\"colorbar\": {\"outlinewidth\": 0, \"ticks\": \"\"}}, \"type\": \"scatterpolar\"}], \"scatterpolargl\": [{\"marker\": {\"colorbar\": {\"outlinewidth\": 0, \"ticks\": \"\"}}, \"type\": \"scatterpolargl\"}], \"scatterternary\": [{\"marker\": {\"colorbar\": {\"outlinewidth\": 0, \"ticks\": \"\"}}, \"type\": \"scatterternary\"}], \"surface\": [{\"colorbar\": {\"outlinewidth\": 0, \"ticks\": \"\"}, \"colorscale\": [[0.0, \"#0d0887\"], [0.1111111111111111, \"#46039f\"], [0.2222222222222222, \"#7201a8\"], [0.3333333333333333, \"#9c179e\"], [0.4444444444444444, \"#bd3786\"], [0.5555555555555556, \"#d8576b\"], [0.6666666666666666, \"#ed7953\"], [0.7777777777777778, \"#fb9f3a\"], [0.8888888888888888, \"#fdca26\"], [1.0, \"#f0f921\"]], \"type\": \"surface\"}], \"table\": [{\"cells\": {\"fill\": {\"color\": \"#EBF0F8\"}, \"line\": {\"color\": \"white\"}}, \"header\": {\"fill\": {\"color\": \"#C8D4E3\"}, \"line\": {\"color\": \"white\"}}, \"type\": \"table\"}]}, \"layout\": {\"annotationdefaults\": {\"arrowcolor\": \"#2a3f5f\", \"arrowhead\": 0, \"arrowwidth\": 1}, \"coloraxis\": {\"colorbar\": {\"outlinewidth\": 0, \"ticks\": \"\"}}, \"colorscale\": {\"diverging\": [[0, \"#8e0152\"], [0.1, \"#c51b7d\"], [0.2, \"#de77ae\"], [0.3, \"#f1b6da\"], [0.4, \"#fde0ef\"], [0.5, \"#f7f7f7\"], [0.6, \"#e6f5d0\"], [0.7, \"#b8e186\"], [0.8, \"#7fbc41\"], [0.9, \"#4d9221\"], [1, \"#276419\"]], \"sequential\": [[0.0, \"#0d0887\"], [0.1111111111111111, \"#46039f\"], [0.2222222222222222, \"#7201a8\"], [0.3333333333333333, \"#9c179e\"], [0.4444444444444444, \"#bd3786\"], [0.5555555555555556, \"#d8576b\"], [0.6666666666666666, \"#ed7953\"], [0.7777777777777778, \"#fb9f3a\"], [0.8888888888888888, \"#fdca26\"], [1.0, \"#f0f921\"]], \"sequentialminus\": [[0.0, \"#0d0887\"], [0.1111111111111111, \"#46039f\"], [0.2222222222222222, \"#7201a8\"], [0.3333333333333333, \"#9c179e\"], [0.4444444444444444, \"#bd3786\"], [0.5555555555555556, \"#d8576b\"], [0.6666666666666666, \"#ed7953\"], [0.7777777777777778, \"#fb9f3a\"], [0.8888888888888888, \"#fdca26\"], [1.0, \"#f0f921\"]]}, \"colorway\": [\"#636efa\", \"#EF553B\", \"#00cc96\", \"#ab63fa\", \"#FFA15A\", \"#19d3f3\", \"#FF6692\", \"#B6E880\", \"#FF97FF\", \"#FECB52\"], \"font\": {\"color\": \"#2a3f5f\"}, \"geo\": {\"bgcolor\": \"white\", \"lakecolor\": \"white\", \"landcolor\": \"#E5ECF6\", \"showlakes\": true, \"showland\": true, \"subunitcolor\": \"white\"}, \"hoverlabel\": {\"align\": \"left\"}, \"hovermode\": \"closest\", \"mapbox\": {\"style\": \"light\"}, \"paper_bgcolor\": \"white\", \"plot_bgcolor\": \"#E5ECF6\", \"polar\": {\"angularaxis\": {\"gridcolor\": \"white\", \"linecolor\": \"white\", \"ticks\": \"\"}, \"bgcolor\": \"#E5ECF6\", \"radialaxis\": {\"gridcolor\": \"white\", \"linecolor\": \"white\", \"ticks\": \"\"}}, \"scene\": {\"xaxis\": {\"backgroundcolor\": \"#E5ECF6\", \"gridcolor\": \"white\", \"gridwidth\": 2, \"linecolor\": \"white\", \"showbackground\": true, \"ticks\": \"\", \"zerolinecolor\": \"white\"}, \"yaxis\": {\"backgroundcolor\": \"#E5ECF6\", \"gridcolor\": \"white\", \"gridwidth\": 2, \"linecolor\": \"white\", \"showbackground\": true, \"ticks\": \"\", \"zerolinecolor\": \"white\"}, \"zaxis\": {\"backgroundcolor\": \"#E5ECF6\", \"gridcolor\": \"white\", \"gridwidth\": 2, \"linecolor\": \"white\", \"showbackground\": true, \"ticks\": \"\", \"zerolinecolor\": \"white\"}}, \"shapedefaults\": {\"line\": {\"color\": \"#2a3f5f\"}}, \"ternary\": {\"aaxis\": {\"gridcolor\": \"white\", \"linecolor\": \"white\", \"ticks\": \"\"}, \"baxis\": {\"gridcolor\": \"white\", \"linecolor\": \"white\", \"ticks\": \"\"}, \"bgcolor\": \"#E5ECF6\", \"caxis\": {\"gridcolor\": \"white\", \"linecolor\": \"white\", \"ticks\": \"\"}}, \"title\": {\"x\": 0.05}, \"xaxis\": {\"automargin\": true, \"gridcolor\": \"white\", \"linecolor\": \"white\", \"ticks\": \"\", \"title\": {\"standoff\": 15}, \"zerolinecolor\": \"white\", \"zerolinewidth\": 2}, \"yaxis\": {\"automargin\": true, \"gridcolor\": \"white\", \"linecolor\": \"white\", \"ticks\": \"\", \"title\": {\"standoff\": 15}, \"zerolinecolor\": \"white\", \"zerolinewidth\": 2}}}, \"title\": {\"text\": \"SVC actual and predicted value relationship\"}, \"xaxis\": {\"anchor\": \"y\", \"domain\": [0.0, 1.0], \"title\": {\"text\": \"Actual\"}}, \"yaxis\": {\"anchor\": \"x\", \"domain\": [0.0, 1.0], \"title\": {\"text\": \"Predicted\"}}},\n",
              "                        {\"responsive\": true}\n",
              "                    ).then(function(){\n",
              "                            \n",
              "var gd = document.getElementById('58de79e3-4825-4ab1-b503-4ffcd14ca056');\n",
              "var x = new MutationObserver(function (mutations, observer) {{\n",
              "        var display = window.getComputedStyle(gd).display;\n",
              "        if (!display || display === 'none') {{\n",
              "            console.log([gd, 'removed!']);\n",
              "            Plotly.purge(gd);\n",
              "            observer.disconnect();\n",
              "        }}\n",
              "}});\n",
              "\n",
              "// Listen for the removal of the full notebook cells\n",
              "var notebookContainer = gd.closest('#notebook-container');\n",
              "if (notebookContainer) {{\n",
              "    x.observe(notebookContainer, {childList: true});\n",
              "}}\n",
              "\n",
              "// Listen for the clearing of the current output cell\n",
              "var outputEl = gd.closest('.output');\n",
              "if (outputEl) {{\n",
              "    x.observe(outputEl, {childList: true});\n",
              "}}\n",
              "\n",
              "                        })\n",
              "                };\n",
              "                \n",
              "            </script>\n",
              "        </div>\n",
              "</body>\n",
              "</html>"
            ]
          },
          "metadata": {
            "tags": []
          }
        }
      ]
    },
    {
      "cell_type": "code",
      "metadata": {
        "id": "1xdhn1LbZiWv",
        "colab_type": "code",
        "colab": {
          "base_uri": "https://localhost:8080/",
          "height": 542
        },
        "outputId": "f685371d-c23d-4776-edd4-908686a66e3e"
      },
      "source": [
        "px.bar(df2, x = 'Actual', y= 'Predicted', color = 'Predicted', title = 'Logistic Regression actual and predicted value relationship')"
      ],
      "execution_count": null,
      "outputs": [
        {
          "output_type": "display_data",
          "data": {
            "text/html": [
              "<html>\n",
              "<head><meta charset=\"utf-8\" /></head>\n",
              "<body>\n",
              "    <div>\n",
              "            <script src=\"https://cdnjs.cloudflare.com/ajax/libs/mathjax/2.7.5/MathJax.js?config=TeX-AMS-MML_SVG\"></script><script type=\"text/javascript\">if (window.MathJax) {MathJax.Hub.Config({SVG: {font: \"STIX-Web\"}});}</script>\n",
              "                <script type=\"text/javascript\">window.PlotlyConfig = {MathJaxConfig: 'local'};</script>\n",
              "        <script src=\"https://cdn.plot.ly/plotly-latest.min.js\"></script>    \n",
              "            <div id=\"6bf7c1dd-e43d-48ca-a835-7e697e02bd86\" class=\"plotly-graph-div\" style=\"height:525px; width:100%;\"></div>\n",
              "            <script type=\"text/javascript\">\n",
              "                \n",
              "                    window.PLOTLYENV=window.PLOTLYENV || {};\n",
              "                    \n",
              "                if (document.getElementById(\"6bf7c1dd-e43d-48ca-a835-7e697e02bd86\")) {\n",
              "                    Plotly.newPlot(\n",
              "                        '6bf7c1dd-e43d-48ca-a835-7e697e02bd86',\n",
              "                        [{\"alignmentgroup\": \"True\", \"hoverlabel\": {\"namelength\": 0}, \"hovertemplate\": \"Actual=%{x}<br>Predicted=%{marker.color}\", \"legendgroup\": \"\", \"marker\": {\"color\": [1, 0, 1, 2, 2, 1, 1, 1, 1, 2, 1, 2, 1, 1, 1, 2, 1, 1, 1, 1, 1, 1, 0, 1, 1, 1, 1, 1, 2, 1, 0, 1, 2, 2, 0, 1, 1, 1, 1, 1, 0, 1, 2, 2, 1, 1, 0, 0, 0, 1, 2, 1, 1, 0, 0, 1, 2, 0, 1, 2, 1, 1, 0, 2, 0, 1, 0, 0, 1, 2, 1, 1, 1, 1, 2, 2, 1, 0, 2, 2, 2, 2, 1, 0, 1, 2, 1, 1, 1, 0, 2, 1, 2, 2, 1, 1, 2, 1, 2, 2, 1, 2, 0, 2, 0, 0, 1, 1, 2, 1, 0, 2, 1, 1, 1, 2, 1, 1, 2, 1, 0, 1, 2, 0, 1, 2, 1, 2, 1, 1, 0, 1, 1, 2, 1, 1, 2, 1, 2, 0, 1, 0, 1, 2, 1, 0, 1, 1, 0, 1, 0, 0, 1, 1, 2, 1, 1, 1, 1, 2, 2, 2, 2, 2, 1, 1, 1, 0, 1, 1, 1, 1, 1, 1, 1, 0, 1, 2, 2, 0, 0, 1, 2, 1, 2, 1, 1, 1, 1, 2, 1, 2, 1, 0, 2, 0, 0, 1, 0, 2], \"coloraxis\": \"coloraxis\"}, \"name\": \"\", \"offsetgroup\": \"\", \"orientation\": \"v\", \"showlegend\": false, \"textposition\": \"auto\", \"type\": \"bar\", \"x\": [1, 0, 1, 0, 1, 1, 1, 1, 1, 2, 1, 2, 1, 1, 1, 1, 0, 1, 1, 0, 1, 1, 0, 2, 0, 1, 1, 1, 2, 1, 0, 1, 1, 2, 0, 1, 1, 1, 1, 2, 2, 0, 2, 2, 1, 2, 0, 0, 0, 1, 2, 1, 1, 0, 0, 0, 2, 0, 2, 0, 0, 1, 0, 0, 1, 1, 0, 0, 1, 2, 0, 1, 1, 1, 0, 2, 2, 0, 2, 1, 1, 2, 1, 1, 0, 2, 0, 1, 0, 1, 2, 2, 2, 0, 1, 2, 1, 1, 0, 2, 2, 2, 0, 2, 0, 0, 1, 1, 1, 0, 2, 0, 1, 1, 1, 2, 0, 1, 2, 0, 0, 1, 2, 2, 0, 2, 1, 2, 1, 2, 0, 1, 2, 2, 0, 1, 2, 0, 2, 0, 1, 0, 1, 2, 1, 2, 1, 1, 0, 1, 1, 2, 1, 1, 2, 1, 1, 0, 1, 2, 1, 2, 1, 2, 1, 1, 1, 0, 1, 1, 0, 1, 1, 1, 1, 2, 1, 2, 2, 0, 0, 1, 2, 2, 2, 0, 1, 0, 1, 2, 1, 0, 0, 0, 0, 1, 1, 0, 0, 2], \"xaxis\": \"x\", \"y\": [1, 0, 1, 2, 2, 1, 1, 1, 1, 2, 1, 2, 1, 1, 1, 2, 1, 1, 1, 1, 1, 1, 0, 1, 1, 1, 1, 1, 2, 1, 0, 1, 2, 2, 0, 1, 1, 1, 1, 1, 0, 1, 2, 2, 1, 1, 0, 0, 0, 1, 2, 1, 1, 0, 0, 1, 2, 0, 1, 2, 1, 1, 0, 2, 0, 1, 0, 0, 1, 2, 1, 1, 1, 1, 2, 2, 1, 0, 2, 2, 2, 2, 1, 0, 1, 2, 1, 1, 1, 0, 2, 1, 2, 2, 1, 1, 2, 1, 2, 2, 1, 2, 0, 2, 0, 0, 1, 1, 2, 1, 0, 2, 1, 1, 1, 2, 1, 1, 2, 1, 0, 1, 2, 0, 1, 2, 1, 2, 1, 1, 0, 1, 1, 2, 1, 1, 2, 1, 2, 0, 1, 0, 1, 2, 1, 0, 1, 1, 0, 1, 0, 0, 1, 1, 2, 1, 1, 1, 1, 2, 2, 2, 2, 2, 1, 1, 1, 0, 1, 1, 1, 1, 1, 1, 1, 0, 1, 2, 2, 0, 0, 1, 2, 1, 2, 1, 1, 1, 1, 2, 1, 2, 1, 0, 2, 0, 0, 1, 0, 2], \"yaxis\": \"y\"}],\n",
              "                        {\"barmode\": \"relative\", \"coloraxis\": {\"colorbar\": {\"title\": {\"text\": \"Predicted\"}}, \"colorscale\": [[0.0, \"#0d0887\"], [0.1111111111111111, \"#46039f\"], [0.2222222222222222, \"#7201a8\"], [0.3333333333333333, \"#9c179e\"], [0.4444444444444444, \"#bd3786\"], [0.5555555555555556, \"#d8576b\"], [0.6666666666666666, \"#ed7953\"], [0.7777777777777778, \"#fb9f3a\"], [0.8888888888888888, \"#fdca26\"], [1.0, \"#f0f921\"]]}, \"legend\": {\"tracegroupgap\": 0}, \"template\": {\"data\": {\"bar\": [{\"error_x\": {\"color\": \"#2a3f5f\"}, \"error_y\": {\"color\": \"#2a3f5f\"}, \"marker\": {\"line\": {\"color\": \"#E5ECF6\", \"width\": 0.5}}, \"type\": \"bar\"}], \"barpolar\": [{\"marker\": {\"line\": {\"color\": \"#E5ECF6\", \"width\": 0.5}}, \"type\": \"barpolar\"}], \"carpet\": [{\"aaxis\": {\"endlinecolor\": \"#2a3f5f\", \"gridcolor\": \"white\", \"linecolor\": \"white\", \"minorgridcolor\": \"white\", \"startlinecolor\": \"#2a3f5f\"}, \"baxis\": {\"endlinecolor\": \"#2a3f5f\", \"gridcolor\": \"white\", \"linecolor\": \"white\", \"minorgridcolor\": \"white\", \"startlinecolor\": \"#2a3f5f\"}, \"type\": \"carpet\"}], \"choropleth\": [{\"colorbar\": {\"outlinewidth\": 0, \"ticks\": \"\"}, \"type\": \"choropleth\"}], \"contour\": [{\"colorbar\": {\"outlinewidth\": 0, \"ticks\": \"\"}, \"colorscale\": [[0.0, \"#0d0887\"], [0.1111111111111111, \"#46039f\"], [0.2222222222222222, \"#7201a8\"], [0.3333333333333333, \"#9c179e\"], [0.4444444444444444, \"#bd3786\"], [0.5555555555555556, \"#d8576b\"], [0.6666666666666666, \"#ed7953\"], [0.7777777777777778, \"#fb9f3a\"], [0.8888888888888888, \"#fdca26\"], [1.0, \"#f0f921\"]], \"type\": \"contour\"}], \"contourcarpet\": [{\"colorbar\": {\"outlinewidth\": 0, \"ticks\": \"\"}, \"type\": \"contourcarpet\"}], \"heatmap\": [{\"colorbar\": {\"outlinewidth\": 0, \"ticks\": \"\"}, \"colorscale\": [[0.0, \"#0d0887\"], [0.1111111111111111, \"#46039f\"], [0.2222222222222222, \"#7201a8\"], [0.3333333333333333, \"#9c179e\"], [0.4444444444444444, \"#bd3786\"], [0.5555555555555556, \"#d8576b\"], [0.6666666666666666, \"#ed7953\"], [0.7777777777777778, \"#fb9f3a\"], [0.8888888888888888, \"#fdca26\"], [1.0, \"#f0f921\"]], \"type\": \"heatmap\"}], \"heatmapgl\": [{\"colorbar\": {\"outlinewidth\": 0, \"ticks\": \"\"}, \"colorscale\": [[0.0, \"#0d0887\"], [0.1111111111111111, \"#46039f\"], [0.2222222222222222, \"#7201a8\"], [0.3333333333333333, \"#9c179e\"], [0.4444444444444444, \"#bd3786\"], [0.5555555555555556, \"#d8576b\"], [0.6666666666666666, \"#ed7953\"], [0.7777777777777778, \"#fb9f3a\"], [0.8888888888888888, \"#fdca26\"], [1.0, \"#f0f921\"]], \"type\": \"heatmapgl\"}], \"histogram\": [{\"marker\": {\"colorbar\": {\"outlinewidth\": 0, \"ticks\": \"\"}}, \"type\": \"histogram\"}], \"histogram2d\": [{\"colorbar\": {\"outlinewidth\": 0, \"ticks\": \"\"}, \"colorscale\": [[0.0, \"#0d0887\"], [0.1111111111111111, \"#46039f\"], [0.2222222222222222, \"#7201a8\"], [0.3333333333333333, \"#9c179e\"], [0.4444444444444444, \"#bd3786\"], [0.5555555555555556, \"#d8576b\"], [0.6666666666666666, \"#ed7953\"], [0.7777777777777778, \"#fb9f3a\"], [0.8888888888888888, \"#fdca26\"], [1.0, \"#f0f921\"]], \"type\": \"histogram2d\"}], \"histogram2dcontour\": [{\"colorbar\": {\"outlinewidth\": 0, \"ticks\": \"\"}, \"colorscale\": [[0.0, \"#0d0887\"], [0.1111111111111111, \"#46039f\"], [0.2222222222222222, \"#7201a8\"], [0.3333333333333333, \"#9c179e\"], [0.4444444444444444, \"#bd3786\"], [0.5555555555555556, \"#d8576b\"], [0.6666666666666666, \"#ed7953\"], [0.7777777777777778, \"#fb9f3a\"], [0.8888888888888888, \"#fdca26\"], [1.0, \"#f0f921\"]], \"type\": \"histogram2dcontour\"}], \"mesh3d\": [{\"colorbar\": {\"outlinewidth\": 0, \"ticks\": \"\"}, \"type\": \"mesh3d\"}], \"parcoords\": [{\"line\": {\"colorbar\": {\"outlinewidth\": 0, \"ticks\": \"\"}}, \"type\": \"parcoords\"}], \"pie\": [{\"automargin\": true, \"type\": \"pie\"}], \"scatter\": [{\"marker\": {\"colorbar\": {\"outlinewidth\": 0, \"ticks\": \"\"}}, \"type\": \"scatter\"}], \"scatter3d\": [{\"line\": {\"colorbar\": {\"outlinewidth\": 0, \"ticks\": \"\"}}, \"marker\": {\"colorbar\": {\"outlinewidth\": 0, \"ticks\": \"\"}}, \"type\": \"scatter3d\"}], \"scattercarpet\": [{\"marker\": {\"colorbar\": {\"outlinewidth\": 0, \"ticks\": \"\"}}, \"type\": \"scattercarpet\"}], \"scattergeo\": [{\"marker\": {\"colorbar\": {\"outlinewidth\": 0, \"ticks\": \"\"}}, \"type\": \"scattergeo\"}], \"scattergl\": [{\"marker\": {\"colorbar\": {\"outlinewidth\": 0, \"ticks\": \"\"}}, \"type\": \"scattergl\"}], \"scattermapbox\": [{\"marker\": {\"colorbar\": {\"outlinewidth\": 0, \"ticks\": \"\"}}, \"type\": \"scattermapbox\"}], \"scatterpolar\": [{\"marker\": {\"colorbar\": {\"outlinewidth\": 0, \"ticks\": \"\"}}, \"type\": \"scatterpolar\"}], \"scatterpolargl\": [{\"marker\": {\"colorbar\": {\"outlinewidth\": 0, \"ticks\": \"\"}}, \"type\": \"scatterpolargl\"}], \"scatterternary\": [{\"marker\": {\"colorbar\": {\"outlinewidth\": 0, \"ticks\": \"\"}}, \"type\": \"scatterternary\"}], \"surface\": [{\"colorbar\": {\"outlinewidth\": 0, \"ticks\": \"\"}, \"colorscale\": [[0.0, \"#0d0887\"], [0.1111111111111111, \"#46039f\"], [0.2222222222222222, \"#7201a8\"], [0.3333333333333333, \"#9c179e\"], [0.4444444444444444, \"#bd3786\"], [0.5555555555555556, \"#d8576b\"], [0.6666666666666666, \"#ed7953\"], [0.7777777777777778, \"#fb9f3a\"], [0.8888888888888888, \"#fdca26\"], [1.0, \"#f0f921\"]], \"type\": \"surface\"}], \"table\": [{\"cells\": {\"fill\": {\"color\": \"#EBF0F8\"}, \"line\": {\"color\": \"white\"}}, \"header\": {\"fill\": {\"color\": \"#C8D4E3\"}, \"line\": {\"color\": \"white\"}}, \"type\": \"table\"}]}, \"layout\": {\"annotationdefaults\": {\"arrowcolor\": \"#2a3f5f\", \"arrowhead\": 0, \"arrowwidth\": 1}, \"coloraxis\": {\"colorbar\": {\"outlinewidth\": 0, \"ticks\": \"\"}}, \"colorscale\": {\"diverging\": [[0, \"#8e0152\"], [0.1, \"#c51b7d\"], [0.2, \"#de77ae\"], [0.3, \"#f1b6da\"], [0.4, \"#fde0ef\"], [0.5, \"#f7f7f7\"], [0.6, \"#e6f5d0\"], [0.7, \"#b8e186\"], [0.8, \"#7fbc41\"], [0.9, \"#4d9221\"], [1, \"#276419\"]], \"sequential\": [[0.0, \"#0d0887\"], [0.1111111111111111, \"#46039f\"], [0.2222222222222222, \"#7201a8\"], [0.3333333333333333, \"#9c179e\"], [0.4444444444444444, \"#bd3786\"], [0.5555555555555556, \"#d8576b\"], [0.6666666666666666, \"#ed7953\"], [0.7777777777777778, \"#fb9f3a\"], [0.8888888888888888, \"#fdca26\"], [1.0, \"#f0f921\"]], \"sequentialminus\": [[0.0, \"#0d0887\"], [0.1111111111111111, \"#46039f\"], [0.2222222222222222, \"#7201a8\"], [0.3333333333333333, \"#9c179e\"], [0.4444444444444444, \"#bd3786\"], [0.5555555555555556, \"#d8576b\"], [0.6666666666666666, \"#ed7953\"], [0.7777777777777778, \"#fb9f3a\"], [0.8888888888888888, \"#fdca26\"], [1.0, \"#f0f921\"]]}, \"colorway\": [\"#636efa\", \"#EF553B\", \"#00cc96\", \"#ab63fa\", \"#FFA15A\", \"#19d3f3\", \"#FF6692\", \"#B6E880\", \"#FF97FF\", \"#FECB52\"], \"font\": {\"color\": \"#2a3f5f\"}, \"geo\": {\"bgcolor\": \"white\", \"lakecolor\": \"white\", \"landcolor\": \"#E5ECF6\", \"showlakes\": true, \"showland\": true, \"subunitcolor\": \"white\"}, \"hoverlabel\": {\"align\": \"left\"}, \"hovermode\": \"closest\", \"mapbox\": {\"style\": \"light\"}, \"paper_bgcolor\": \"white\", \"plot_bgcolor\": \"#E5ECF6\", \"polar\": {\"angularaxis\": {\"gridcolor\": \"white\", \"linecolor\": \"white\", \"ticks\": \"\"}, \"bgcolor\": \"#E5ECF6\", \"radialaxis\": {\"gridcolor\": \"white\", \"linecolor\": \"white\", \"ticks\": \"\"}}, \"scene\": {\"xaxis\": {\"backgroundcolor\": \"#E5ECF6\", \"gridcolor\": \"white\", \"gridwidth\": 2, \"linecolor\": \"white\", \"showbackground\": true, \"ticks\": \"\", \"zerolinecolor\": \"white\"}, \"yaxis\": {\"backgroundcolor\": \"#E5ECF6\", \"gridcolor\": \"white\", \"gridwidth\": 2, \"linecolor\": \"white\", \"showbackground\": true, \"ticks\": \"\", \"zerolinecolor\": \"white\"}, \"zaxis\": {\"backgroundcolor\": \"#E5ECF6\", \"gridcolor\": \"white\", \"gridwidth\": 2, \"linecolor\": \"white\", \"showbackground\": true, \"ticks\": \"\", \"zerolinecolor\": \"white\"}}, \"shapedefaults\": {\"line\": {\"color\": \"#2a3f5f\"}}, \"ternary\": {\"aaxis\": {\"gridcolor\": \"white\", \"linecolor\": \"white\", \"ticks\": \"\"}, \"baxis\": {\"gridcolor\": \"white\", \"linecolor\": \"white\", \"ticks\": \"\"}, \"bgcolor\": \"#E5ECF6\", \"caxis\": {\"gridcolor\": \"white\", \"linecolor\": \"white\", \"ticks\": \"\"}}, \"title\": {\"x\": 0.05}, \"xaxis\": {\"automargin\": true, \"gridcolor\": \"white\", \"linecolor\": \"white\", \"ticks\": \"\", \"title\": {\"standoff\": 15}, \"zerolinecolor\": \"white\", \"zerolinewidth\": 2}, \"yaxis\": {\"automargin\": true, \"gridcolor\": \"white\", \"linecolor\": \"white\", \"ticks\": \"\", \"title\": {\"standoff\": 15}, \"zerolinecolor\": \"white\", \"zerolinewidth\": 2}}}, \"title\": {\"text\": \"Logistic Regression actual and predicted value relationship\"}, \"xaxis\": {\"anchor\": \"y\", \"domain\": [0.0, 1.0], \"title\": {\"text\": \"Actual\"}}, \"yaxis\": {\"anchor\": \"x\", \"domain\": [0.0, 1.0], \"title\": {\"text\": \"Predicted\"}}},\n",
              "                        {\"responsive\": true}\n",
              "                    ).then(function(){\n",
              "                            \n",
              "var gd = document.getElementById('6bf7c1dd-e43d-48ca-a835-7e697e02bd86');\n",
              "var x = new MutationObserver(function (mutations, observer) {{\n",
              "        var display = window.getComputedStyle(gd).display;\n",
              "        if (!display || display === 'none') {{\n",
              "            console.log([gd, 'removed!']);\n",
              "            Plotly.purge(gd);\n",
              "            observer.disconnect();\n",
              "        }}\n",
              "}});\n",
              "\n",
              "// Listen for the removal of the full notebook cells\n",
              "var notebookContainer = gd.closest('#notebook-container');\n",
              "if (notebookContainer) {{\n",
              "    x.observe(notebookContainer, {childList: true});\n",
              "}}\n",
              "\n",
              "// Listen for the clearing of the current output cell\n",
              "var outputEl = gd.closest('.output');\n",
              "if (outputEl) {{\n",
              "    x.observe(outputEl, {childList: true});\n",
              "}}\n",
              "\n",
              "                        })\n",
              "                };\n",
              "                \n",
              "            </script>\n",
              "        </div>\n",
              "</body>\n",
              "</html>"
            ]
          },
          "metadata": {
            "tags": []
          }
        }
      ]
    },
    {
      "cell_type": "code",
      "metadata": {
        "id": "F3uTt1k5-S9p",
        "colab_type": "code",
        "colab": {
          "base_uri": "https://localhost:8080/",
          "height": 542
        },
        "outputId": "c501488b-4a28-4834-c627-f7aafa0015df"
      },
      "source": [
        "z = confusion_matrix(y_test, log_predict)\n",
        "\n",
        "x = ['positive','neutral','negative']\n",
        "y =  ['positive','neutral','negative']\n",
        "\n",
        "# change each element of z to type string for annotations\n",
        "z_text = [[str(y) for y in x] for x in z]\n",
        "\n",
        "# figure \n",
        "fig = ff.create_annotated_heatmap(z, x=x, y=y, annotation_text=z_text, colorscale='Viridis')\n",
        "\n",
        "# title\n",
        "fig.update_layout(title_text='<i><b>Confusion Matrix for Logistic Regression</b></i>',\n",
        "                  #xaxis = dict(title='x'),\n",
        "                  #yaxis = dict(title='x')\n",
        "                 )\n",
        "\n",
        "# add custom xaxis title\n",
        "fig.add_annotation(dict(font=dict(color=\"black\",size=14),\n",
        "                        x=0.5,\n",
        "                        y=-0.15,\n",
        "                        showarrow=False,\n",
        "                        text=\"Predicted value\",\n",
        "                        xref=\"paper\",\n",
        "                        yref=\"paper\"))\n",
        "\n",
        "# add custom yaxis title\n",
        "fig.add_annotation(dict(font=dict(color=\"black\",size=14),\n",
        "                        x=-0.35,\n",
        "                        y=0.5,\n",
        "                        showarrow=False,\n",
        "                        text=\"Real value\",\n",
        "                        textangle=-90,\n",
        "                        xref=\"paper\",\n",
        "                        yref=\"paper\"))\n",
        "\n",
        "# adjust margins to make room for yaxis title\n",
        "fig.update_layout(margin=dict(t=50, l=200))\n",
        "\n",
        "# add colorbar\n",
        "fig['data'][0]['showscale'] = True\n",
        "fig.show()"
      ],
      "execution_count": null,
      "outputs": [
        {
          "output_type": "display_data",
          "data": {
            "text/html": [
              "<html>\n",
              "<head><meta charset=\"utf-8\" /></head>\n",
              "<body>\n",
              "    <div>\n",
              "            <script src=\"https://cdnjs.cloudflare.com/ajax/libs/mathjax/2.7.5/MathJax.js?config=TeX-AMS-MML_SVG\"></script><script type=\"text/javascript\">if (window.MathJax) {MathJax.Hub.Config({SVG: {font: \"STIX-Web\"}});}</script>\n",
              "                <script type=\"text/javascript\">window.PlotlyConfig = {MathJaxConfig: 'local'};</script>\n",
              "        <script src=\"https://cdn.plot.ly/plotly-latest.min.js\"></script>    \n",
              "            <div id=\"cc663430-0fe2-4745-9a5e-5cc1cf69e996\" class=\"plotly-graph-div\" style=\"height:525px; width:100%;\"></div>\n",
              "            <script type=\"text/javascript\">\n",
              "                \n",
              "                    window.PLOTLYENV=window.PLOTLYENV || {};\n",
              "                    \n",
              "                if (document.getElementById(\"cc663430-0fe2-4745-9a5e-5cc1cf69e996\")) {\n",
              "                    Plotly.newPlot(\n",
              "                        'cc663430-0fe2-4745-9a5e-5cc1cf69e996',\n",
              "                        [{\"colorscale\": [[0.0, \"#440154\"], [0.1111111111111111, \"#482878\"], [0.2222222222222222, \"#3e4989\"], [0.3333333333333333, \"#31688e\"], [0.4444444444444444, \"#26828e\"], [0.5555555555555556, \"#1f9e89\"], [0.6666666666666666, \"#35b779\"], [0.7777777777777778, \"#6ece58\"], [0.8888888888888888, \"#b5de2b\"], [1.0, \"#fde725\"]], \"reversescale\": false, \"showscale\": true, \"type\": \"heatmap\", \"x\": [\"positive\", \"neutral\", \"negative\"], \"y\": [\"positive\", \"neutral\", \"negative\"], \"z\": [[468, 443, 131], [153, 1464, 217], [91, 366, 713]]}],\n",
              "                        {\"annotations\": [{\"font\": {\"color\": \"#FFFFFF\"}, \"showarrow\": false, \"text\": \"468\", \"x\": \"positive\", \"xref\": \"x\", \"y\": \"positive\", \"yref\": \"y\"}, {\"font\": {\"color\": \"#FFFFFF\"}, \"showarrow\": false, \"text\": \"443\", \"x\": \"neutral\", \"xref\": \"x\", \"y\": \"positive\", \"yref\": \"y\"}, {\"font\": {\"color\": \"#FFFFFF\"}, \"showarrow\": false, \"text\": \"131\", \"x\": \"negative\", \"xref\": \"x\", \"y\": \"positive\", \"yref\": \"y\"}, {\"font\": {\"color\": \"#FFFFFF\"}, \"showarrow\": false, \"text\": \"153\", \"x\": \"positive\", \"xref\": \"x\", \"y\": \"neutral\", \"yref\": \"y\"}, {\"font\": {\"color\": \"#000000\"}, \"showarrow\": false, \"text\": \"1464\", \"x\": \"neutral\", \"xref\": \"x\", \"y\": \"neutral\", \"yref\": \"y\"}, {\"font\": {\"color\": \"#FFFFFF\"}, \"showarrow\": false, \"text\": \"217\", \"x\": \"negative\", \"xref\": \"x\", \"y\": \"neutral\", \"yref\": \"y\"}, {\"font\": {\"color\": \"#FFFFFF\"}, \"showarrow\": false, \"text\": \"91\", \"x\": \"positive\", \"xref\": \"x\", \"y\": \"negative\", \"yref\": \"y\"}, {\"font\": {\"color\": \"#FFFFFF\"}, \"showarrow\": false, \"text\": \"366\", \"x\": \"neutral\", \"xref\": \"x\", \"y\": \"negative\", \"yref\": \"y\"}, {\"font\": {\"color\": \"#FFFFFF\"}, \"showarrow\": false, \"text\": \"713\", \"x\": \"negative\", \"xref\": \"x\", \"y\": \"negative\", \"yref\": \"y\"}, {\"font\": {\"color\": \"black\", \"size\": 14}, \"showarrow\": false, \"text\": \"Predicted value\", \"x\": 0.5, \"xref\": \"paper\", \"y\": -0.15, \"yref\": \"paper\"}, {\"font\": {\"color\": \"black\", \"size\": 14}, \"showarrow\": false, \"text\": \"Real value\", \"textangle\": -90, \"x\": -0.35, \"xref\": \"paper\", \"y\": 0.5, \"yref\": \"paper\"}], \"margin\": {\"l\": 200, \"t\": 50}, \"template\": {\"data\": {\"bar\": [{\"error_x\": {\"color\": \"#2a3f5f\"}, \"error_y\": {\"color\": \"#2a3f5f\"}, \"marker\": {\"line\": {\"color\": \"#E5ECF6\", \"width\": 0.5}}, \"type\": \"bar\"}], \"barpolar\": [{\"marker\": {\"line\": {\"color\": \"#E5ECF6\", \"width\": 0.5}}, \"type\": \"barpolar\"}], \"carpet\": [{\"aaxis\": {\"endlinecolor\": \"#2a3f5f\", \"gridcolor\": \"white\", \"linecolor\": \"white\", \"minorgridcolor\": \"white\", \"startlinecolor\": \"#2a3f5f\"}, \"baxis\": {\"endlinecolor\": \"#2a3f5f\", \"gridcolor\": \"white\", \"linecolor\": \"white\", \"minorgridcolor\": \"white\", \"startlinecolor\": \"#2a3f5f\"}, \"type\": \"carpet\"}], \"choropleth\": [{\"colorbar\": {\"outlinewidth\": 0, \"ticks\": \"\"}, \"type\": \"choropleth\"}], \"contour\": [{\"colorbar\": {\"outlinewidth\": 0, \"ticks\": \"\"}, \"colorscale\": [[0.0, \"#0d0887\"], [0.1111111111111111, \"#46039f\"], [0.2222222222222222, \"#7201a8\"], [0.3333333333333333, \"#9c179e\"], [0.4444444444444444, \"#bd3786\"], [0.5555555555555556, \"#d8576b\"], [0.6666666666666666, \"#ed7953\"], [0.7777777777777778, \"#fb9f3a\"], [0.8888888888888888, \"#fdca26\"], [1.0, \"#f0f921\"]], \"type\": \"contour\"}], \"contourcarpet\": [{\"colorbar\": {\"outlinewidth\": 0, \"ticks\": \"\"}, \"type\": \"contourcarpet\"}], \"heatmap\": [{\"colorbar\": {\"outlinewidth\": 0, \"ticks\": \"\"}, \"colorscale\": [[0.0, \"#0d0887\"], [0.1111111111111111, \"#46039f\"], [0.2222222222222222, \"#7201a8\"], [0.3333333333333333, \"#9c179e\"], [0.4444444444444444, \"#bd3786\"], [0.5555555555555556, \"#d8576b\"], [0.6666666666666666, \"#ed7953\"], [0.7777777777777778, \"#fb9f3a\"], [0.8888888888888888, \"#fdca26\"], [1.0, \"#f0f921\"]], \"type\": \"heatmap\"}], \"heatmapgl\": [{\"colorbar\": {\"outlinewidth\": 0, \"ticks\": \"\"}, \"colorscale\": [[0.0, \"#0d0887\"], [0.1111111111111111, \"#46039f\"], [0.2222222222222222, \"#7201a8\"], [0.3333333333333333, \"#9c179e\"], [0.4444444444444444, \"#bd3786\"], [0.5555555555555556, \"#d8576b\"], [0.6666666666666666, \"#ed7953\"], [0.7777777777777778, \"#fb9f3a\"], [0.8888888888888888, \"#fdca26\"], [1.0, \"#f0f921\"]], \"type\": \"heatmapgl\"}], \"histogram\": [{\"marker\": {\"colorbar\": {\"outlinewidth\": 0, \"ticks\": \"\"}}, \"type\": \"histogram\"}], \"histogram2d\": [{\"colorbar\": {\"outlinewidth\": 0, \"ticks\": \"\"}, \"colorscale\": [[0.0, \"#0d0887\"], [0.1111111111111111, \"#46039f\"], [0.2222222222222222, \"#7201a8\"], [0.3333333333333333, \"#9c179e\"], [0.4444444444444444, \"#bd3786\"], [0.5555555555555556, \"#d8576b\"], [0.6666666666666666, \"#ed7953\"], [0.7777777777777778, \"#fb9f3a\"], [0.8888888888888888, \"#fdca26\"], [1.0, \"#f0f921\"]], \"type\": \"histogram2d\"}], \"histogram2dcontour\": [{\"colorbar\": {\"outlinewidth\": 0, \"ticks\": \"\"}, \"colorscale\": [[0.0, \"#0d0887\"], [0.1111111111111111, \"#46039f\"], [0.2222222222222222, \"#7201a8\"], [0.3333333333333333, \"#9c179e\"], [0.4444444444444444, \"#bd3786\"], [0.5555555555555556, \"#d8576b\"], [0.6666666666666666, \"#ed7953\"], [0.7777777777777778, \"#fb9f3a\"], [0.8888888888888888, \"#fdca26\"], [1.0, \"#f0f921\"]], \"type\": \"histogram2dcontour\"}], \"mesh3d\": [{\"colorbar\": {\"outlinewidth\": 0, \"ticks\": \"\"}, \"type\": \"mesh3d\"}], \"parcoords\": [{\"line\": {\"colorbar\": {\"outlinewidth\": 0, \"ticks\": \"\"}}, \"type\": \"parcoords\"}], \"pie\": [{\"automargin\": true, \"type\": \"pie\"}], \"scatter\": [{\"marker\": {\"colorbar\": {\"outlinewidth\": 0, \"ticks\": \"\"}}, \"type\": \"scatter\"}], \"scatter3d\": [{\"line\": {\"colorbar\": {\"outlinewidth\": 0, \"ticks\": \"\"}}, \"marker\": {\"colorbar\": {\"outlinewidth\": 0, \"ticks\": \"\"}}, \"type\": \"scatter3d\"}], \"scattercarpet\": [{\"marker\": {\"colorbar\": {\"outlinewidth\": 0, \"ticks\": \"\"}}, \"type\": \"scattercarpet\"}], \"scattergeo\": [{\"marker\": {\"colorbar\": {\"outlinewidth\": 0, \"ticks\": \"\"}}, \"type\": \"scattergeo\"}], \"scattergl\": [{\"marker\": {\"colorbar\": {\"outlinewidth\": 0, \"ticks\": \"\"}}, \"type\": \"scattergl\"}], \"scattermapbox\": [{\"marker\": {\"colorbar\": {\"outlinewidth\": 0, \"ticks\": \"\"}}, \"type\": \"scattermapbox\"}], \"scatterpolar\": [{\"marker\": {\"colorbar\": {\"outlinewidth\": 0, \"ticks\": \"\"}}, \"type\": \"scatterpolar\"}], \"scatterpolargl\": [{\"marker\": {\"colorbar\": {\"outlinewidth\": 0, \"ticks\": \"\"}}, \"type\": \"scatterpolargl\"}], \"scatterternary\": [{\"marker\": {\"colorbar\": {\"outlinewidth\": 0, \"ticks\": \"\"}}, \"type\": \"scatterternary\"}], \"surface\": [{\"colorbar\": {\"outlinewidth\": 0, \"ticks\": \"\"}, \"colorscale\": [[0.0, \"#0d0887\"], [0.1111111111111111, \"#46039f\"], [0.2222222222222222, \"#7201a8\"], [0.3333333333333333, \"#9c179e\"], [0.4444444444444444, \"#bd3786\"], [0.5555555555555556, \"#d8576b\"], [0.6666666666666666, \"#ed7953\"], [0.7777777777777778, \"#fb9f3a\"], [0.8888888888888888, \"#fdca26\"], [1.0, \"#f0f921\"]], \"type\": \"surface\"}], \"table\": [{\"cells\": {\"fill\": {\"color\": \"#EBF0F8\"}, \"line\": {\"color\": \"white\"}}, \"header\": {\"fill\": {\"color\": \"#C8D4E3\"}, \"line\": {\"color\": \"white\"}}, \"type\": \"table\"}]}, \"layout\": {\"annotationdefaults\": {\"arrowcolor\": \"#2a3f5f\", \"arrowhead\": 0, \"arrowwidth\": 1}, \"coloraxis\": {\"colorbar\": {\"outlinewidth\": 0, \"ticks\": \"\"}}, \"colorscale\": {\"diverging\": [[0, \"#8e0152\"], [0.1, \"#c51b7d\"], [0.2, \"#de77ae\"], [0.3, \"#f1b6da\"], [0.4, \"#fde0ef\"], [0.5, \"#f7f7f7\"], [0.6, \"#e6f5d0\"], [0.7, \"#b8e186\"], [0.8, \"#7fbc41\"], [0.9, \"#4d9221\"], [1, \"#276419\"]], \"sequential\": [[0.0, \"#0d0887\"], [0.1111111111111111, \"#46039f\"], [0.2222222222222222, \"#7201a8\"], [0.3333333333333333, \"#9c179e\"], [0.4444444444444444, \"#bd3786\"], [0.5555555555555556, \"#d8576b\"], [0.6666666666666666, \"#ed7953\"], [0.7777777777777778, \"#fb9f3a\"], [0.8888888888888888, \"#fdca26\"], [1.0, \"#f0f921\"]], \"sequentialminus\": [[0.0, \"#0d0887\"], [0.1111111111111111, \"#46039f\"], [0.2222222222222222, \"#7201a8\"], [0.3333333333333333, \"#9c179e\"], [0.4444444444444444, \"#bd3786\"], [0.5555555555555556, \"#d8576b\"], [0.6666666666666666, \"#ed7953\"], [0.7777777777777778, \"#fb9f3a\"], [0.8888888888888888, \"#fdca26\"], [1.0, \"#f0f921\"]]}, \"colorway\": [\"#636efa\", \"#EF553B\", \"#00cc96\", \"#ab63fa\", \"#FFA15A\", \"#19d3f3\", \"#FF6692\", \"#B6E880\", \"#FF97FF\", \"#FECB52\"], \"font\": {\"color\": \"#2a3f5f\"}, \"geo\": {\"bgcolor\": \"white\", \"lakecolor\": \"white\", \"landcolor\": \"#E5ECF6\", \"showlakes\": true, \"showland\": true, \"subunitcolor\": \"white\"}, \"hoverlabel\": {\"align\": \"left\"}, \"hovermode\": \"closest\", \"mapbox\": {\"style\": \"light\"}, \"paper_bgcolor\": \"white\", \"plot_bgcolor\": \"#E5ECF6\", \"polar\": {\"angularaxis\": {\"gridcolor\": \"white\", \"linecolor\": \"white\", \"ticks\": \"\"}, \"bgcolor\": \"#E5ECF6\", \"radialaxis\": {\"gridcolor\": \"white\", \"linecolor\": \"white\", \"ticks\": \"\"}}, \"scene\": {\"xaxis\": {\"backgroundcolor\": \"#E5ECF6\", \"gridcolor\": \"white\", \"gridwidth\": 2, \"linecolor\": \"white\", \"showbackground\": true, \"ticks\": \"\", \"zerolinecolor\": \"white\"}, \"yaxis\": {\"backgroundcolor\": \"#E5ECF6\", \"gridcolor\": \"white\", \"gridwidth\": 2, \"linecolor\": \"white\", \"showbackground\": true, \"ticks\": \"\", \"zerolinecolor\": \"white\"}, \"zaxis\": {\"backgroundcolor\": \"#E5ECF6\", \"gridcolor\": \"white\", \"gridwidth\": 2, \"linecolor\": \"white\", \"showbackground\": true, \"ticks\": \"\", \"zerolinecolor\": \"white\"}}, \"shapedefaults\": {\"line\": {\"color\": \"#2a3f5f\"}}, \"ternary\": {\"aaxis\": {\"gridcolor\": \"white\", \"linecolor\": \"white\", \"ticks\": \"\"}, \"baxis\": {\"gridcolor\": \"white\", \"linecolor\": \"white\", \"ticks\": \"\"}, \"bgcolor\": \"#E5ECF6\", \"caxis\": {\"gridcolor\": \"white\", \"linecolor\": \"white\", \"ticks\": \"\"}}, \"title\": {\"x\": 0.05}, \"xaxis\": {\"automargin\": true, \"gridcolor\": \"white\", \"linecolor\": \"white\", \"ticks\": \"\", \"title\": {\"standoff\": 15}, \"zerolinecolor\": \"white\", \"zerolinewidth\": 2}, \"yaxis\": {\"automargin\": true, \"gridcolor\": \"white\", \"linecolor\": \"white\", \"ticks\": \"\", \"title\": {\"standoff\": 15}, \"zerolinecolor\": \"white\", \"zerolinewidth\": 2}}}, \"title\": {\"text\": \"<i><b>Confusion Matrix for Logistic Regression</b></i>\"}, \"xaxis\": {\"dtick\": 1, \"gridcolor\": \"rgb(0, 0, 0)\", \"side\": \"top\", \"ticks\": \"\"}, \"yaxis\": {\"dtick\": 1, \"ticks\": \"\", \"ticksuffix\": \"  \"}},\n",
              "                        {\"responsive\": true}\n",
              "                    ).then(function(){\n",
              "                            \n",
              "var gd = document.getElementById('cc663430-0fe2-4745-9a5e-5cc1cf69e996');\n",
              "var x = new MutationObserver(function (mutations, observer) {{\n",
              "        var display = window.getComputedStyle(gd).display;\n",
              "        if (!display || display === 'none') {{\n",
              "            console.log([gd, 'removed!']);\n",
              "            Plotly.purge(gd);\n",
              "            observer.disconnect();\n",
              "        }}\n",
              "}});\n",
              "\n",
              "// Listen for the removal of the full notebook cells\n",
              "var notebookContainer = gd.closest('#notebook-container');\n",
              "if (notebookContainer) {{\n",
              "    x.observe(notebookContainer, {childList: true});\n",
              "}}\n",
              "\n",
              "// Listen for the clearing of the current output cell\n",
              "var outputEl = gd.closest('.output');\n",
              "if (outputEl) {{\n",
              "    x.observe(outputEl, {childList: true});\n",
              "}}\n",
              "\n",
              "                        })\n",
              "                };\n",
              "                \n",
              "            </script>\n",
              "        </div>\n",
              "</body>\n",
              "</html>"
            ]
          },
          "metadata": {
            "tags": []
          }
        }
      ]
    },
    {
      "cell_type": "code",
      "metadata": {
        "id": "ubn54Wv7ZiTl",
        "colab_type": "code",
        "colab": {
          "base_uri": "https://localhost:8080/",
          "height": 542
        },
        "outputId": "41146c13-ca99-4d4c-fe74-4467c0488157"
      },
      "source": [
        "z = confusion_matrix(y_test, svc_predict)\n",
        "\n",
        "x = ['positive','neutral','negative']\n",
        "y =  ['positive','neutral','negative']\n",
        "\n",
        "# change each element of z to type string for annotations\n",
        "z_text = [[str(y) for y in x] for x in z]\n",
        "\n",
        "# figure \n",
        "fig = ff.create_annotated_heatmap(z, x=x, y=y, annotation_text=z_text, colorscale='Viridis')\n",
        "\n",
        "# title\n",
        "fig.update_layout(title_text='<i><b>Confusion Matrix for SVC</b></i>',\n",
        "                  #xaxis = dict(title='x'),\n",
        "                  #yaxis = dict(title='x')\n",
        "                 )\n",
        "\n",
        "# add custom xaxis title\n",
        "fig.add_annotation(dict(font=dict(color=\"black\",size=14),\n",
        "                        x=0.5,\n",
        "                        y=-0.15,\n",
        "                        showarrow=False,\n",
        "                        text=\"Predicted value\",\n",
        "                        xref=\"paper\",\n",
        "                        yref=\"paper\"))\n",
        "\n",
        "# add custom yaxis title\n",
        "fig.add_annotation(dict(font=dict(color=\"black\",size=14),\n",
        "                        x=-0.35,\n",
        "                        y=0.5,\n",
        "                        showarrow=False,\n",
        "                        text=\"Real value\",\n",
        "                        textangle=-90,\n",
        "                        xref=\"paper\",\n",
        "                        yref=\"paper\"))\n",
        "\n",
        "# adjust margins to make room for yaxis title\n",
        "fig.update_layout(margin=dict(t=50, l=200))\n",
        "\n",
        "# add colorbar\n",
        "fig['data'][0]['showscale'] = True\n",
        "fig.show()"
      ],
      "execution_count": null,
      "outputs": [
        {
          "output_type": "display_data",
          "data": {
            "text/html": [
              "<html>\n",
              "<head><meta charset=\"utf-8\" /></head>\n",
              "<body>\n",
              "    <div>\n",
              "            <script src=\"https://cdnjs.cloudflare.com/ajax/libs/mathjax/2.7.5/MathJax.js?config=TeX-AMS-MML_SVG\"></script><script type=\"text/javascript\">if (window.MathJax) {MathJax.Hub.Config({SVG: {font: \"STIX-Web\"}});}</script>\n",
              "                <script type=\"text/javascript\">window.PlotlyConfig = {MathJaxConfig: 'local'};</script>\n",
              "        <script src=\"https://cdn.plot.ly/plotly-latest.min.js\"></script>    \n",
              "            <div id=\"9927bb23-77e7-4baf-bd5d-31cb1ad745d2\" class=\"plotly-graph-div\" style=\"height:525px; width:100%;\"></div>\n",
              "            <script type=\"text/javascript\">\n",
              "                \n",
              "                    window.PLOTLYENV=window.PLOTLYENV || {};\n",
              "                    \n",
              "                if (document.getElementById(\"9927bb23-77e7-4baf-bd5d-31cb1ad745d2\")) {\n",
              "                    Plotly.newPlot(\n",
              "                        '9927bb23-77e7-4baf-bd5d-31cb1ad745d2',\n",
              "                        [{\"colorscale\": [[0.0, \"#440154\"], [0.1111111111111111, \"#482878\"], [0.2222222222222222, \"#3e4989\"], [0.3333333333333333, \"#31688e\"], [0.4444444444444444, \"#26828e\"], [0.5555555555555556, \"#1f9e89\"], [0.6666666666666666, \"#35b779\"], [0.7777777777777778, \"#6ece58\"], [0.8888888888888888, \"#b5de2b\"], [1.0, \"#fde725\"]], \"reversescale\": false, \"showscale\": true, \"type\": \"heatmap\", \"x\": [\"positive\", \"neutral\", \"negative\"], \"y\": [\"positive\", \"neutral\", \"negative\"], \"z\": [[553, 372, 117], [173, 1432, 229], [102, 331, 737]]}],\n",
              "                        {\"annotations\": [{\"font\": {\"color\": \"#FFFFFF\"}, \"showarrow\": false, \"text\": \"553\", \"x\": \"positive\", \"xref\": \"x\", \"y\": \"positive\", \"yref\": \"y\"}, {\"font\": {\"color\": \"#FFFFFF\"}, \"showarrow\": false, \"text\": \"372\", \"x\": \"neutral\", \"xref\": \"x\", \"y\": \"positive\", \"yref\": \"y\"}, {\"font\": {\"color\": \"#FFFFFF\"}, \"showarrow\": false, \"text\": \"117\", \"x\": \"negative\", \"xref\": \"x\", \"y\": \"positive\", \"yref\": \"y\"}, {\"font\": {\"color\": \"#FFFFFF\"}, \"showarrow\": false, \"text\": \"173\", \"x\": \"positive\", \"xref\": \"x\", \"y\": \"neutral\", \"yref\": \"y\"}, {\"font\": {\"color\": \"#000000\"}, \"showarrow\": false, \"text\": \"1432\", \"x\": \"neutral\", \"xref\": \"x\", \"y\": \"neutral\", \"yref\": \"y\"}, {\"font\": {\"color\": \"#FFFFFF\"}, \"showarrow\": false, \"text\": \"229\", \"x\": \"negative\", \"xref\": \"x\", \"y\": \"neutral\", \"yref\": \"y\"}, {\"font\": {\"color\": \"#FFFFFF\"}, \"showarrow\": false, \"text\": \"102\", \"x\": \"positive\", \"xref\": \"x\", \"y\": \"negative\", \"yref\": \"y\"}, {\"font\": {\"color\": \"#FFFFFF\"}, \"showarrow\": false, \"text\": \"331\", \"x\": \"neutral\", \"xref\": \"x\", \"y\": \"negative\", \"yref\": \"y\"}, {\"font\": {\"color\": \"#FFFFFF\"}, \"showarrow\": false, \"text\": \"737\", \"x\": \"negative\", \"xref\": \"x\", \"y\": \"negative\", \"yref\": \"y\"}, {\"font\": {\"color\": \"black\", \"size\": 14}, \"showarrow\": false, \"text\": \"Predicted value\", \"x\": 0.5, \"xref\": \"paper\", \"y\": -0.15, \"yref\": \"paper\"}, {\"font\": {\"color\": \"black\", \"size\": 14}, \"showarrow\": false, \"text\": \"Real value\", \"textangle\": -90, \"x\": -0.35, \"xref\": \"paper\", \"y\": 0.5, \"yref\": \"paper\"}], \"margin\": {\"l\": 200, \"t\": 50}, \"template\": {\"data\": {\"bar\": [{\"error_x\": {\"color\": \"#2a3f5f\"}, \"error_y\": {\"color\": \"#2a3f5f\"}, \"marker\": {\"line\": {\"color\": \"#E5ECF6\", \"width\": 0.5}}, \"type\": \"bar\"}], \"barpolar\": [{\"marker\": {\"line\": {\"color\": \"#E5ECF6\", \"width\": 0.5}}, \"type\": \"barpolar\"}], \"carpet\": [{\"aaxis\": {\"endlinecolor\": \"#2a3f5f\", \"gridcolor\": \"white\", \"linecolor\": \"white\", \"minorgridcolor\": \"white\", \"startlinecolor\": \"#2a3f5f\"}, \"baxis\": {\"endlinecolor\": \"#2a3f5f\", \"gridcolor\": \"white\", \"linecolor\": \"white\", \"minorgridcolor\": \"white\", \"startlinecolor\": \"#2a3f5f\"}, \"type\": \"carpet\"}], \"choropleth\": [{\"colorbar\": {\"outlinewidth\": 0, \"ticks\": \"\"}, \"type\": \"choropleth\"}], \"contour\": [{\"colorbar\": {\"outlinewidth\": 0, \"ticks\": \"\"}, \"colorscale\": [[0.0, \"#0d0887\"], [0.1111111111111111, \"#46039f\"], [0.2222222222222222, \"#7201a8\"], [0.3333333333333333, \"#9c179e\"], [0.4444444444444444, \"#bd3786\"], [0.5555555555555556, \"#d8576b\"], [0.6666666666666666, \"#ed7953\"], [0.7777777777777778, \"#fb9f3a\"], [0.8888888888888888, \"#fdca26\"], [1.0, \"#f0f921\"]], \"type\": \"contour\"}], \"contourcarpet\": [{\"colorbar\": {\"outlinewidth\": 0, \"ticks\": \"\"}, \"type\": \"contourcarpet\"}], \"heatmap\": [{\"colorbar\": {\"outlinewidth\": 0, \"ticks\": \"\"}, \"colorscale\": [[0.0, \"#0d0887\"], [0.1111111111111111, \"#46039f\"], [0.2222222222222222, \"#7201a8\"], [0.3333333333333333, \"#9c179e\"], [0.4444444444444444, \"#bd3786\"], [0.5555555555555556, \"#d8576b\"], [0.6666666666666666, \"#ed7953\"], [0.7777777777777778, \"#fb9f3a\"], [0.8888888888888888, \"#fdca26\"], [1.0, \"#f0f921\"]], \"type\": \"heatmap\"}], \"heatmapgl\": [{\"colorbar\": {\"outlinewidth\": 0, \"ticks\": \"\"}, \"colorscale\": [[0.0, \"#0d0887\"], [0.1111111111111111, \"#46039f\"], [0.2222222222222222, \"#7201a8\"], [0.3333333333333333, \"#9c179e\"], [0.4444444444444444, \"#bd3786\"], [0.5555555555555556, \"#d8576b\"], [0.6666666666666666, \"#ed7953\"], [0.7777777777777778, \"#fb9f3a\"], [0.8888888888888888, \"#fdca26\"], [1.0, \"#f0f921\"]], \"type\": \"heatmapgl\"}], \"histogram\": [{\"marker\": {\"colorbar\": {\"outlinewidth\": 0, \"ticks\": \"\"}}, \"type\": \"histogram\"}], \"histogram2d\": [{\"colorbar\": {\"outlinewidth\": 0, \"ticks\": \"\"}, \"colorscale\": [[0.0, \"#0d0887\"], [0.1111111111111111, \"#46039f\"], [0.2222222222222222, \"#7201a8\"], [0.3333333333333333, \"#9c179e\"], [0.4444444444444444, \"#bd3786\"], [0.5555555555555556, \"#d8576b\"], [0.6666666666666666, \"#ed7953\"], [0.7777777777777778, \"#fb9f3a\"], [0.8888888888888888, \"#fdca26\"], [1.0, \"#f0f921\"]], \"type\": \"histogram2d\"}], \"histogram2dcontour\": [{\"colorbar\": {\"outlinewidth\": 0, \"ticks\": \"\"}, \"colorscale\": [[0.0, \"#0d0887\"], [0.1111111111111111, \"#46039f\"], [0.2222222222222222, \"#7201a8\"], [0.3333333333333333, \"#9c179e\"], [0.4444444444444444, \"#bd3786\"], [0.5555555555555556, \"#d8576b\"], [0.6666666666666666, \"#ed7953\"], [0.7777777777777778, \"#fb9f3a\"], [0.8888888888888888, \"#fdca26\"], [1.0, \"#f0f921\"]], \"type\": \"histogram2dcontour\"}], \"mesh3d\": [{\"colorbar\": {\"outlinewidth\": 0, \"ticks\": \"\"}, \"type\": \"mesh3d\"}], \"parcoords\": [{\"line\": {\"colorbar\": {\"outlinewidth\": 0, \"ticks\": \"\"}}, \"type\": \"parcoords\"}], \"pie\": [{\"automargin\": true, \"type\": \"pie\"}], \"scatter\": [{\"marker\": {\"colorbar\": {\"outlinewidth\": 0, \"ticks\": \"\"}}, \"type\": \"scatter\"}], \"scatter3d\": [{\"line\": {\"colorbar\": {\"outlinewidth\": 0, \"ticks\": \"\"}}, \"marker\": {\"colorbar\": {\"outlinewidth\": 0, \"ticks\": \"\"}}, \"type\": \"scatter3d\"}], \"scattercarpet\": [{\"marker\": {\"colorbar\": {\"outlinewidth\": 0, \"ticks\": \"\"}}, \"type\": \"scattercarpet\"}], \"scattergeo\": [{\"marker\": {\"colorbar\": {\"outlinewidth\": 0, \"ticks\": \"\"}}, \"type\": \"scattergeo\"}], \"scattergl\": [{\"marker\": {\"colorbar\": {\"outlinewidth\": 0, \"ticks\": \"\"}}, \"type\": \"scattergl\"}], \"scattermapbox\": [{\"marker\": {\"colorbar\": {\"outlinewidth\": 0, \"ticks\": \"\"}}, \"type\": \"scattermapbox\"}], \"scatterpolar\": [{\"marker\": {\"colorbar\": {\"outlinewidth\": 0, \"ticks\": \"\"}}, \"type\": \"scatterpolar\"}], \"scatterpolargl\": [{\"marker\": {\"colorbar\": {\"outlinewidth\": 0, \"ticks\": \"\"}}, \"type\": \"scatterpolargl\"}], \"scatterternary\": [{\"marker\": {\"colorbar\": {\"outlinewidth\": 0, \"ticks\": \"\"}}, \"type\": \"scatterternary\"}], \"surface\": [{\"colorbar\": {\"outlinewidth\": 0, \"ticks\": \"\"}, \"colorscale\": [[0.0, \"#0d0887\"], [0.1111111111111111, \"#46039f\"], [0.2222222222222222, \"#7201a8\"], [0.3333333333333333, \"#9c179e\"], [0.4444444444444444, \"#bd3786\"], [0.5555555555555556, \"#d8576b\"], [0.6666666666666666, \"#ed7953\"], [0.7777777777777778, \"#fb9f3a\"], [0.8888888888888888, \"#fdca26\"], [1.0, \"#f0f921\"]], \"type\": \"surface\"}], \"table\": [{\"cells\": {\"fill\": {\"color\": \"#EBF0F8\"}, \"line\": {\"color\": \"white\"}}, \"header\": {\"fill\": {\"color\": \"#C8D4E3\"}, \"line\": {\"color\": \"white\"}}, \"type\": \"table\"}]}, \"layout\": {\"annotationdefaults\": {\"arrowcolor\": \"#2a3f5f\", \"arrowhead\": 0, \"arrowwidth\": 1}, \"coloraxis\": {\"colorbar\": {\"outlinewidth\": 0, \"ticks\": \"\"}}, \"colorscale\": {\"diverging\": [[0, \"#8e0152\"], [0.1, \"#c51b7d\"], [0.2, \"#de77ae\"], [0.3, \"#f1b6da\"], [0.4, \"#fde0ef\"], [0.5, \"#f7f7f7\"], [0.6, \"#e6f5d0\"], [0.7, \"#b8e186\"], [0.8, \"#7fbc41\"], [0.9, \"#4d9221\"], [1, \"#276419\"]], \"sequential\": [[0.0, \"#0d0887\"], [0.1111111111111111, \"#46039f\"], [0.2222222222222222, \"#7201a8\"], [0.3333333333333333, \"#9c179e\"], [0.4444444444444444, \"#bd3786\"], [0.5555555555555556, \"#d8576b\"], [0.6666666666666666, \"#ed7953\"], [0.7777777777777778, \"#fb9f3a\"], [0.8888888888888888, \"#fdca26\"], [1.0, \"#f0f921\"]], \"sequentialminus\": [[0.0, \"#0d0887\"], [0.1111111111111111, \"#46039f\"], [0.2222222222222222, \"#7201a8\"], [0.3333333333333333, \"#9c179e\"], [0.4444444444444444, \"#bd3786\"], [0.5555555555555556, \"#d8576b\"], [0.6666666666666666, \"#ed7953\"], [0.7777777777777778, \"#fb9f3a\"], [0.8888888888888888, \"#fdca26\"], [1.0, \"#f0f921\"]]}, \"colorway\": [\"#636efa\", \"#EF553B\", \"#00cc96\", \"#ab63fa\", \"#FFA15A\", \"#19d3f3\", \"#FF6692\", \"#B6E880\", \"#FF97FF\", \"#FECB52\"], \"font\": {\"color\": \"#2a3f5f\"}, \"geo\": {\"bgcolor\": \"white\", \"lakecolor\": \"white\", \"landcolor\": \"#E5ECF6\", \"showlakes\": true, \"showland\": true, \"subunitcolor\": \"white\"}, \"hoverlabel\": {\"align\": \"left\"}, \"hovermode\": \"closest\", \"mapbox\": {\"style\": \"light\"}, \"paper_bgcolor\": \"white\", \"plot_bgcolor\": \"#E5ECF6\", \"polar\": {\"angularaxis\": {\"gridcolor\": \"white\", \"linecolor\": \"white\", \"ticks\": \"\"}, \"bgcolor\": \"#E5ECF6\", \"radialaxis\": {\"gridcolor\": \"white\", \"linecolor\": \"white\", \"ticks\": \"\"}}, \"scene\": {\"xaxis\": {\"backgroundcolor\": \"#E5ECF6\", \"gridcolor\": \"white\", \"gridwidth\": 2, \"linecolor\": \"white\", \"showbackground\": true, \"ticks\": \"\", \"zerolinecolor\": \"white\"}, \"yaxis\": {\"backgroundcolor\": \"#E5ECF6\", \"gridcolor\": \"white\", \"gridwidth\": 2, \"linecolor\": \"white\", \"showbackground\": true, \"ticks\": \"\", \"zerolinecolor\": \"white\"}, \"zaxis\": {\"backgroundcolor\": \"#E5ECF6\", \"gridcolor\": \"white\", \"gridwidth\": 2, \"linecolor\": \"white\", \"showbackground\": true, \"ticks\": \"\", \"zerolinecolor\": \"white\"}}, \"shapedefaults\": {\"line\": {\"color\": \"#2a3f5f\"}}, \"ternary\": {\"aaxis\": {\"gridcolor\": \"white\", \"linecolor\": \"white\", \"ticks\": \"\"}, \"baxis\": {\"gridcolor\": \"white\", \"linecolor\": \"white\", \"ticks\": \"\"}, \"bgcolor\": \"#E5ECF6\", \"caxis\": {\"gridcolor\": \"white\", \"linecolor\": \"white\", \"ticks\": \"\"}}, \"title\": {\"x\": 0.05}, \"xaxis\": {\"automargin\": true, \"gridcolor\": \"white\", \"linecolor\": \"white\", \"ticks\": \"\", \"title\": {\"standoff\": 15}, \"zerolinecolor\": \"white\", \"zerolinewidth\": 2}, \"yaxis\": {\"automargin\": true, \"gridcolor\": \"white\", \"linecolor\": \"white\", \"ticks\": \"\", \"title\": {\"standoff\": 15}, \"zerolinecolor\": \"white\", \"zerolinewidth\": 2}}}, \"title\": {\"text\": \"<i><b>Confusion Matrix for SVC</b></i>\"}, \"xaxis\": {\"dtick\": 1, \"gridcolor\": \"rgb(0, 0, 0)\", \"side\": \"top\", \"ticks\": \"\"}, \"yaxis\": {\"dtick\": 1, \"ticks\": \"\", \"ticksuffix\": \"  \"}},\n",
              "                        {\"responsive\": true}\n",
              "                    ).then(function(){\n",
              "                            \n",
              "var gd = document.getElementById('9927bb23-77e7-4baf-bd5d-31cb1ad745d2');\n",
              "var x = new MutationObserver(function (mutations, observer) {{\n",
              "        var display = window.getComputedStyle(gd).display;\n",
              "        if (!display || display === 'none') {{\n",
              "            console.log([gd, 'removed!']);\n",
              "            Plotly.purge(gd);\n",
              "            observer.disconnect();\n",
              "        }}\n",
              "}});\n",
              "\n",
              "// Listen for the removal of the full notebook cells\n",
              "var notebookContainer = gd.closest('#notebook-container');\n",
              "if (notebookContainer) {{\n",
              "    x.observe(notebookContainer, {childList: true});\n",
              "}}\n",
              "\n",
              "// Listen for the clearing of the current output cell\n",
              "var outputEl = gd.closest('.output');\n",
              "if (outputEl) {{\n",
              "    x.observe(outputEl, {childList: true});\n",
              "}}\n",
              "\n",
              "                        })\n",
              "                };\n",
              "                \n",
              "            </script>\n",
              "        </div>\n",
              "</body>\n",
              "</html>"
            ]
          },
          "metadata": {
            "tags": []
          }
        }
      ]
    },
    {
      "cell_type": "markdown",
      "metadata": {
        "id": "uuCYNZtVZiQp",
        "colab_type": "text"
      },
      "source": [
        "### Finalization\n",
        "\n",
        "By comparing and evaluating both the confusion matices and their differences, It's safe to say that both the values are not that different in terms of its actual and predicted values. Therefore the model that is best fit for this scenario is Support Vector Classifier."
      ]
    }
  ]
}